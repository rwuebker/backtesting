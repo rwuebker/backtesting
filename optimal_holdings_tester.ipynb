{
 "cells": [
  {
   "cell_type": "code",
   "execution_count": 1,
   "metadata": {},
   "outputs": [],
   "source": [
    "import datetime as dt\n",
    "import pandas as pd\n",
    "import alphalens as al\n",
    "import numpy as np\n",
    "import alphalens as al\n",
    "import cvxpy as cvx\n",
    "import os\n",
    "import sys\n",
    "import matplotlib.pyplot as plt\n",
    "import matplotlib.style as style\n",
    "from tqdm import tqdm\n",
    "from scipy.stats import gaussian_kde\n",
    "style.use('ggplot')\n",
    "plt.rcParams['figure.figsize'] = (14,8)\n",
    "\n",
    "mod_path = '/Users/richard.wuebker/Projects/price_data_utils'\n",
    "if mod_path not in sys.path:\n",
    "    sys.path.append(mod_path)\n",
    "\n",
    "libs_path = '/Users/richard.wuebker/Projects/backtesting/libs'\n",
    "if libs_path not in sys.path:\n",
    "    sys.path.append(libs_path)\n",
    "\n",
    "    \n",
    "from risk_model import RiskModelPCA\n",
    "from optimal_holdings import OptimalHoldings\n",
    "    \n",
    "from data_loader import DataLoader\n",
    "from mp_historical_prices import HistoricalPrices"
   ]
  },
  {
   "cell_type": "code",
   "execution_count": 2,
   "metadata": {},
   "outputs": [
    {
     "name": "stdout",
     "output_type": "stream",
     "text": [
      "Prediction Date: 2019-08-09\n"
     ]
    }
   ],
   "source": [
    "dl = DataLoader(prices_dir='../price_data_utils/prices', info_dir='../price_data_utils/info', \n",
    "                analysis_date_str='2019-08-07', cached_dir='../price_data_utils/cached')\n",
    "dl.load_data()\n",
    "data = dl.data"
   ]
  },
  {
   "cell_type": "code",
   "execution_count": 3,
   "metadata": {},
   "outputs": [
    {
     "data": {
      "text/html": [
       "<div>\n",
       "<style scoped>\n",
       "    .dataframe tbody tr th:only-of-type {\n",
       "        vertical-align: middle;\n",
       "    }\n",
       "\n",
       "    .dataframe tbody tr th {\n",
       "        vertical-align: top;\n",
       "    }\n",
       "\n",
       "    .dataframe thead th {\n",
       "        text-align: right;\n",
       "    }\n",
       "</style>\n",
       "<table border=\"1\" class=\"dataframe\">\n",
       "  <thead>\n",
       "    <tr style=\"text-align: right;\">\n",
       "      <th></th>\n",
       "      <th>index</th>\n",
       "      <th>Date</th>\n",
       "      <th>High</th>\n",
       "      <th>Low</th>\n",
       "      <th>Open</th>\n",
       "      <th>Close</th>\n",
       "      <th>Volume</th>\n",
       "      <th>Adj Close</th>\n",
       "      <th>ticker</th>\n",
       "    </tr>\n",
       "  </thead>\n",
       "  <tbody>\n",
       "  </tbody>\n",
       "</table>\n",
       "</div>"
      ],
      "text/plain": [
       "Empty DataFrame\n",
       "Columns: [index, Date, High, Low, Open, Close, Volume, Adj Close, ticker]\n",
       "Index: []"
      ]
     },
     "execution_count": 3,
     "metadata": {},
     "output_type": "execute_result"
    }
   ],
   "source": [
    "hp = HistoricalPrices(prices_dir='../price_data_utils/prices', \n",
    "                      cached_dir='../price_data_utils/cached',\n",
    "                      date_str='2019-08-09')\n",
    "hp.get_prices()\n",
    "prices = hp.prices\n",
    "\n",
    "# look for duplicates\n",
    "p = prices.reset_index()\n",
    "p.loc[p.duplicated(subset=['Date', 'ticker'], keep='first')]"
   ]
  },
  {
   "cell_type": "code",
   "execution_count": 4,
   "metadata": {},
   "outputs": [
    {
     "data": {
      "text/html": [
       "<div>\n",
       "<style scoped>\n",
       "    .dataframe tbody tr th:only-of-type {\n",
       "        vertical-align: middle;\n",
       "    }\n",
       "\n",
       "    .dataframe tbody tr th {\n",
       "        vertical-align: top;\n",
       "    }\n",
       "\n",
       "    .dataframe thead th {\n",
       "        text-align: right;\n",
       "    }\n",
       "</style>\n",
       "<table border=\"1\" class=\"dataframe\">\n",
       "  <thead>\n",
       "    <tr style=\"text-align: right;\">\n",
       "      <th></th>\n",
       "      <th>Date</th>\n",
       "      <th>High</th>\n",
       "      <th>Low</th>\n",
       "      <th>Open</th>\n",
       "      <th>Close</th>\n",
       "      <th>Volume</th>\n",
       "      <th>Adj Close</th>\n",
       "      <th>ticker</th>\n",
       "    </tr>\n",
       "  </thead>\n",
       "  <tbody>\n",
       "    <tr>\n",
       "      <th>0</th>\n",
       "      <td>1990-01-02</td>\n",
       "      <td>17.947027</td>\n",
       "      <td>17.527565</td>\n",
       "      <td>17.557526</td>\n",
       "      <td>17.947027</td>\n",
       "      <td>626200.0</td>\n",
       "      <td>7.267582</td>\n",
       "      <td>KMB</td>\n",
       "    </tr>\n",
       "    <tr>\n",
       "      <th>1</th>\n",
       "      <td>1990-01-03</td>\n",
       "      <td>17.976990</td>\n",
       "      <td>17.827181</td>\n",
       "      <td>17.976990</td>\n",
       "      <td>17.887104</td>\n",
       "      <td>749200.0</td>\n",
       "      <td>7.243319</td>\n",
       "      <td>KMB</td>\n",
       "    </tr>\n",
       "    <tr>\n",
       "      <th>2</th>\n",
       "      <td>1990-01-04</td>\n",
       "      <td>17.976990</td>\n",
       "      <td>17.797220</td>\n",
       "      <td>17.857143</td>\n",
       "      <td>17.857143</td>\n",
       "      <td>439700.0</td>\n",
       "      <td>7.231189</td>\n",
       "      <td>KMB</td>\n",
       "    </tr>\n",
       "    <tr>\n",
       "      <th>3</th>\n",
       "      <td>1990-01-05</td>\n",
       "      <td>17.857143</td>\n",
       "      <td>17.617449</td>\n",
       "      <td>17.797220</td>\n",
       "      <td>17.737297</td>\n",
       "      <td>712500.0</td>\n",
       "      <td>7.182656</td>\n",
       "      <td>KMB</td>\n",
       "    </tr>\n",
       "    <tr>\n",
       "      <th>4</th>\n",
       "      <td>1990-01-08</td>\n",
       "      <td>17.917067</td>\n",
       "      <td>17.707335</td>\n",
       "      <td>17.737297</td>\n",
       "      <td>17.917067</td>\n",
       "      <td>495600.0</td>\n",
       "      <td>7.255455</td>\n",
       "      <td>KMB</td>\n",
       "    </tr>\n",
       "  </tbody>\n",
       "</table>\n",
       "</div>"
      ],
      "text/plain": [
       "         Date       High        Low       Open      Close    Volume  \\\n",
       "0  1990-01-02  17.947027  17.527565  17.557526  17.947027  626200.0   \n",
       "1  1990-01-03  17.976990  17.827181  17.976990  17.887104  749200.0   \n",
       "2  1990-01-04  17.976990  17.797220  17.857143  17.857143  439700.0   \n",
       "3  1990-01-05  17.857143  17.617449  17.797220  17.737297  712500.0   \n",
       "4  1990-01-08  17.917067  17.707335  17.737297  17.917067  495600.0   \n",
       "\n",
       "   Adj Close ticker  \n",
       "0   7.267582    KMB  \n",
       "1   7.243319    KMB  \n",
       "2   7.231189    KMB  \n",
       "3   7.182656    KMB  \n",
       "4   7.255455    KMB  "
      ]
     },
     "execution_count": 4,
     "metadata": {},
     "output_type": "execute_result"
    }
   ],
   "source": [
    "prices.head()"
   ]
  },
  {
   "cell_type": "code",
   "execution_count": 5,
   "metadata": {},
   "outputs": [],
   "source": [
    "def transform_prices(df, end_date_str):\n",
    "    prices_temp = df.pivot(index='Date', columns='ticker', values='Adj Close')\n",
    "    end_date = dt.datetime.strptime(end_date_str, '%Y-%m-%d')\n",
    "    start_date = end_date - pd.DateOffset(years=5)\n",
    "    prices_temp.index = pd.to_datetime(prices_temp.index)\n",
    "    prices = prices_temp.loc[start_date:end_date]\n",
    "    return prices.dropna(axis=1)\n",
    "new_p = transform_prices(prices, '2016-01-05')"
   ]
  },
  {
   "cell_type": "code",
   "execution_count": 6,
   "metadata": {},
   "outputs": [],
   "source": [
    "# to make the index of data we have with sector the same as in returns and prices\n",
    "\n",
    "sector_data = data['sector']\n",
    "index_ = sector_data.index.intersection(new_p.columns)\n",
    "sector_data = sector_data.loc[index_]\n",
    "p = new_p.loc[:, index_].copy() # to use only the stocks that are in sector_data\n",
    "sectors = sector_data.unique()"
   ]
  },
  {
   "cell_type": "code",
   "execution_count": 7,
   "metadata": {},
   "outputs": [
    {
     "name": "stdout",
     "output_type": "stream",
     "text": [
      "(1257, 741)\n",
      "(741,)\n",
      "(1258, 741)\n"
     ]
    }
   ],
   "source": [
    "returns = p.pct_change().drop(p.index[0])\n",
    "print(returns.shape)\n",
    "print(sector_data.shape)\n",
    "print(p.shape)"
   ]
  },
  {
   "cell_type": "code",
   "execution_count": 8,
   "metadata": {},
   "outputs": [
    {
     "data": {
      "text/html": [
       "<div>\n",
       "<style scoped>\n",
       "    .dataframe tbody tr th:only-of-type {\n",
       "        vertical-align: middle;\n",
       "    }\n",
       "\n",
       "    .dataframe tbody tr th {\n",
       "        vertical-align: top;\n",
       "    }\n",
       "\n",
       "    .dataframe thead th {\n",
       "        text-align: right;\n",
       "    }\n",
       "</style>\n",
       "<table border=\"1\" class=\"dataframe\">\n",
       "  <thead>\n",
       "    <tr style=\"text-align: right;\">\n",
       "      <th>ticker</th>\n",
       "      <th>CSCO</th>\n",
       "      <th>UAL</th>\n",
       "      <th>TROW</th>\n",
       "      <th>ISRG</th>\n",
       "      <th>NVR</th>\n",
       "      <th>PRGO</th>\n",
       "      <th>LECO</th>\n",
       "      <th>TPR</th>\n",
       "      <th>DVN</th>\n",
       "      <th>CR</th>\n",
       "      <th>...</th>\n",
       "      <th>PGR</th>\n",
       "      <th>WAT</th>\n",
       "      <th>NNN</th>\n",
       "      <th>IEX</th>\n",
       "      <th>LRCX</th>\n",
       "      <th>NUS</th>\n",
       "      <th>NWL</th>\n",
       "      <th>UAA</th>\n",
       "      <th>BLK</th>\n",
       "      <th>PPL</th>\n",
       "    </tr>\n",
       "    <tr>\n",
       "      <th>Date</th>\n",
       "      <th></th>\n",
       "      <th></th>\n",
       "      <th></th>\n",
       "      <th></th>\n",
       "      <th></th>\n",
       "      <th></th>\n",
       "      <th></th>\n",
       "      <th></th>\n",
       "      <th></th>\n",
       "      <th></th>\n",
       "      <th></th>\n",
       "      <th></th>\n",
       "      <th></th>\n",
       "      <th></th>\n",
       "      <th></th>\n",
       "      <th></th>\n",
       "      <th></th>\n",
       "      <th></th>\n",
       "      <th></th>\n",
       "      <th></th>\n",
       "      <th></th>\n",
       "    </tr>\n",
       "  </thead>\n",
       "  <tbody>\n",
       "    <tr>\n",
       "      <th>2011-01-05</th>\n",
       "      <td>16.319235</td>\n",
       "      <td>25.350000</td>\n",
       "      <td>50.676487</td>\n",
       "      <td>91.209999</td>\n",
       "      <td>692.690002</td>\n",
       "      <td>59.998005</td>\n",
       "      <td>28.536177</td>\n",
       "      <td>40.534866</td>\n",
       "      <td>70.415245</td>\n",
       "      <td>34.523262</td>\n",
       "      <td>...</td>\n",
       "      <td>14.976269</td>\n",
       "      <td>77.790001</td>\n",
       "      <td>17.154980</td>\n",
       "      <td>33.694031</td>\n",
       "      <td>43.528183</td>\n",
       "      <td>23.909542</td>\n",
       "      <td>14.824180</td>\n",
       "      <td>6.94250</td>\n",
       "      <td>151.752335</td>\n",
       "      <td>16.587673</td>\n",
       "    </tr>\n",
       "    <tr>\n",
       "      <th>2011-01-06</th>\n",
       "      <td>16.460661</td>\n",
       "      <td>25.750000</td>\n",
       "      <td>50.676487</td>\n",
       "      <td>89.559998</td>\n",
       "      <td>718.400024</td>\n",
       "      <td>62.723892</td>\n",
       "      <td>28.326279</td>\n",
       "      <td>40.797176</td>\n",
       "      <td>69.994743</td>\n",
       "      <td>34.397305</td>\n",
       "      <td>...</td>\n",
       "      <td>14.842355</td>\n",
       "      <td>76.050003</td>\n",
       "      <td>16.839489</td>\n",
       "      <td>33.711502</td>\n",
       "      <td>43.555824</td>\n",
       "      <td>23.958487</td>\n",
       "      <td>14.856651</td>\n",
       "      <td>6.83000</td>\n",
       "      <td>150.116272</td>\n",
       "      <td>16.470205</td>\n",
       "    </tr>\n",
       "    <tr>\n",
       "      <th>2011-01-07</th>\n",
       "      <td>16.476372</td>\n",
       "      <td>25.950001</td>\n",
       "      <td>50.264294</td>\n",
       "      <td>89.133331</td>\n",
       "      <td>735.150024</td>\n",
       "      <td>62.590939</td>\n",
       "      <td>28.334854</td>\n",
       "      <td>40.758602</td>\n",
       "      <td>70.200493</td>\n",
       "      <td>34.976746</td>\n",
       "      <td>...</td>\n",
       "      <td>14.686119</td>\n",
       "      <td>75.209999</td>\n",
       "      <td>16.681742</td>\n",
       "      <td>33.589188</td>\n",
       "      <td>43.472923</td>\n",
       "      <td>24.031902</td>\n",
       "      <td>14.669928</td>\n",
       "      <td>6.69375</td>\n",
       "      <td>148.875351</td>\n",
       "      <td>16.315643</td>\n",
       "    </tr>\n",
       "    <tr>\n",
       "      <th>2011-01-10</th>\n",
       "      <td>16.334949</td>\n",
       "      <td>26.200001</td>\n",
       "      <td>50.342079</td>\n",
       "      <td>90.526665</td>\n",
       "      <td>749.960022</td>\n",
       "      <td>62.932850</td>\n",
       "      <td>28.647541</td>\n",
       "      <td>41.267784</td>\n",
       "      <td>70.057358</td>\n",
       "      <td>35.111115</td>\n",
       "      <td>...</td>\n",
       "      <td>14.358768</td>\n",
       "      <td>74.680000</td>\n",
       "      <td>16.497704</td>\n",
       "      <td>33.807583</td>\n",
       "      <td>44.891319</td>\n",
       "      <td>24.553984</td>\n",
       "      <td>14.678050</td>\n",
       "      <td>6.90250</td>\n",
       "      <td>151.096298</td>\n",
       "      <td>16.290915</td>\n",
       "    </tr>\n",
       "    <tr>\n",
       "      <th>2011-01-11</th>\n",
       "      <td>16.405655</td>\n",
       "      <td>25.690001</td>\n",
       "      <td>50.715374</td>\n",
       "      <td>93.663330</td>\n",
       "      <td>751.900024</td>\n",
       "      <td>63.474232</td>\n",
       "      <td>29.354307</td>\n",
       "      <td>41.653553</td>\n",
       "      <td>72.347855</td>\n",
       "      <td>35.279057</td>\n",
       "      <td>...</td>\n",
       "      <td>14.336452</td>\n",
       "      <td>76.300003</td>\n",
       "      <td>16.333384</td>\n",
       "      <td>33.982292</td>\n",
       "      <td>45.572895</td>\n",
       "      <td>24.456089</td>\n",
       "      <td>14.507563</td>\n",
       "      <td>6.79875</td>\n",
       "      <td>152.874680</td>\n",
       "      <td>16.303284</td>\n",
       "    </tr>\n",
       "  </tbody>\n",
       "</table>\n",
       "<p>5 rows × 741 columns</p>\n",
       "</div>"
      ],
      "text/plain": [
       "ticker           CSCO        UAL       TROW       ISRG         NVR       PRGO  \\\n",
       "Date                                                                            \n",
       "2011-01-05  16.319235  25.350000  50.676487  91.209999  692.690002  59.998005   \n",
       "2011-01-06  16.460661  25.750000  50.676487  89.559998  718.400024  62.723892   \n",
       "2011-01-07  16.476372  25.950001  50.264294  89.133331  735.150024  62.590939   \n",
       "2011-01-10  16.334949  26.200001  50.342079  90.526665  749.960022  62.932850   \n",
       "2011-01-11  16.405655  25.690001  50.715374  93.663330  751.900024  63.474232   \n",
       "\n",
       "ticker           LECO        TPR        DVN         CR    ...            PGR  \\\n",
       "Date                                                      ...                  \n",
       "2011-01-05  28.536177  40.534866  70.415245  34.523262    ...      14.976269   \n",
       "2011-01-06  28.326279  40.797176  69.994743  34.397305    ...      14.842355   \n",
       "2011-01-07  28.334854  40.758602  70.200493  34.976746    ...      14.686119   \n",
       "2011-01-10  28.647541  41.267784  70.057358  35.111115    ...      14.358768   \n",
       "2011-01-11  29.354307  41.653553  72.347855  35.279057    ...      14.336452   \n",
       "\n",
       "ticker            WAT        NNN        IEX       LRCX        NUS        NWL  \\\n",
       "Date                                                                           \n",
       "2011-01-05  77.790001  17.154980  33.694031  43.528183  23.909542  14.824180   \n",
       "2011-01-06  76.050003  16.839489  33.711502  43.555824  23.958487  14.856651   \n",
       "2011-01-07  75.209999  16.681742  33.589188  43.472923  24.031902  14.669928   \n",
       "2011-01-10  74.680000  16.497704  33.807583  44.891319  24.553984  14.678050   \n",
       "2011-01-11  76.300003  16.333384  33.982292  45.572895  24.456089  14.507563   \n",
       "\n",
       "ticker          UAA         BLK        PPL  \n",
       "Date                                        \n",
       "2011-01-05  6.94250  151.752335  16.587673  \n",
       "2011-01-06  6.83000  150.116272  16.470205  \n",
       "2011-01-07  6.69375  148.875351  16.315643  \n",
       "2011-01-10  6.90250  151.096298  16.290915  \n",
       "2011-01-11  6.79875  152.874680  16.303284  \n",
       "\n",
       "[5 rows x 741 columns]"
      ]
     },
     "execution_count": 8,
     "metadata": {},
     "output_type": "execute_result"
    }
   ],
   "source": [
    "p.head()"
   ]
  },
  {
   "cell_type": "code",
   "execution_count": 9,
   "metadata": {},
   "outputs": [
    {
     "data": {
      "text/html": [
       "<div>\n",
       "<style scoped>\n",
       "    .dataframe tbody tr th:only-of-type {\n",
       "        vertical-align: middle;\n",
       "    }\n",
       "\n",
       "    .dataframe tbody tr th {\n",
       "        vertical-align: top;\n",
       "    }\n",
       "\n",
       "    .dataframe thead th {\n",
       "        text-align: right;\n",
       "    }\n",
       "</style>\n",
       "<table border=\"1\" class=\"dataframe\">\n",
       "  <thead>\n",
       "    <tr style=\"text-align: right;\">\n",
       "      <th>ticker</th>\n",
       "      <th>CSCO</th>\n",
       "      <th>UAL</th>\n",
       "      <th>TROW</th>\n",
       "      <th>ISRG</th>\n",
       "      <th>NVR</th>\n",
       "      <th>PRGO</th>\n",
       "      <th>LECO</th>\n",
       "      <th>TPR</th>\n",
       "      <th>DVN</th>\n",
       "      <th>CR</th>\n",
       "      <th>...</th>\n",
       "      <th>PGR</th>\n",
       "      <th>WAT</th>\n",
       "      <th>NNN</th>\n",
       "      <th>IEX</th>\n",
       "      <th>LRCX</th>\n",
       "      <th>NUS</th>\n",
       "      <th>NWL</th>\n",
       "      <th>UAA</th>\n",
       "      <th>BLK</th>\n",
       "      <th>PPL</th>\n",
       "    </tr>\n",
       "    <tr>\n",
       "      <th>Date</th>\n",
       "      <th></th>\n",
       "      <th></th>\n",
       "      <th></th>\n",
       "      <th></th>\n",
       "      <th></th>\n",
       "      <th></th>\n",
       "      <th></th>\n",
       "      <th></th>\n",
       "      <th></th>\n",
       "      <th></th>\n",
       "      <th></th>\n",
       "      <th></th>\n",
       "      <th></th>\n",
       "      <th></th>\n",
       "      <th></th>\n",
       "      <th></th>\n",
       "      <th></th>\n",
       "      <th></th>\n",
       "      <th></th>\n",
       "      <th></th>\n",
       "      <th></th>\n",
       "    </tr>\n",
       "  </thead>\n",
       "  <tbody>\n",
       "    <tr>\n",
       "      <th>2015-12-29</th>\n",
       "      <td>24.640928</td>\n",
       "      <td>59.299999</td>\n",
       "      <td>66.267441</td>\n",
       "      <td>184.456665</td>\n",
       "      <td>1650.000000</td>\n",
       "      <td>141.577072</td>\n",
       "      <td>48.883698</td>\n",
       "      <td>29.317432</td>\n",
       "      <td>31.023300</td>\n",
       "      <td>45.610756</td>\n",
       "      <td>...</td>\n",
       "      <td>29.112070</td>\n",
       "      <td>136.169998</td>\n",
       "      <td>34.340061</td>\n",
       "      <td>73.815681</td>\n",
       "      <td>75.976669</td>\n",
       "      <td>35.107853</td>\n",
       "      <td>39.816341</td>\n",
       "      <td>41.125000</td>\n",
       "      <td>314.309814</td>\n",
       "      <td>29.093164</td>\n",
       "    </tr>\n",
       "    <tr>\n",
       "      <th>2015-12-30</th>\n",
       "      <td>24.427971</td>\n",
       "      <td>57.509998</td>\n",
       "      <td>65.351830</td>\n",
       "      <td>184.169998</td>\n",
       "      <td>1649.540039</td>\n",
       "      <td>140.273254</td>\n",
       "      <td>48.753433</td>\n",
       "      <td>29.024263</td>\n",
       "      <td>29.830099</td>\n",
       "      <td>45.245197</td>\n",
       "      <td>...</td>\n",
       "      <td>28.986509</td>\n",
       "      <td>135.639999</td>\n",
       "      <td>34.271770</td>\n",
       "      <td>73.255249</td>\n",
       "      <td>75.430962</td>\n",
       "      <td>35.071419</td>\n",
       "      <td>39.375340</td>\n",
       "      <td>40.480000</td>\n",
       "      <td>312.891907</td>\n",
       "      <td>29.008694</td>\n",
       "    </tr>\n",
       "    <tr>\n",
       "      <th>2015-12-31</th>\n",
       "      <td>24.099659</td>\n",
       "      <td>57.299999</td>\n",
       "      <td>64.807915</td>\n",
       "      <td>182.053329</td>\n",
       "      <td>1643.000000</td>\n",
       "      <td>139.751724</td>\n",
       "      <td>48.278931</td>\n",
       "      <td>29.077566</td>\n",
       "      <td>30.792358</td>\n",
       "      <td>44.842140</td>\n",
       "      <td>...</td>\n",
       "      <td>28.520142</td>\n",
       "      <td>134.580002</td>\n",
       "      <td>34.186417</td>\n",
       "      <td>72.770805</td>\n",
       "      <td>74.725288</td>\n",
       "      <td>34.515739</td>\n",
       "      <td>39.672337</td>\n",
       "      <td>40.305000</td>\n",
       "      <td>311.492279</td>\n",
       "      <td>28.831297</td>\n",
       "    </tr>\n",
       "    <tr>\n",
       "      <th>2016-01-04</th>\n",
       "      <td>23.616772</td>\n",
       "      <td>55.610001</td>\n",
       "      <td>63.629417</td>\n",
       "      <td>182.463333</td>\n",
       "      <td>1555.660034</td>\n",
       "      <td>137.626907</td>\n",
       "      <td>48.325451</td>\n",
       "      <td>29.886017</td>\n",
       "      <td>31.100277</td>\n",
       "      <td>44.710915</td>\n",
       "      <td>...</td>\n",
       "      <td>27.910280</td>\n",
       "      <td>130.350006</td>\n",
       "      <td>33.768162</td>\n",
       "      <td>71.944405</td>\n",
       "      <td>73.135201</td>\n",
       "      <td>34.415535</td>\n",
       "      <td>39.096333</td>\n",
       "      <td>39.830002</td>\n",
       "      <td>304.704834</td>\n",
       "      <td>28.451166</td>\n",
       "    </tr>\n",
       "    <tr>\n",
       "      <th>2016-01-05</th>\n",
       "      <td>23.509462</td>\n",
       "      <td>55.060001</td>\n",
       "      <td>63.892326</td>\n",
       "      <td>183.986664</td>\n",
       "      <td>1594.089966</td>\n",
       "      <td>137.800766</td>\n",
       "      <td>48.167278</td>\n",
       "      <td>30.179193</td>\n",
       "      <td>31.591042</td>\n",
       "      <td>44.542198</td>\n",
       "      <td>...</td>\n",
       "      <td>28.170368</td>\n",
       "      <td>129.809998</td>\n",
       "      <td>34.382748</td>\n",
       "      <td>71.241478</td>\n",
       "      <td>73.530373</td>\n",
       "      <td>33.559250</td>\n",
       "      <td>39.078335</td>\n",
       "      <td>40.075001</td>\n",
       "      <td>305.491516</td>\n",
       "      <td>28.755270</td>\n",
       "    </tr>\n",
       "  </tbody>\n",
       "</table>\n",
       "<p>5 rows × 741 columns</p>\n",
       "</div>"
      ],
      "text/plain": [
       "ticker           CSCO        UAL       TROW        ISRG          NVR  \\\n",
       "Date                                                                   \n",
       "2015-12-29  24.640928  59.299999  66.267441  184.456665  1650.000000   \n",
       "2015-12-30  24.427971  57.509998  65.351830  184.169998  1649.540039   \n",
       "2015-12-31  24.099659  57.299999  64.807915  182.053329  1643.000000   \n",
       "2016-01-04  23.616772  55.610001  63.629417  182.463333  1555.660034   \n",
       "2016-01-05  23.509462  55.060001  63.892326  183.986664  1594.089966   \n",
       "\n",
       "ticker            PRGO       LECO        TPR        DVN         CR    ...      \\\n",
       "Date                                                                  ...       \n",
       "2015-12-29  141.577072  48.883698  29.317432  31.023300  45.610756    ...       \n",
       "2015-12-30  140.273254  48.753433  29.024263  29.830099  45.245197    ...       \n",
       "2015-12-31  139.751724  48.278931  29.077566  30.792358  44.842140    ...       \n",
       "2016-01-04  137.626907  48.325451  29.886017  31.100277  44.710915    ...       \n",
       "2016-01-05  137.800766  48.167278  30.179193  31.591042  44.542198    ...       \n",
       "\n",
       "ticker            PGR         WAT        NNN        IEX       LRCX        NUS  \\\n",
       "Date                                                                            \n",
       "2015-12-29  29.112070  136.169998  34.340061  73.815681  75.976669  35.107853   \n",
       "2015-12-30  28.986509  135.639999  34.271770  73.255249  75.430962  35.071419   \n",
       "2015-12-31  28.520142  134.580002  34.186417  72.770805  74.725288  34.515739   \n",
       "2016-01-04  27.910280  130.350006  33.768162  71.944405  73.135201  34.415535   \n",
       "2016-01-05  28.170368  129.809998  34.382748  71.241478  73.530373  33.559250   \n",
       "\n",
       "ticker            NWL        UAA         BLK        PPL  \n",
       "Date                                                     \n",
       "2015-12-29  39.816341  41.125000  314.309814  29.093164  \n",
       "2015-12-30  39.375340  40.480000  312.891907  29.008694  \n",
       "2015-12-31  39.672337  40.305000  311.492279  28.831297  \n",
       "2016-01-04  39.096333  39.830002  304.704834  28.451166  \n",
       "2016-01-05  39.078335  40.075001  305.491516  28.755270  \n",
       "\n",
       "[5 rows x 741 columns]"
      ]
     },
     "execution_count": 9,
     "metadata": {},
     "output_type": "execute_result"
    }
   ],
   "source": [
    "p.tail()"
   ]
  },
  {
   "cell_type": "code",
   "execution_count": 10,
   "metadata": {},
   "outputs": [
    {
     "name": "stdout",
     "output_type": "stream",
     "text": [
      "(249, 741)\n"
     ]
    },
    {
     "data": {
      "text/html": [
       "<div>\n",
       "<style scoped>\n",
       "    .dataframe tbody tr th:only-of-type {\n",
       "        vertical-align: middle;\n",
       "    }\n",
       "\n",
       "    .dataframe tbody tr th {\n",
       "        vertical-align: top;\n",
       "    }\n",
       "\n",
       "    .dataframe thead th {\n",
       "        text-align: right;\n",
       "    }\n",
       "</style>\n",
       "<table border=\"1\" class=\"dataframe\">\n",
       "  <thead>\n",
       "    <tr style=\"text-align: right;\">\n",
       "      <th>ticker</th>\n",
       "      <th>CSCO</th>\n",
       "      <th>UAL</th>\n",
       "      <th>TROW</th>\n",
       "      <th>ISRG</th>\n",
       "      <th>NVR</th>\n",
       "      <th>PRGO</th>\n",
       "      <th>LECO</th>\n",
       "      <th>TPR</th>\n",
       "      <th>DVN</th>\n",
       "      <th>CR</th>\n",
       "      <th>...</th>\n",
       "      <th>PGR</th>\n",
       "      <th>WAT</th>\n",
       "      <th>NNN</th>\n",
       "      <th>IEX</th>\n",
       "      <th>LRCX</th>\n",
       "      <th>NUS</th>\n",
       "      <th>NWL</th>\n",
       "      <th>UAA</th>\n",
       "      <th>BLK</th>\n",
       "      <th>PPL</th>\n",
       "    </tr>\n",
       "    <tr>\n",
       "      <th>Date</th>\n",
       "      <th></th>\n",
       "      <th></th>\n",
       "      <th></th>\n",
       "      <th></th>\n",
       "      <th></th>\n",
       "      <th></th>\n",
       "      <th></th>\n",
       "      <th></th>\n",
       "      <th></th>\n",
       "      <th></th>\n",
       "      <th></th>\n",
       "      <th></th>\n",
       "      <th></th>\n",
       "      <th></th>\n",
       "      <th></th>\n",
       "      <th></th>\n",
       "      <th></th>\n",
       "      <th></th>\n",
       "      <th></th>\n",
       "      <th></th>\n",
       "      <th></th>\n",
       "    </tr>\n",
       "  </thead>\n",
       "  <tbody>\n",
       "    <tr>\n",
       "      <th>2011-01-06</th>\n",
       "      <td>0.008666</td>\n",
       "      <td>0.015779</td>\n",
       "      <td>0.000000</td>\n",
       "      <td>-0.018090</td>\n",
       "      <td>0.037116</td>\n",
       "      <td>0.045433</td>\n",
       "      <td>-0.007356</td>\n",
       "      <td>0.006471</td>\n",
       "      <td>-0.005972</td>\n",
       "      <td>-0.003648</td>\n",
       "      <td>...</td>\n",
       "      <td>-0.008942</td>\n",
       "      <td>-0.022368</td>\n",
       "      <td>-0.018391</td>\n",
       "      <td>0.000519</td>\n",
       "      <td>0.000635</td>\n",
       "      <td>0.002047</td>\n",
       "      <td>0.002190</td>\n",
       "      <td>-0.016205</td>\n",
       "      <td>-0.010781</td>\n",
       "      <td>-0.007082</td>\n",
       "    </tr>\n",
       "    <tr>\n",
       "      <th>2011-01-07</th>\n",
       "      <td>0.000954</td>\n",
       "      <td>0.007767</td>\n",
       "      <td>-0.008134</td>\n",
       "      <td>-0.004764</td>\n",
       "      <td>0.023316</td>\n",
       "      <td>-0.002120</td>\n",
       "      <td>0.000303</td>\n",
       "      <td>-0.000946</td>\n",
       "      <td>0.002939</td>\n",
       "      <td>0.016846</td>\n",
       "      <td>...</td>\n",
       "      <td>-0.010526</td>\n",
       "      <td>-0.011045</td>\n",
       "      <td>-0.009368</td>\n",
       "      <td>-0.003628</td>\n",
       "      <td>-0.001903</td>\n",
       "      <td>0.003064</td>\n",
       "      <td>-0.012568</td>\n",
       "      <td>-0.019949</td>\n",
       "      <td>-0.008266</td>\n",
       "      <td>-0.009384</td>\n",
       "    </tr>\n",
       "    <tr>\n",
       "      <th>2011-01-10</th>\n",
       "      <td>-0.008583</td>\n",
       "      <td>0.009634</td>\n",
       "      <td>0.001548</td>\n",
       "      <td>0.015632</td>\n",
       "      <td>0.020146</td>\n",
       "      <td>0.005463</td>\n",
       "      <td>0.011035</td>\n",
       "      <td>0.012493</td>\n",
       "      <td>-0.002039</td>\n",
       "      <td>0.003842</td>\n",
       "      <td>...</td>\n",
       "      <td>-0.022290</td>\n",
       "      <td>-0.007047</td>\n",
       "      <td>-0.011032</td>\n",
       "      <td>0.006502</td>\n",
       "      <td>0.032627</td>\n",
       "      <td>0.021725</td>\n",
       "      <td>0.000554</td>\n",
       "      <td>0.031186</td>\n",
       "      <td>0.014918</td>\n",
       "      <td>-0.001516</td>\n",
       "    </tr>\n",
       "    <tr>\n",
       "      <th>2011-01-11</th>\n",
       "      <td>0.004328</td>\n",
       "      <td>-0.019466</td>\n",
       "      <td>0.007415</td>\n",
       "      <td>0.034649</td>\n",
       "      <td>0.002587</td>\n",
       "      <td>0.008603</td>\n",
       "      <td>0.024671</td>\n",
       "      <td>0.009348</td>\n",
       "      <td>0.032695</td>\n",
       "      <td>0.004783</td>\n",
       "      <td>...</td>\n",
       "      <td>-0.001554</td>\n",
       "      <td>0.021693</td>\n",
       "      <td>-0.009960</td>\n",
       "      <td>0.005168</td>\n",
       "      <td>0.015183</td>\n",
       "      <td>-0.003987</td>\n",
       "      <td>-0.011615</td>\n",
       "      <td>-0.015031</td>\n",
       "      <td>0.011770</td>\n",
       "      <td>0.000759</td>\n",
       "    </tr>\n",
       "    <tr>\n",
       "      <th>2011-01-12</th>\n",
       "      <td>0.011494</td>\n",
       "      <td>0.008174</td>\n",
       "      <td>0.021469</td>\n",
       "      <td>0.004342</td>\n",
       "      <td>0.018779</td>\n",
       "      <td>-0.010175</td>\n",
       "      <td>0.002043</td>\n",
       "      <td>0.005927</td>\n",
       "      <td>0.013975</td>\n",
       "      <td>0.014044</td>\n",
       "      <td>...</td>\n",
       "      <td>-0.002076</td>\n",
       "      <td>0.005898</td>\n",
       "      <td>-0.003622</td>\n",
       "      <td>0.013419</td>\n",
       "      <td>0.014956</td>\n",
       "      <td>0.006004</td>\n",
       "      <td>0.019026</td>\n",
       "      <td>0.011583</td>\n",
       "      <td>0.002171</td>\n",
       "      <td>0.008722</td>\n",
       "    </tr>\n",
       "  </tbody>\n",
       "</table>\n",
       "<p>5 rows × 741 columns</p>\n",
       "</div>"
      ],
      "text/plain": [
       "ticker          CSCO       UAL      TROW      ISRG       NVR      PRGO  \\\n",
       "Date                                                                     \n",
       "2011-01-06  0.008666  0.015779  0.000000 -0.018090  0.037116  0.045433   \n",
       "2011-01-07  0.000954  0.007767 -0.008134 -0.004764  0.023316 -0.002120   \n",
       "2011-01-10 -0.008583  0.009634  0.001548  0.015632  0.020146  0.005463   \n",
       "2011-01-11  0.004328 -0.019466  0.007415  0.034649  0.002587  0.008603   \n",
       "2011-01-12  0.011494  0.008174  0.021469  0.004342  0.018779 -0.010175   \n",
       "\n",
       "ticker          LECO       TPR       DVN        CR    ...          PGR  \\\n",
       "Date                                                  ...                \n",
       "2011-01-06 -0.007356  0.006471 -0.005972 -0.003648    ...    -0.008942   \n",
       "2011-01-07  0.000303 -0.000946  0.002939  0.016846    ...    -0.010526   \n",
       "2011-01-10  0.011035  0.012493 -0.002039  0.003842    ...    -0.022290   \n",
       "2011-01-11  0.024671  0.009348  0.032695  0.004783    ...    -0.001554   \n",
       "2011-01-12  0.002043  0.005927  0.013975  0.014044    ...    -0.002076   \n",
       "\n",
       "ticker           WAT       NNN       IEX      LRCX       NUS       NWL  \\\n",
       "Date                                                                     \n",
       "2011-01-06 -0.022368 -0.018391  0.000519  0.000635  0.002047  0.002190   \n",
       "2011-01-07 -0.011045 -0.009368 -0.003628 -0.001903  0.003064 -0.012568   \n",
       "2011-01-10 -0.007047 -0.011032  0.006502  0.032627  0.021725  0.000554   \n",
       "2011-01-11  0.021693 -0.009960  0.005168  0.015183 -0.003987 -0.011615   \n",
       "2011-01-12  0.005898 -0.003622  0.013419  0.014956  0.006004  0.019026   \n",
       "\n",
       "ticker           UAA       BLK       PPL  \n",
       "Date                                      \n",
       "2011-01-06 -0.016205 -0.010781 -0.007082  \n",
       "2011-01-07 -0.019949 -0.008266 -0.009384  \n",
       "2011-01-10  0.031186  0.014918 -0.001516  \n",
       "2011-01-11 -0.015031  0.011770  0.000759  \n",
       "2011-01-12  0.011583  0.002171  0.008722  \n",
       "\n",
       "[5 rows x 741 columns]"
      ]
     },
     "execution_count": 10,
     "metadata": {},
     "output_type": "execute_result"
    }
   ],
   "source": [
    "# create a risk model for 2011 data\n",
    "returns_2011 = returns.loc[returns.index.year == 2011]\n",
    "print(returns_2011.shape)\n",
    "returns_2011.head()"
   ]
  },
  {
   "cell_type": "code",
   "execution_count": 11,
   "metadata": {},
   "outputs": [],
   "source": [
    "risk_model = RiskModelPCA(returns_2011, 20)"
   ]
  },
  {
   "cell_type": "code",
   "execution_count": 12,
   "metadata": {},
   "outputs": [
    {
     "data": {
      "text/plain": [
       "<BarContainer object of 20 artists>"
      ]
     },
     "execution_count": 12,
     "metadata": {},
     "output_type": "execute_result"
    },
    {
     "data": {
      "image/png": "[encoded data removed]",
      "text/plain": [
       "<Figure size 432x288 with 1 Axes>"
      ]
     },
     "metadata": {
      "needs_background": "light"
     },
     "output_type": "display_data"
    }
   ],
   "source": [
    "plt.bar(np.arange(risk_model.n_components), risk_model.pca.explained_variance_ratio_)"
   ]
  },
  {
   "cell_type": "code",
   "execution_count": 13,
   "metadata": {},
   "outputs": [
    {
     "data": {
      "image/png": "[encoded data removed]",
      "text/plain": [
       "<Figure size 432x288 with 1 Axes>"
      ]
     },
     "metadata": {
      "needs_background": "light"
     },
     "output_type": "display_data"
    }
   ],
   "source": [
    "# looking at factor returns\n",
    "risk_model.factor_returns.cumsum().plot(legend=False)\n",
    "plt.tight_layout()"
   ]
  },
  {
   "cell_type": "code",
   "execution_count": 14,
   "metadata": {},
   "outputs": [],
   "source": [
    "def density_plot(data): \n",
    "    density = gaussian_kde(data)\n",
    "    xs = np.linspace(np.min(data),np.max(data),200)\n",
    "    density.covariance_factor = lambda : .25\n",
    "    density._compute_covariance()\n",
    "    plt.plot(xs,density(xs))\n",
    "    plt.xlabel('Daily Returns')\n",
    "    plt.ylabel('Density')\n",
    "    plt.show()"
   ]
  },
  {
   "cell_type": "code",
   "execution_count": 15,
   "metadata": {},
   "outputs": [
    {
     "data": {
      "image/png": "[encoded data removed]",
      "text/plain": [
       "<Figure size 432x288 with 1 Axes>"
      ]
     },
     "metadata": {
      "needs_background": "light"
     },
     "output_type": "display_data"
    }
   ],
   "source": [
    "density_plot(risk_model.unwinz_returns.iloc[0])"
   ]
  },
  {
   "cell_type": "code",
   "execution_count": 16,
   "metadata": {},
   "outputs": [
    {
     "data": {
      "image/png": "[encoded data removed]",
      "text/plain": [
       "<Figure size 432x288 with 1 Axes>"
      ]
     },
     "metadata": {
      "needs_background": "light"
     },
     "output_type": "display_data"
    }
   ],
   "source": [
    "density_plot(risk_model.returns.iloc[0])"
   ]
  },
  {
   "cell_type": "code",
   "execution_count": 17,
   "metadata": {},
   "outputs": [
    {
     "data": {
      "text/plain": [
       "[67476.38326585694,\n",
       " 67476.38326585694,\n",
       " 67476.38326585694,\n",
       " 67476.38326585694,\n",
       " 67476.38326585694]"
      ]
     },
     "execution_count": 17,
     "metadata": {},
     "output_type": "execute_result"
    }
   ],
   "source": [
    "holdings = [50000000 / len(returns_2011.columns)] * len(returns_2011.columns)\n",
    "holdings[:5]"
   ]
  },
  {
   "cell_type": "code",
   "execution_count": 18,
   "metadata": {},
   "outputs": [
    {
     "data": {
      "text/plain": [
       "186099218691818.44"
      ]
     },
     "execution_count": 18,
     "metadata": {},
     "output_type": "execute_result"
    }
   ],
   "source": [
    "risk_model.predict_portfolio_risk(holdings)"
   ]
  },
  {
   "cell_type": "code",
   "execution_count": 19,
   "metadata": {},
   "outputs": [
    {
     "data": {
      "text/plain": [
       "186099218691818.47"
      ]
     },
     "execution_count": 19,
     "metadata": {},
     "output_type": "execute_result"
    }
   ],
   "source": [
    "risk_model.predict_portfolio_risk_opt(holdings)"
   ]
  },
  {
   "cell_type": "code",
   "execution_count": 20,
   "metadata": {},
   "outputs": [
    {
     "data": {
      "text/plain": [
       "[0.001349527665317139,\n",
       " 0.001349527665317139,\n",
       " 0.001349527665317139,\n",
       " 0.001349527665317139,\n",
       " 0.001349527665317139]"
      ]
     },
     "execution_count": 20,
     "metadata": {},
     "output_type": "execute_result"
    }
   ],
   "source": [
    "holdings = [1.0 / len(returns_2011.columns)] * len(returns_2011.columns)\n",
    "holdings[:5]"
   ]
  },
  {
   "cell_type": "code",
   "execution_count": 21,
   "metadata": {},
   "outputs": [
    {
     "data": {
      "text/plain": [
       "0.27283637491494306"
      ]
     },
     "execution_count": 21,
     "metadata": {},
     "output_type": "execute_result"
    }
   ],
   "source": [
    "np.sqrt(risk_model.predict_portfolio_risk(holdings))"
   ]
  },
  {
   "cell_type": "code",
   "execution_count": 22,
   "metadata": {},
   "outputs": [
    {
     "data": {
      "text/plain": [
       "0.27283637491494295"
      ]
     },
     "execution_count": 22,
     "metadata": {},
     "output_type": "execute_result"
    }
   ],
   "source": [
    "np.sqrt(risk_model.predict_portfolio_risk_opt(holdings))"
   ]
  },
  {
   "cell_type": "code",
   "execution_count": 23,
   "metadata": {},
   "outputs": [],
   "source": [
    "def create_momentum_factor(prices, sector_data):\n",
    "\n",
    "    # demean by sector\n",
    "    df = prices.pct_change(252).dropna()\n",
    "    sectors = sector_data.unique()\n",
    "    \n",
    "    # demean by sector\n",
    "    for sector in sectors:\n",
    "        col_filter = sector_data[sector_data==sector].index\n",
    "        means = df.loc[:, col_filter].mean(axis=1)\n",
    "        df.loc[:, col_filter] = df.loc[:, col_filter].subtract(means, axis=0)\n",
    "        \n",
    "    ranked = df.rank(axis=1, method='first')\n",
    "    means = ranked.mean(axis=1)\n",
    "    stds = ranked.std(axis=1)\n",
    "    demeaned = ranked.subtract(means, axis=0)\n",
    "    zscored = demeaned.div(stds, axis=0)\n",
    "    return zscored"
   ]
  },
  {
   "cell_type": "code",
   "execution_count": 24,
   "metadata": {},
   "outputs": [
    {
     "data": {
      "text/html": [
       "<div>\n",
       "<style scoped>\n",
       "    .dataframe tbody tr th:only-of-type {\n",
       "        vertical-align: middle;\n",
       "    }\n",
       "\n",
       "    .dataframe tbody tr th {\n",
       "        vertical-align: top;\n",
       "    }\n",
       "\n",
       "    .dataframe thead th {\n",
       "        text-align: right;\n",
       "    }\n",
       "</style>\n",
       "<table border=\"1\" class=\"dataframe\">\n",
       "  <thead>\n",
       "    <tr style=\"text-align: right;\">\n",
       "      <th>ticker</th>\n",
       "      <th>CSCO</th>\n",
       "      <th>UAL</th>\n",
       "      <th>TROW</th>\n",
       "      <th>ISRG</th>\n",
       "      <th>NVR</th>\n",
       "      <th>PRGO</th>\n",
       "      <th>LECO</th>\n",
       "      <th>TPR</th>\n",
       "      <th>DVN</th>\n",
       "      <th>CR</th>\n",
       "      <th>...</th>\n",
       "      <th>PGR</th>\n",
       "      <th>WAT</th>\n",
       "      <th>NNN</th>\n",
       "      <th>IEX</th>\n",
       "      <th>LRCX</th>\n",
       "      <th>NUS</th>\n",
       "      <th>NWL</th>\n",
       "      <th>UAA</th>\n",
       "      <th>BLK</th>\n",
       "      <th>PPL</th>\n",
       "    </tr>\n",
       "    <tr>\n",
       "      <th>Date</th>\n",
       "      <th></th>\n",
       "      <th></th>\n",
       "      <th></th>\n",
       "      <th></th>\n",
       "      <th></th>\n",
       "      <th></th>\n",
       "      <th></th>\n",
       "      <th></th>\n",
       "      <th></th>\n",
       "      <th></th>\n",
       "      <th></th>\n",
       "      <th></th>\n",
       "      <th></th>\n",
       "      <th></th>\n",
       "      <th></th>\n",
       "      <th></th>\n",
       "      <th></th>\n",
       "      <th></th>\n",
       "      <th></th>\n",
       "      <th></th>\n",
       "      <th></th>\n",
       "    </tr>\n",
       "  </thead>\n",
       "  <tbody>\n",
       "    <tr>\n",
       "      <th>2012-01-05</th>\n",
       "      <td>-0.471847</td>\n",
       "      <td>-1.326777</td>\n",
       "      <td>-0.228916</td>\n",
       "      <td>1.691173</td>\n",
       "      <td>-0.369068</td>\n",
       "      <td>1.588395</td>\n",
       "      <td>1.130563</td>\n",
       "      <td>0.728793</td>\n",
       "      <td>-1.200640</td>\n",
       "      <td>1.032457</td>\n",
       "      <td>...</td>\n",
       "      <td>0.261618</td>\n",
       "      <td>-0.686747</td>\n",
       "      <td>0.149496</td>\n",
       "      <td>-0.158839</td>\n",
       "      <td>-1.051144</td>\n",
       "      <td>1.621097</td>\n",
       "      <td>-1.130563</td>\n",
       "      <td>1.214655</td>\n",
       "      <td>0.126137</td>\n",
       "      <td>-0.172855</td>\n",
       "    </tr>\n",
       "    <tr>\n",
       "      <th>2012-01-06</th>\n",
       "      <td>-0.476518</td>\n",
       "      <td>-1.382838</td>\n",
       "      <td>-0.196213</td>\n",
       "      <td>1.686502</td>\n",
       "      <td>-0.583969</td>\n",
       "      <td>1.532334</td>\n",
       "      <td>1.130563</td>\n",
       "      <td>0.752152</td>\n",
       "      <td>-1.256701</td>\n",
       "      <td>1.027785</td>\n",
       "      <td>...</td>\n",
       "      <td>0.355053</td>\n",
       "      <td>-0.551266</td>\n",
       "      <td>0.219572</td>\n",
       "      <td>-0.182198</td>\n",
       "      <td>-1.004426</td>\n",
       "      <td>1.588395</td>\n",
       "      <td>-1.065159</td>\n",
       "      <td>1.275388</td>\n",
       "      <td>0.233587</td>\n",
       "      <td>-0.149496</td>\n",
       "    </tr>\n",
       "    <tr>\n",
       "      <th>2012-01-09</th>\n",
       "      <td>-0.513892</td>\n",
       "      <td>-1.448242</td>\n",
       "      <td>-0.294320</td>\n",
       "      <td>1.663143</td>\n",
       "      <td>-0.738136</td>\n",
       "      <td>1.513647</td>\n",
       "      <td>1.172609</td>\n",
       "      <td>0.752152</td>\n",
       "      <td>-1.130563</td>\n",
       "      <td>1.023113</td>\n",
       "      <td>...</td>\n",
       "      <td>0.327022</td>\n",
       "      <td>-0.537251</td>\n",
       "      <td>0.303664</td>\n",
       "      <td>-0.144824</td>\n",
       "      <td>-0.976396</td>\n",
       "      <td>1.588395</td>\n",
       "      <td>-1.027785</td>\n",
       "      <td>1.340792</td>\n",
       "      <td>0.154168</td>\n",
       "      <td>0.070076</td>\n",
       "    </tr>\n",
       "    <tr>\n",
       "      <th>2012-01-10</th>\n",
       "      <td>-0.551266</td>\n",
       "      <td>-1.508975</td>\n",
       "      <td>-0.163511</td>\n",
       "      <td>1.649128</td>\n",
       "      <td>-0.896976</td>\n",
       "      <td>1.555693</td>\n",
       "      <td>1.125892</td>\n",
       "      <td>0.569953</td>\n",
       "      <td>-1.191296</td>\n",
       "      <td>1.027785</td>\n",
       "      <td>...</td>\n",
       "      <td>0.415786</td>\n",
       "      <td>-0.560610</td>\n",
       "      <td>0.336366</td>\n",
       "      <td>-0.228916</td>\n",
       "      <td>-1.097861</td>\n",
       "      <td>1.522990</td>\n",
       "      <td>-1.069831</td>\n",
       "      <td>1.261372</td>\n",
       "      <td>0.116794</td>\n",
       "      <td>-0.004672</td>\n",
       "    </tr>\n",
       "    <tr>\n",
       "      <th>2012-01-11</th>\n",
       "      <td>-0.527908</td>\n",
       "      <td>-1.457586</td>\n",
       "      <td>-0.303664</td>\n",
       "      <td>1.649128</td>\n",
       "      <td>-0.873617</td>\n",
       "      <td>1.504303</td>\n",
       "      <td>1.083846</td>\n",
       "      <td>0.284977</td>\n",
       "      <td>-1.219327</td>\n",
       "      <td>1.018441</td>\n",
       "      <td>...</td>\n",
       "      <td>0.485862</td>\n",
       "      <td>-0.551266</td>\n",
       "      <td>0.355053</td>\n",
       "      <td>-0.228916</td>\n",
       "      <td>-1.079174</td>\n",
       "      <td>1.518319</td>\n",
       "      <td>-0.995083</td>\n",
       "      <td>1.331449</td>\n",
       "      <td>0.130809</td>\n",
       "      <td>-0.121465</td>\n",
       "    </tr>\n",
       "  </tbody>\n",
       "</table>\n",
       "<p>5 rows × 741 columns</p>\n",
       "</div>"
      ],
      "text/plain": [
       "ticker          CSCO       UAL      TROW      ISRG       NVR      PRGO  \\\n",
       "Date                                                                     \n",
       "2012-01-05 -0.471847 -1.326777 -0.228916  1.691173 -0.369068  1.588395   \n",
       "2012-01-06 -0.476518 -1.382838 -0.196213  1.686502 -0.583969  1.532334   \n",
       "2012-01-09 -0.513892 -1.448242 -0.294320  1.663143 -0.738136  1.513647   \n",
       "2012-01-10 -0.551266 -1.508975 -0.163511  1.649128 -0.896976  1.555693   \n",
       "2012-01-11 -0.527908 -1.457586 -0.303664  1.649128 -0.873617  1.504303   \n",
       "\n",
       "ticker          LECO       TPR       DVN        CR    ...          PGR  \\\n",
       "Date                                                  ...                \n",
       "2012-01-05  1.130563  0.728793 -1.200640  1.032457    ...     0.261618   \n",
       "2012-01-06  1.130563  0.752152 -1.256701  1.027785    ...     0.355053   \n",
       "2012-01-09  1.172609  0.752152 -1.130563  1.023113    ...     0.327022   \n",
       "2012-01-10  1.125892  0.569953 -1.191296  1.027785    ...     0.415786   \n",
       "2012-01-11  1.083846  0.284977 -1.219327  1.018441    ...     0.485862   \n",
       "\n",
       "ticker           WAT       NNN       IEX      LRCX       NUS       NWL  \\\n",
       "Date                                                                     \n",
       "2012-01-05 -0.686747  0.149496 -0.158839 -1.051144  1.621097 -1.130563   \n",
       "2012-01-06 -0.551266  0.219572 -0.182198 -1.004426  1.588395 -1.065159   \n",
       "2012-01-09 -0.537251  0.303664 -0.144824 -0.976396  1.588395 -1.027785   \n",
       "2012-01-10 -0.560610  0.336366 -0.228916 -1.097861  1.522990 -1.069831   \n",
       "2012-01-11 -0.551266  0.355053 -0.228916 -1.079174  1.518319 -0.995083   \n",
       "\n",
       "ticker           UAA       BLK       PPL  \n",
       "Date                                      \n",
       "2012-01-05  1.214655  0.126137 -0.172855  \n",
       "2012-01-06  1.275388  0.233587 -0.149496  \n",
       "2012-01-09  1.340792  0.154168  0.070076  \n",
       "2012-01-10  1.261372  0.116794 -0.004672  \n",
       "2012-01-11  1.331449  0.130809 -0.121465  \n",
       "\n",
       "[5 rows x 741 columns]"
      ]
     },
     "execution_count": 24,
     "metadata": {},
     "output_type": "execute_result"
    }
   ],
   "source": [
    "momentum = create_momentum_factor(p, sector_data)\n",
    "momentum.head()"
   ]
  },
  {
   "cell_type": "code",
   "execution_count": 25,
   "metadata": {},
   "outputs": [
    {
     "data": {
      "text/html": [
       "<div>\n",
       "<style scoped>\n",
       "    .dataframe tbody tr th:only-of-type {\n",
       "        vertical-align: middle;\n",
       "    }\n",
       "\n",
       "    .dataframe tbody tr th {\n",
       "        vertical-align: top;\n",
       "    }\n",
       "\n",
       "    .dataframe thead th {\n",
       "        text-align: right;\n",
       "    }\n",
       "</style>\n",
       "<table border=\"1\" class=\"dataframe\">\n",
       "  <thead>\n",
       "    <tr style=\"text-align: right;\">\n",
       "      <th>ticker</th>\n",
       "      <th>CSCO</th>\n",
       "      <th>UAL</th>\n",
       "      <th>TROW</th>\n",
       "      <th>ISRG</th>\n",
       "      <th>NVR</th>\n",
       "      <th>PRGO</th>\n",
       "      <th>LECO</th>\n",
       "      <th>TPR</th>\n",
       "      <th>DVN</th>\n",
       "      <th>CR</th>\n",
       "      <th>...</th>\n",
       "      <th>PGR</th>\n",
       "      <th>WAT</th>\n",
       "      <th>NNN</th>\n",
       "      <th>IEX</th>\n",
       "      <th>LRCX</th>\n",
       "      <th>NUS</th>\n",
       "      <th>NWL</th>\n",
       "      <th>UAA</th>\n",
       "      <th>BLK</th>\n",
       "      <th>PPL</th>\n",
       "    </tr>\n",
       "    <tr>\n",
       "      <th>Date</th>\n",
       "      <th></th>\n",
       "      <th></th>\n",
       "      <th></th>\n",
       "      <th></th>\n",
       "      <th></th>\n",
       "      <th></th>\n",
       "      <th></th>\n",
       "      <th></th>\n",
       "      <th></th>\n",
       "      <th></th>\n",
       "      <th></th>\n",
       "      <th></th>\n",
       "      <th></th>\n",
       "      <th></th>\n",
       "      <th></th>\n",
       "      <th></th>\n",
       "      <th></th>\n",
       "      <th></th>\n",
       "      <th></th>\n",
       "      <th></th>\n",
       "      <th></th>\n",
       "    </tr>\n",
       "  </thead>\n",
       "  <tbody>\n",
       "    <tr>\n",
       "      <th>2011-12-23</th>\n",
       "      <td>0.018753</td>\n",
       "      <td>-0.020237</td>\n",
       "      <td>0.011614</td>\n",
       "      <td>0.021882</td>\n",
       "      <td>-0.001494</td>\n",
       "      <td>0.001786</td>\n",
       "      <td>0.008702</td>\n",
       "      <td>0.024272</td>\n",
       "      <td>-0.005726</td>\n",
       "      <td>0.008050</td>\n",
       "      <td>...</td>\n",
       "      <td>0.011543</td>\n",
       "      <td>0.000939</td>\n",
       "      <td>0.000381</td>\n",
       "      <td>0.009111</td>\n",
       "      <td>0.004898</td>\n",
       "      <td>0.008929</td>\n",
       "      <td>0.013871</td>\n",
       "      <td>0.036691</td>\n",
       "      <td>0.016639</td>\n",
       "      <td>0.003724</td>\n",
       "    </tr>\n",
       "    <tr>\n",
       "      <th>2011-12-27</th>\n",
       "      <td>0.005956</td>\n",
       "      <td>-0.032746</td>\n",
       "      <td>-0.001218</td>\n",
       "      <td>0.012695</td>\n",
       "      <td>-0.004059</td>\n",
       "      <td>-0.002773</td>\n",
       "      <td>0.003299</td>\n",
       "      <td>0.008989</td>\n",
       "      <td>-0.002399</td>\n",
       "      <td>0.011224</td>\n",
       "      <td>...</td>\n",
       "      <td>0.010373</td>\n",
       "      <td>0.000402</td>\n",
       "      <td>0.013318</td>\n",
       "      <td>-0.008482</td>\n",
       "      <td>0.004874</td>\n",
       "      <td>0.006110</td>\n",
       "      <td>-0.001244</td>\n",
       "      <td>0.007106</td>\n",
       "      <td>-0.003195</td>\n",
       "      <td>0.005059</td>\n",
       "    </tr>\n",
       "    <tr>\n",
       "      <th>2011-12-28</th>\n",
       "      <td>-0.022605</td>\n",
       "      <td>-0.013021</td>\n",
       "      <td>-0.019680</td>\n",
       "      <td>-0.012450</td>\n",
       "      <td>-0.009119</td>\n",
       "      <td>-0.017680</td>\n",
       "      <td>-0.019558</td>\n",
       "      <td>-0.014253</td>\n",
       "      <td>-0.019243</td>\n",
       "      <td>-0.020704</td>\n",
       "      <td>...</td>\n",
       "      <td>-0.006673</td>\n",
       "      <td>-0.018226</td>\n",
       "      <td>-0.015020</td>\n",
       "      <td>-0.009106</td>\n",
       "      <td>-0.013743</td>\n",
       "      <td>0.002304</td>\n",
       "      <td>-0.005604</td>\n",
       "      <td>-0.015604</td>\n",
       "      <td>-0.007872</td>\n",
       "      <td>-0.003691</td>\n",
       "    </tr>\n",
       "    <tr>\n",
       "      <th>2011-12-29</th>\n",
       "      <td>0.004956</td>\n",
       "      <td>-0.005805</td>\n",
       "      <td>0.019009</td>\n",
       "      <td>0.018200</td>\n",
       "      <td>0.028328</td>\n",
       "      <td>0.001415</td>\n",
       "      <td>0.019430</td>\n",
       "      <td>0.011173</td>\n",
       "      <td>0.018476</td>\n",
       "      <td>0.023104</td>\n",
       "      <td>...</td>\n",
       "      <td>0.011886</td>\n",
       "      <td>0.012012</td>\n",
       "      <td>0.012581</td>\n",
       "      <td>0.029518</td>\n",
       "      <td>0.012295</td>\n",
       "      <td>0.012954</td>\n",
       "      <td>0.028178</td>\n",
       "      <td>-0.009786</td>\n",
       "      <td>0.016776</td>\n",
       "      <td>0.002021</td>\n",
       "    </tr>\n",
       "    <tr>\n",
       "      <th>2011-12-30</th>\n",
       "      <td>-0.009315</td>\n",
       "      <td>0.001592</td>\n",
       "      <td>-0.007148</td>\n",
       "      <td>-0.006480</td>\n",
       "      <td>0.001460</td>\n",
       "      <td>-0.017569</td>\n",
       "      <td>-0.005845</td>\n",
       "      <td>-0.008125</td>\n",
       "      <td>-0.004655</td>\n",
       "      <td>-0.004900</td>\n",
       "      <td>...</td>\n",
       "      <td>-0.003575</td>\n",
       "      <td>-0.001214</td>\n",
       "      <td>-0.006777</td>\n",
       "      <td>0.003787</td>\n",
       "      <td>-0.000810</td>\n",
       "      <td>0.001857</td>\n",
       "      <td>-0.016444</td>\n",
       "      <td>-0.000696</td>\n",
       "      <td>-0.006466</td>\n",
       "      <td>-0.011092</td>\n",
       "    </tr>\n",
       "  </tbody>\n",
       "</table>\n",
       "<p>5 rows × 741 columns</p>\n",
       "</div>"
      ],
      "text/plain": [
       "ticker          CSCO       UAL      TROW      ISRG       NVR      PRGO  \\\n",
       "Date                                                                     \n",
       "2011-12-23  0.018753 -0.020237  0.011614  0.021882 -0.001494  0.001786   \n",
       "2011-12-27  0.005956 -0.032746 -0.001218  0.012695 -0.004059 -0.002773   \n",
       "2011-12-28 -0.022605 -0.013021 -0.019680 -0.012450 -0.009119 -0.017680   \n",
       "2011-12-29  0.004956 -0.005805  0.019009  0.018200  0.028328  0.001415   \n",
       "2011-12-30 -0.009315  0.001592 -0.007148 -0.006480  0.001460 -0.017569   \n",
       "\n",
       "ticker          LECO       TPR       DVN        CR    ...          PGR  \\\n",
       "Date                                                  ...                \n",
       "2011-12-23  0.008702  0.024272 -0.005726  0.008050    ...     0.011543   \n",
       "2011-12-27  0.003299  0.008989 -0.002399  0.011224    ...     0.010373   \n",
       "2011-12-28 -0.019558 -0.014253 -0.019243 -0.020704    ...    -0.006673   \n",
       "2011-12-29  0.019430  0.011173  0.018476  0.023104    ...     0.011886   \n",
       "2011-12-30 -0.005845 -0.008125 -0.004655 -0.004900    ...    -0.003575   \n",
       "\n",
       "ticker           WAT       NNN       IEX      LRCX       NUS       NWL  \\\n",
       "Date                                                                     \n",
       "2011-12-23  0.000939  0.000381  0.009111  0.004898  0.008929  0.013871   \n",
       "2011-12-27  0.000402  0.013318 -0.008482  0.004874  0.006110 -0.001244   \n",
       "2011-12-28 -0.018226 -0.015020 -0.009106 -0.013743  0.002304 -0.005604   \n",
       "2011-12-29  0.012012  0.012581  0.029518  0.012295  0.012954  0.028178   \n",
       "2011-12-30 -0.001214 -0.006777  0.003787 -0.000810  0.001857 -0.016444   \n",
       "\n",
       "ticker           UAA       BLK       PPL  \n",
       "Date                                      \n",
       "2011-12-23  0.036691  0.016639  0.003724  \n",
       "2011-12-27  0.007106 -0.003195  0.005059  \n",
       "2011-12-28 -0.015604 -0.007872 -0.003691  \n",
       "2011-12-29 -0.009786  0.016776  0.002021  \n",
       "2011-12-30 -0.000696 -0.006466 -0.011092  \n",
       "\n",
       "[5 rows x 741 columns]"
      ]
     },
     "execution_count": 25,
     "metadata": {},
     "output_type": "execute_result"
    }
   ],
   "source": [
    "risk_model.returns.tail()"
   ]
  },
  {
   "cell_type": "code",
   "execution_count": 26,
   "metadata": {},
   "outputs": [
    {
     "data": {
      "text/plain": [
       "Timestamp('2011-12-30 00:00:00')"
      ]
     },
     "execution_count": 26,
     "metadata": {},
     "output_type": "execute_result"
    }
   ],
   "source": [
    "date_ = pd.to_datetime('2011-12-30')\n",
    "date_"
   ]
  },
  {
   "cell_type": "code",
   "execution_count": 27,
   "metadata": {},
   "outputs": [
    {
     "data": {
      "text/plain": [
       "741"
      ]
     },
     "execution_count": 27,
     "metadata": {},
     "output_type": "execute_result"
    }
   ],
   "source": [
    "alpha_vector = momentum.loc['2012-01-05', :]\n",
    "len(alpha_vector)"
   ]
  },
  {
   "cell_type": "code",
   "execution_count": 28,
   "metadata": {},
   "outputs": [
    {
     "data": {
      "text/plain": [
       "741"
      ]
     },
     "execution_count": 28,
     "metadata": {},
     "output_type": "execute_result"
    }
   ],
   "source": [
    "previous = np.asarray(holdings)\n",
    "len(previous)"
   ]
  },
  {
   "cell_type": "code",
   "execution_count": 29,
   "metadata": {},
   "outputs": [],
   "source": [
    "oh = OptimalHoldings(risk_model, alpha_vector, previous, lambda_reg=0.0)"
   ]
  },
  {
   "cell_type": "code",
   "execution_count": 30,
   "metadata": {},
   "outputs": [
    {
     "name": "stdout",
     "output_type": "stream",
     "text": [
      "this is av.shape:  (741, 1)\n",
      "this is self.previous.shape:  (741,)\n",
      "(741, 1)\n",
      "(741,)\n",
      "False\n"
     ]
    },
    {
     "data": {
      "text/plain": [
       "Minimize(Expression(AFFINE, UNKNOWN, (1,)))"
      ]
     },
     "execution_count": 30,
     "metadata": {},
     "output_type": "execute_result"
    }
   ],
   "source": [
    "oh._get_obj()\n",
    "oh.obj_func"
   ]
  },
  {
   "cell_type": "code",
   "execution_count": 31,
   "metadata": {
    "scrolled": true
   },
   "outputs": [
    {
     "data": {
      "text/plain": [
       "(20, 741)"
      ]
     },
     "execution_count": 31,
     "metadata": {},
     "output_type": "execute_result"
    }
   ],
   "source": [
    "risk_model.Q.shape"
   ]
  },
  {
   "cell_type": "code",
   "execution_count": 32,
   "metadata": {},
   "outputs": [
    {
     "data": {
      "text/plain": [
       "Expression(CONVEX, NONNEGATIVE, (1, 1))"
      ]
     },
     "execution_count": 32,
     "metadata": {},
     "output_type": "execute_result"
    }
   ],
   "source": [
    "oh.get_risk()"
   ]
  },
  {
   "cell_type": "code",
   "execution_count": 33,
   "metadata": {},
   "outputs": [
    {
     "name": "stdout",
     "output_type": "stream",
     "text": [
      "True\n"
     ]
    }
   ],
   "source": [
    "result = oh.find()"
   ]
  },
  {
   "cell_type": "code",
   "execution_count": 34,
   "metadata": {},
   "outputs": [
    {
     "data": {
      "text/plain": [
       "(741, 1)"
      ]
     },
     "execution_count": 34,
     "metadata": {},
     "output_type": "execute_result"
    }
   ],
   "source": [
    "result.shape"
   ]
  },
  {
   "cell_type": "code",
   "execution_count": 35,
   "metadata": {},
   "outputs": [
    {
     "name": "stderr",
     "output_type": "stream",
     "text": [
      "/Users/richard.wuebker/.pyenv/versions/zipline/lib/python3.5/site-packages/matplotlib/figure.py:98: MatplotlibDeprecationWarning: \n",
      "Adding an axes using the same arguments as a previous axes currently reuses the earlier instance.  In a future version, a new instance will always be created and returned.  Meanwhile, this warning can be suppressed, and the future behavior ensured, by passing a unique label to each axes instance.\n",
      "  \"Adding an axes using the same arguments as a previous axes \"\n"
     ]
    },
    {
     "data": {
      "image/png": "[encoded data removed]",
      "text/plain": [
       "<Figure size 432x288 with 1 Axes>"
      ]
     },
     "metadata": {
      "needs_background": "light"
     },
     "output_type": "display_data"
    }
   ],
   "source": [
    "(result).plot.bar(legend=False)\n",
    "x_axis = plt.axes().get_xaxis()\n",
    "x_axis.set_visible(False)\n",
    "plt.tight_layout()\n",
    "plt.style.use('ggplot')\n",
    "plt.rcParams['figure.figsize'] = (14, 8)"
   ]
  },
  {
   "cell_type": "code",
   "execution_count": 36,
   "metadata": {},
   "outputs": [
    {
     "name": "stdout",
     "output_type": "stream",
     "text": [
      "this is av.shape:  (741, 1)\n",
      "this is self.previous.shape:  (741,)\n",
      "(741, 1)\n",
      "(741,)\n",
      "False\n"
     ]
    }
   ],
   "source": [
    "oh = OptimalHoldings(risk_model, alpha_vector, previous, lambda_reg=0.75)\n",
    "oh._get_obj()"
   ]
  },
  {
   "cell_type": "code",
   "execution_count": 37,
   "metadata": {},
   "outputs": [
    {
     "name": "stdout",
     "output_type": "stream",
     "text": [
      "True\n"
     ]
    }
   ],
   "source": [
    "result = oh.find()"
   ]
  },
  {
   "cell_type": "code",
   "execution_count": 38,
   "metadata": {},
   "outputs": [
    {
     "name": "stderr",
     "output_type": "stream",
     "text": [
      "/Users/richard.wuebker/.pyenv/versions/zipline/lib/python3.5/site-packages/matplotlib/figure.py:98: MatplotlibDeprecationWarning: \n",
      "Adding an axes using the same arguments as a previous axes currently reuses the earlier instance.  In a future version, a new instance will always be created and returned.  Meanwhile, this warning can be suppressed, and the future behavior ensured, by passing a unique label to each axes instance.\n",
      "  \"Adding an axes using the same arguments as a previous axes \"\n"
     ]
    },
    {
     "data": {
      "image/png": "[encoded data removed]",
      "text/plain": [
       "<Figure size 1008x576 with 1 Axes>"
      ]
     },
     "metadata": {},
     "output_type": "display_data"
    }
   ],
   "source": [
    "(result).plot.bar(legend=False)\n",
    "x_axis = plt.axes().get_xaxis()\n",
    "x_axis.set_visible(False)\n",
    "plt.tight_layout()"
   ]
  },
  {
   "cell_type": "code",
   "execution_count": 82,
   "metadata": {},
   "outputs": [],
   "source": [
    "class OptimalHoldings:\n",
    "\n",
    "    def __init__(self, risk_model, alpha_vector, previous, risk_cap=0.05, factor_max=10.0, aum=50e6, lambda_reg=0.50,\n",
    "                 factor_min=-10.0, weights_max=0.01, weights_min=-0.01, risk_aversion=1.0e-6):\n",
    "\n",
    "        self.risk_model = risk_model\n",
    "        self.alpha_vector = alpha_vector\n",
    "        self.previous = previous\n",
    "        self.risk_cap = risk_cap\n",
    "        self.factor_min = factor_min\n",
    "        self.factor_max = factor_max\n",
    "        self.weights_min = weights_min\n",
    "        self.weights_max = weights_max\n",
    "        self.risk_aversion = risk_aversion\n",
    "        self.aum = aum\n",
    "        self.notional_risk = risk_cap * aum\n",
    "        self.lambda_reg = lambda_reg\n",
    "\n",
    "    def _get_obj(self):\n",
    "        ra = self.risk_aversion\n",
    "        Q = self.risk_model.Q # Q is k x N\n",
    "        ivv = self.risk_model.i_var_vector\n",
    "        av = self.alpha_vector.values.reshape(len(self.alpha_vector), 1)\n",
    "        h0 = self.previous\n",
    "        lambda_vector = np.ones((len(av), 1)) * 0.1/2000000\n",
    "        lv = lambda_vector\n",
    "        h1 = cvx.Variable(len(self.alpha_vector))\n",
    "        m = ra * 0.50\n",
    "        func = m * cvx.sum((Q @ h1)**2) + m * ((h1**2) @ ivv) - (h1 @ av) + ((h1-h0)**2) @ lv + self.lambda_reg * cvx.norm(h1, 2)\n",
    "        func = cvx.Minimize(func)\n",
    "        prob = cvx.Problem(func, [])\n",
    "        print(prob.is_dcp())\n",
    "        #av = -av\n",
    "        self.h1 = h1\n",
    "        self.ivv = ivv\n",
    "        self.Q = Q\n",
    "        #func = cvx.Minimize(av.T @ h1 + self.lambda_reg * cvx.norm(h1, 2))\n",
    "        self.obj_func = func\n",
    "\n",
    "    def _get_constraints(self):\n",
    "        risk = self.get_risk()\n",
    "        c = []\n",
    "        h1 = self.h1\n",
    "        factor_exposures = self.risk_model.factor_exposures\n",
    "        c.append(risk <= self.risk_cap ** 2)\n",
    "        c.append(h1 <= self.weights_max)\n",
    "        c.append(h1 >= self.weights_min)\n",
    "        c.append(sum(h1) == 0)\n",
    "        c.append(factor_exposures.T @ h1 <= self.factor_max)\n",
    "        c.append(factor_exposures.T @ h1 >= self.factor_min)\n",
    "        c.append(sum(cvx.abs(h1)) <= 1.0)\n",
    "        return [risk <= self.risk_cap**2, factor_exposures.T @ h1 <= self.factor_max, factor_exposures.T @ h1 >= self.factor_min, \\\n",
    "                sum(h1) == 0, sum(cvx.abs(h1)) <= 1, h1 >= self.weights_min, h1 <= self.weights_max]\n",
    "\n",
    "    def get_risk(self):\n",
    "        Q = self.risk_model.Q\n",
    "        h1 = self.h1\n",
    "        ivv = self.risk_model.i_var_vector\n",
    "        result = cvx.sum((Q @ h1)**2) + (h1**2) @ ivv\n",
    "        ivm = self.risk_model.i_var_matrix.values\n",
    "        f = self.risk_model.factor_exposures.T @ h1\n",
    "        X = self.risk_model.factor_cov_matrix\n",
    "        return cvx.quad_form(f, X) + cvx.quad_form(h1, ivm)\n",
    "\n",
    "    def find(self):\n",
    "        h1 = self.h1\n",
    "        prob = cvx.Problem(self.obj_func, self._get_constraints())\n",
    "        print(prob.is_dcp())\n",
    "        prob.solve(max_iters=1000)\n",
    "        optimal_weights = np.asarray(h1.value).flatten()\n",
    "        df = pd.DataFrame(optimal_weights, index=self.alpha_vector.index)\n",
    "        return df"
   ]
  },
  {
   "cell_type": "code",
   "execution_count": 83,
   "metadata": {},
   "outputs": [
    {
     "name": "stdout",
     "output_type": "stream",
     "text": [
      "True\n"
     ]
    }
   ],
   "source": [
    "oh = OptimalHoldings(risk_model, alpha_vector, previous, lambda_reg=0.50)\n",
    "oh._get_obj()"
   ]
  },
  {
   "cell_type": "code",
   "execution_count": 84,
   "metadata": {},
   "outputs": [
    {
     "name": "stdout",
     "output_type": "stream",
     "text": [
      "True\n"
     ]
    },
    {
     "data": {
      "image/png": "[encoded data removed]",
      "text/plain": [
       "<Figure size 1008x576 with 1 Axes>"
      ]
     },
     "metadata": {},
     "output_type": "display_data"
    }
   ],
   "source": [
    "result = oh.find()\n",
    "(result).plot.bar(legend=False)\n",
    "x_axis = plt.axes().get_xaxis()\n",
    "x_axis.set_visible(False)\n",
    "plt.tight_layout()"
   ]
  },
  {
   "cell_type": "code",
   "execution_count": null,
   "metadata": {},
   "outputs": [],
   "source": []
  }
 ],
 "metadata": {
  "kernelspec": {
   "display_name": "Python 3",
   "language": "python",
   "name": "python3"
  },
  "language_info": {
   "codemirror_mode": {
    "name": "ipython",
    "version": 3
   },
   "file_extension": ".py",
   "mimetype": "text/x-python",
   "name": "python",
   "nbconvert_exporter": "python",
   "pygments_lexer": "ipython3",
   "version": "3.5.4"
  }
 },
 "nbformat": 4,
 "nbformat_minor": 2
}
