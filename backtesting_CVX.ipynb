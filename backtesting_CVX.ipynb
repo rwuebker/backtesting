{
 "cells": [
  {
   "cell_type": "code",
   "execution_count": 1,
   "metadata": {},
   "outputs": [],
   "source": [
    "import datetime as dt\n",
    "import pandas as pd\n",
    "import alphalens as al\n",
    "import numpy as np\n",
    "import alphalens as al\n",
    "import cvxpy as cvx\n",
    "import os\n",
    "import sys\n",
    "import time\n",
    "import matplotlib.pyplot as plt\n",
    "import matplotlib.style as style\n",
    "from scipy.stats.stats import pearsonr\n",
    "from scipy.stats.stats import spearmanr\n",
    "from sklearn.linear_model import LinearRegression\n",
    "from tqdm import tqdm\n",
    "from scipy.stats import gaussian_kde\n",
    "style.use('ggplot')\n",
    "from IPython.core.pylabtools import figsize\n",
    "figsize(15, 5)\n",
    "\n",
    "mod_path = '/Users/richard.wuebker/Projects/price_data_utils'\n",
    "if mod_path not in sys.path:\n",
    "    sys.path.append(mod_path)\n",
    "\n",
    "libs_path = '/Users/richard.wuebker/Projects/backtesting/libs'\n",
    "if libs_path not in sys.path:\n",
    "    sys.path.append(libs_path)\n",
    "\n",
    "    \n",
    "from risk_model import RiskModelPCA\n",
    "from optimal_holdings import OptimalHoldingsCVX\n",
    "    \n",
    "from data_loader import DataLoader\n",
    "from mp_historical_prices import HistoricalPrices"
   ]
  },
  {
   "cell_type": "code",
   "execution_count": 2,
   "metadata": {},
   "outputs": [
    {
     "name": "stdout",
     "output_type": "stream",
     "text": [
      "Prediction Date: 2019-08-09\n"
     ]
    }
   ],
   "source": [
    "dl = DataLoader(prices_dir='../price_data_utils/prices', info_dir='../price_data_utils/info', \n",
    "                analysis_date_str='2019-08-07', cached_dir='../price_data_utils/cached')\n",
    "dl.load_data()\n",
    "data = dl.data"
   ]
  },
  {
   "cell_type": "code",
   "execution_count": 3,
   "metadata": {},
   "outputs": [
    {
     "data": {
      "text/html": [
       "<div>\n",
       "<style scoped>\n",
       "    .dataframe tbody tr th:only-of-type {\n",
       "        vertical-align: middle;\n",
       "    }\n",
       "\n",
       "    .dataframe tbody tr th {\n",
       "        vertical-align: top;\n",
       "    }\n",
       "\n",
       "    .dataframe thead th {\n",
       "        text-align: right;\n",
       "    }\n",
       "</style>\n",
       "<table border=\"1\" class=\"dataframe\">\n",
       "  <thead>\n",
       "    <tr style=\"text-align: right;\">\n",
       "      <th></th>\n",
       "      <th>index</th>\n",
       "      <th>Date</th>\n",
       "      <th>High</th>\n",
       "      <th>Low</th>\n",
       "      <th>Open</th>\n",
       "      <th>Close</th>\n",
       "      <th>Volume</th>\n",
       "      <th>Adj Close</th>\n",
       "      <th>ticker</th>\n",
       "    </tr>\n",
       "  </thead>\n",
       "  <tbody>\n",
       "  </tbody>\n",
       "</table>\n",
       "</div>"
      ],
      "text/plain": [
       "Empty DataFrame\n",
       "Columns: [index, Date, High, Low, Open, Close, Volume, Adj Close, ticker]\n",
       "Index: []"
      ]
     },
     "execution_count": 3,
     "metadata": {},
     "output_type": "execute_result"
    }
   ],
   "source": [
    "hp = HistoricalPrices(prices_dir='../price_data_utils/prices', \n",
    "                      cached_dir='../price_data_utils/cached',\n",
    "                      date_str='2019-08-09')\n",
    "hp.get_prices()\n",
    "prices = hp.prices\n",
    "\n",
    "# look for duplicates\n",
    "p = prices.reset_index()\n",
    "p.loc[p.duplicated(subset=['Date', 'ticker'], keep='first')]"
   ]
  },
  {
   "cell_type": "code",
   "execution_count": 4,
   "metadata": {},
   "outputs": [
    {
     "data": {
      "text/html": [
       "<div>\n",
       "<style scoped>\n",
       "    .dataframe tbody tr th:only-of-type {\n",
       "        vertical-align: middle;\n",
       "    }\n",
       "\n",
       "    .dataframe tbody tr th {\n",
       "        vertical-align: top;\n",
       "    }\n",
       "\n",
       "    .dataframe thead th {\n",
       "        text-align: right;\n",
       "    }\n",
       "</style>\n",
       "<table border=\"1\" class=\"dataframe\">\n",
       "  <thead>\n",
       "    <tr style=\"text-align: right;\">\n",
       "      <th></th>\n",
       "      <th>Date</th>\n",
       "      <th>High</th>\n",
       "      <th>Low</th>\n",
       "      <th>Open</th>\n",
       "      <th>Close</th>\n",
       "      <th>Volume</th>\n",
       "      <th>Adj Close</th>\n",
       "      <th>ticker</th>\n",
       "    </tr>\n",
       "  </thead>\n",
       "  <tbody>\n",
       "    <tr>\n",
       "      <th>0</th>\n",
       "      <td>1990-01-02</td>\n",
       "      <td>17.947027</td>\n",
       "      <td>17.527565</td>\n",
       "      <td>17.557526</td>\n",
       "      <td>17.947027</td>\n",
       "      <td>626200.0</td>\n",
       "      <td>7.267582</td>\n",
       "      <td>KMB</td>\n",
       "    </tr>\n",
       "    <tr>\n",
       "      <th>1</th>\n",
       "      <td>1990-01-03</td>\n",
       "      <td>17.976990</td>\n",
       "      <td>17.827181</td>\n",
       "      <td>17.976990</td>\n",
       "      <td>17.887104</td>\n",
       "      <td>749200.0</td>\n",
       "      <td>7.243319</td>\n",
       "      <td>KMB</td>\n",
       "    </tr>\n",
       "    <tr>\n",
       "      <th>2</th>\n",
       "      <td>1990-01-04</td>\n",
       "      <td>17.976990</td>\n",
       "      <td>17.797220</td>\n",
       "      <td>17.857143</td>\n",
       "      <td>17.857143</td>\n",
       "      <td>439700.0</td>\n",
       "      <td>7.231189</td>\n",
       "      <td>KMB</td>\n",
       "    </tr>\n",
       "    <tr>\n",
       "      <th>3</th>\n",
       "      <td>1990-01-05</td>\n",
       "      <td>17.857143</td>\n",
       "      <td>17.617449</td>\n",
       "      <td>17.797220</td>\n",
       "      <td>17.737297</td>\n",
       "      <td>712500.0</td>\n",
       "      <td>7.182656</td>\n",
       "      <td>KMB</td>\n",
       "    </tr>\n",
       "    <tr>\n",
       "      <th>4</th>\n",
       "      <td>1990-01-08</td>\n",
       "      <td>17.917067</td>\n",
       "      <td>17.707335</td>\n",
       "      <td>17.737297</td>\n",
       "      <td>17.917067</td>\n",
       "      <td>495600.0</td>\n",
       "      <td>7.255455</td>\n",
       "      <td>KMB</td>\n",
       "    </tr>\n",
       "  </tbody>\n",
       "</table>\n",
       "</div>"
      ],
      "text/plain": [
       "         Date       High        Low       Open      Close    Volume  \\\n",
       "0  1990-01-02  17.947027  17.527565  17.557526  17.947027  626200.0   \n",
       "1  1990-01-03  17.976990  17.827181  17.976990  17.887104  749200.0   \n",
       "2  1990-01-04  17.976990  17.797220  17.857143  17.857143  439700.0   \n",
       "3  1990-01-05  17.857143  17.617449  17.797220  17.737297  712500.0   \n",
       "4  1990-01-08  17.917067  17.707335  17.737297  17.917067  495600.0   \n",
       "\n",
       "   Adj Close ticker  \n",
       "0   7.267582    KMB  \n",
       "1   7.243319    KMB  \n",
       "2   7.231189    KMB  \n",
       "3   7.182656    KMB  \n",
       "4   7.255455    KMB  "
      ]
     },
     "execution_count": 4,
     "metadata": {},
     "output_type": "execute_result"
    }
   ],
   "source": [
    "prices.head()"
   ]
  },
  {
   "cell_type": "code",
   "execution_count": 5,
   "metadata": {},
   "outputs": [],
   "source": [
    "def transform_prices(df, end_date_str):\n",
    "    prices_temp = df.pivot(index='Date', columns='ticker', values='Adj Close')\n",
    "    end_date = dt.datetime.strptime(end_date_str, '%Y-%m-%d')\n",
    "    start_date = end_date - pd.DateOffset(years=5)\n",
    "    prices_temp.index = pd.to_datetime(prices_temp.index)\n",
    "    prices = prices_temp.loc[start_date:end_date]\n",
    "    return prices.dropna(axis=1)\n",
    "new_p = transform_prices(prices, '2016-01-05')"
   ]
  },
  {
   "cell_type": "code",
   "execution_count": 6,
   "metadata": {},
   "outputs": [],
   "source": [
    "# to make the index of data we have with sector the same as in returns and prices\n",
    "\n",
    "sector_data = data['sector']\n",
    "index_ = sector_data.index.intersection(new_p.columns)\n",
    "sector_data = sector_data.loc[index_]\n",
    "p = new_p.loc[:, index_].copy() # to use only the stocks that are in sector_data\n",
    "sectors = sector_data.unique()"
   ]
  },
  {
   "cell_type": "code",
   "execution_count": 7,
   "metadata": {},
   "outputs": [
    {
     "name": "stdout",
     "output_type": "stream",
     "text": [
      "(1257, 741)\n",
      "(741,)\n",
      "(1258, 741)\n"
     ]
    }
   ],
   "source": [
    "returns = p.pct_change().drop(p.index[0])\n",
    "print(returns.shape)\n",
    "print(sector_data.shape)\n",
    "print(p.shape)"
   ]
  },
  {
   "cell_type": "code",
   "execution_count": 8,
   "metadata": {},
   "outputs": [
    {
     "data": {
      "text/html": [
       "<div>\n",
       "<style scoped>\n",
       "    .dataframe tbody tr th:only-of-type {\n",
       "        vertical-align: middle;\n",
       "    }\n",
       "\n",
       "    .dataframe tbody tr th {\n",
       "        vertical-align: top;\n",
       "    }\n",
       "\n",
       "    .dataframe thead th {\n",
       "        text-align: right;\n",
       "    }\n",
       "</style>\n",
       "<table border=\"1\" class=\"dataframe\">\n",
       "  <thead>\n",
       "    <tr style=\"text-align: right;\">\n",
       "      <th>ticker</th>\n",
       "      <th>CSCO</th>\n",
       "      <th>UAL</th>\n",
       "      <th>TROW</th>\n",
       "      <th>ISRG</th>\n",
       "      <th>NVR</th>\n",
       "      <th>PRGO</th>\n",
       "      <th>LECO</th>\n",
       "      <th>TPR</th>\n",
       "      <th>DVN</th>\n",
       "      <th>CR</th>\n",
       "      <th>...</th>\n",
       "      <th>PGR</th>\n",
       "      <th>WAT</th>\n",
       "      <th>NNN</th>\n",
       "      <th>IEX</th>\n",
       "      <th>LRCX</th>\n",
       "      <th>NUS</th>\n",
       "      <th>NWL</th>\n",
       "      <th>UAA</th>\n",
       "      <th>BLK</th>\n",
       "      <th>PPL</th>\n",
       "    </tr>\n",
       "    <tr>\n",
       "      <th>Date</th>\n",
       "      <th></th>\n",
       "      <th></th>\n",
       "      <th></th>\n",
       "      <th></th>\n",
       "      <th></th>\n",
       "      <th></th>\n",
       "      <th></th>\n",
       "      <th></th>\n",
       "      <th></th>\n",
       "      <th></th>\n",
       "      <th></th>\n",
       "      <th></th>\n",
       "      <th></th>\n",
       "      <th></th>\n",
       "      <th></th>\n",
       "      <th></th>\n",
       "      <th></th>\n",
       "      <th></th>\n",
       "      <th></th>\n",
       "      <th></th>\n",
       "      <th></th>\n",
       "    </tr>\n",
       "  </thead>\n",
       "  <tbody>\n",
       "    <tr>\n",
       "      <th>2011-01-05</th>\n",
       "      <td>16.319235</td>\n",
       "      <td>25.350000</td>\n",
       "      <td>50.676487</td>\n",
       "      <td>91.209999</td>\n",
       "      <td>692.690002</td>\n",
       "      <td>59.998005</td>\n",
       "      <td>28.536177</td>\n",
       "      <td>40.534866</td>\n",
       "      <td>70.415245</td>\n",
       "      <td>34.523262</td>\n",
       "      <td>...</td>\n",
       "      <td>14.976269</td>\n",
       "      <td>77.790001</td>\n",
       "      <td>17.154980</td>\n",
       "      <td>33.694031</td>\n",
       "      <td>43.528183</td>\n",
       "      <td>23.909542</td>\n",
       "      <td>14.824180</td>\n",
       "      <td>6.94250</td>\n",
       "      <td>151.752335</td>\n",
       "      <td>16.587673</td>\n",
       "    </tr>\n",
       "    <tr>\n",
       "      <th>2011-01-06</th>\n",
       "      <td>16.460661</td>\n",
       "      <td>25.750000</td>\n",
       "      <td>50.676487</td>\n",
       "      <td>89.559998</td>\n",
       "      <td>718.400024</td>\n",
       "      <td>62.723892</td>\n",
       "      <td>28.326279</td>\n",
       "      <td>40.797176</td>\n",
       "      <td>69.994743</td>\n",
       "      <td>34.397305</td>\n",
       "      <td>...</td>\n",
       "      <td>14.842355</td>\n",
       "      <td>76.050003</td>\n",
       "      <td>16.839489</td>\n",
       "      <td>33.711502</td>\n",
       "      <td>43.555824</td>\n",
       "      <td>23.958487</td>\n",
       "      <td>14.856651</td>\n",
       "      <td>6.83000</td>\n",
       "      <td>150.116272</td>\n",
       "      <td>16.470205</td>\n",
       "    </tr>\n",
       "    <tr>\n",
       "      <th>2011-01-07</th>\n",
       "      <td>16.476372</td>\n",
       "      <td>25.950001</td>\n",
       "      <td>50.264294</td>\n",
       "      <td>89.133331</td>\n",
       "      <td>735.150024</td>\n",
       "      <td>62.590939</td>\n",
       "      <td>28.334854</td>\n",
       "      <td>40.758602</td>\n",
       "      <td>70.200493</td>\n",
       "      <td>34.976746</td>\n",
       "      <td>...</td>\n",
       "      <td>14.686119</td>\n",
       "      <td>75.209999</td>\n",
       "      <td>16.681742</td>\n",
       "      <td>33.589188</td>\n",
       "      <td>43.472923</td>\n",
       "      <td>24.031902</td>\n",
       "      <td>14.669928</td>\n",
       "      <td>6.69375</td>\n",
       "      <td>148.875351</td>\n",
       "      <td>16.315643</td>\n",
       "    </tr>\n",
       "    <tr>\n",
       "      <th>2011-01-10</th>\n",
       "      <td>16.334949</td>\n",
       "      <td>26.200001</td>\n",
       "      <td>50.342079</td>\n",
       "      <td>90.526665</td>\n",
       "      <td>749.960022</td>\n",
       "      <td>62.932850</td>\n",
       "      <td>28.647541</td>\n",
       "      <td>41.267784</td>\n",
       "      <td>70.057358</td>\n",
       "      <td>35.111115</td>\n",
       "      <td>...</td>\n",
       "      <td>14.358768</td>\n",
       "      <td>74.680000</td>\n",
       "      <td>16.497704</td>\n",
       "      <td>33.807583</td>\n",
       "      <td>44.891319</td>\n",
       "      <td>24.553984</td>\n",
       "      <td>14.678050</td>\n",
       "      <td>6.90250</td>\n",
       "      <td>151.096298</td>\n",
       "      <td>16.290915</td>\n",
       "    </tr>\n",
       "    <tr>\n",
       "      <th>2011-01-11</th>\n",
       "      <td>16.405655</td>\n",
       "      <td>25.690001</td>\n",
       "      <td>50.715374</td>\n",
       "      <td>93.663330</td>\n",
       "      <td>751.900024</td>\n",
       "      <td>63.474232</td>\n",
       "      <td>29.354307</td>\n",
       "      <td>41.653553</td>\n",
       "      <td>72.347855</td>\n",
       "      <td>35.279057</td>\n",
       "      <td>...</td>\n",
       "      <td>14.336452</td>\n",
       "      <td>76.300003</td>\n",
       "      <td>16.333384</td>\n",
       "      <td>33.982292</td>\n",
       "      <td>45.572895</td>\n",
       "      <td>24.456089</td>\n",
       "      <td>14.507563</td>\n",
       "      <td>6.79875</td>\n",
       "      <td>152.874680</td>\n",
       "      <td>16.303284</td>\n",
       "    </tr>\n",
       "  </tbody>\n",
       "</table>\n",
       "<p>5 rows × 741 columns</p>\n",
       "</div>"
      ],
      "text/plain": [
       "ticker           CSCO        UAL       TROW       ISRG         NVR       PRGO  \\\n",
       "Date                                                                            \n",
       "2011-01-05  16.319235  25.350000  50.676487  91.209999  692.690002  59.998005   \n",
       "2011-01-06  16.460661  25.750000  50.676487  89.559998  718.400024  62.723892   \n",
       "2011-01-07  16.476372  25.950001  50.264294  89.133331  735.150024  62.590939   \n",
       "2011-01-10  16.334949  26.200001  50.342079  90.526665  749.960022  62.932850   \n",
       "2011-01-11  16.405655  25.690001  50.715374  93.663330  751.900024  63.474232   \n",
       "\n",
       "ticker           LECO        TPR        DVN         CR    ...            PGR  \\\n",
       "Date                                                      ...                  \n",
       "2011-01-05  28.536177  40.534866  70.415245  34.523262    ...      14.976269   \n",
       "2011-01-06  28.326279  40.797176  69.994743  34.397305    ...      14.842355   \n",
       "2011-01-07  28.334854  40.758602  70.200493  34.976746    ...      14.686119   \n",
       "2011-01-10  28.647541  41.267784  70.057358  35.111115    ...      14.358768   \n",
       "2011-01-11  29.354307  41.653553  72.347855  35.279057    ...      14.336452   \n",
       "\n",
       "ticker            WAT        NNN        IEX       LRCX        NUS        NWL  \\\n",
       "Date                                                                           \n",
       "2011-01-05  77.790001  17.154980  33.694031  43.528183  23.909542  14.824180   \n",
       "2011-01-06  76.050003  16.839489  33.711502  43.555824  23.958487  14.856651   \n",
       "2011-01-07  75.209999  16.681742  33.589188  43.472923  24.031902  14.669928   \n",
       "2011-01-10  74.680000  16.497704  33.807583  44.891319  24.553984  14.678050   \n",
       "2011-01-11  76.300003  16.333384  33.982292  45.572895  24.456089  14.507563   \n",
       "\n",
       "ticker          UAA         BLK        PPL  \n",
       "Date                                        \n",
       "2011-01-05  6.94250  151.752335  16.587673  \n",
       "2011-01-06  6.83000  150.116272  16.470205  \n",
       "2011-01-07  6.69375  148.875351  16.315643  \n",
       "2011-01-10  6.90250  151.096298  16.290915  \n",
       "2011-01-11  6.79875  152.874680  16.303284  \n",
       "\n",
       "[5 rows x 741 columns]"
      ]
     },
     "execution_count": 8,
     "metadata": {},
     "output_type": "execute_result"
    }
   ],
   "source": [
    "p.head()"
   ]
  },
  {
   "cell_type": "code",
   "execution_count": 9,
   "metadata": {},
   "outputs": [
    {
     "data": {
      "text/html": [
       "<div>\n",
       "<style scoped>\n",
       "    .dataframe tbody tr th:only-of-type {\n",
       "        vertical-align: middle;\n",
       "    }\n",
       "\n",
       "    .dataframe tbody tr th {\n",
       "        vertical-align: top;\n",
       "    }\n",
       "\n",
       "    .dataframe thead th {\n",
       "        text-align: right;\n",
       "    }\n",
       "</style>\n",
       "<table border=\"1\" class=\"dataframe\">\n",
       "  <thead>\n",
       "    <tr style=\"text-align: right;\">\n",
       "      <th>ticker</th>\n",
       "      <th>CSCO</th>\n",
       "      <th>UAL</th>\n",
       "      <th>TROW</th>\n",
       "      <th>ISRG</th>\n",
       "      <th>NVR</th>\n",
       "      <th>PRGO</th>\n",
       "      <th>LECO</th>\n",
       "      <th>TPR</th>\n",
       "      <th>DVN</th>\n",
       "      <th>CR</th>\n",
       "      <th>...</th>\n",
       "      <th>PGR</th>\n",
       "      <th>WAT</th>\n",
       "      <th>NNN</th>\n",
       "      <th>IEX</th>\n",
       "      <th>LRCX</th>\n",
       "      <th>NUS</th>\n",
       "      <th>NWL</th>\n",
       "      <th>UAA</th>\n",
       "      <th>BLK</th>\n",
       "      <th>PPL</th>\n",
       "    </tr>\n",
       "    <tr>\n",
       "      <th>Date</th>\n",
       "      <th></th>\n",
       "      <th></th>\n",
       "      <th></th>\n",
       "      <th></th>\n",
       "      <th></th>\n",
       "      <th></th>\n",
       "      <th></th>\n",
       "      <th></th>\n",
       "      <th></th>\n",
       "      <th></th>\n",
       "      <th></th>\n",
       "      <th></th>\n",
       "      <th></th>\n",
       "      <th></th>\n",
       "      <th></th>\n",
       "      <th></th>\n",
       "      <th></th>\n",
       "      <th></th>\n",
       "      <th></th>\n",
       "      <th></th>\n",
       "      <th></th>\n",
       "    </tr>\n",
       "  </thead>\n",
       "  <tbody>\n",
       "    <tr>\n",
       "      <th>2015-12-29</th>\n",
       "      <td>24.640928</td>\n",
       "      <td>59.299999</td>\n",
       "      <td>66.267441</td>\n",
       "      <td>184.456665</td>\n",
       "      <td>1650.000000</td>\n",
       "      <td>141.577072</td>\n",
       "      <td>48.883698</td>\n",
       "      <td>29.317432</td>\n",
       "      <td>31.023300</td>\n",
       "      <td>45.610756</td>\n",
       "      <td>...</td>\n",
       "      <td>29.112070</td>\n",
       "      <td>136.169998</td>\n",
       "      <td>34.340061</td>\n",
       "      <td>73.815681</td>\n",
       "      <td>75.976669</td>\n",
       "      <td>35.107853</td>\n",
       "      <td>39.816341</td>\n",
       "      <td>41.125000</td>\n",
       "      <td>314.309814</td>\n",
       "      <td>29.093164</td>\n",
       "    </tr>\n",
       "    <tr>\n",
       "      <th>2015-12-30</th>\n",
       "      <td>24.427971</td>\n",
       "      <td>57.509998</td>\n",
       "      <td>65.351830</td>\n",
       "      <td>184.169998</td>\n",
       "      <td>1649.540039</td>\n",
       "      <td>140.273254</td>\n",
       "      <td>48.753433</td>\n",
       "      <td>29.024263</td>\n",
       "      <td>29.830099</td>\n",
       "      <td>45.245197</td>\n",
       "      <td>...</td>\n",
       "      <td>28.986509</td>\n",
       "      <td>135.639999</td>\n",
       "      <td>34.271770</td>\n",
       "      <td>73.255249</td>\n",
       "      <td>75.430962</td>\n",
       "      <td>35.071419</td>\n",
       "      <td>39.375340</td>\n",
       "      <td>40.480000</td>\n",
       "      <td>312.891907</td>\n",
       "      <td>29.008694</td>\n",
       "    </tr>\n",
       "    <tr>\n",
       "      <th>2015-12-31</th>\n",
       "      <td>24.099659</td>\n",
       "      <td>57.299999</td>\n",
       "      <td>64.807915</td>\n",
       "      <td>182.053329</td>\n",
       "      <td>1643.000000</td>\n",
       "      <td>139.751724</td>\n",
       "      <td>48.278931</td>\n",
       "      <td>29.077566</td>\n",
       "      <td>30.792358</td>\n",
       "      <td>44.842140</td>\n",
       "      <td>...</td>\n",
       "      <td>28.520142</td>\n",
       "      <td>134.580002</td>\n",
       "      <td>34.186417</td>\n",
       "      <td>72.770805</td>\n",
       "      <td>74.725288</td>\n",
       "      <td>34.515739</td>\n",
       "      <td>39.672337</td>\n",
       "      <td>40.305000</td>\n",
       "      <td>311.492279</td>\n",
       "      <td>28.831297</td>\n",
       "    </tr>\n",
       "    <tr>\n",
       "      <th>2016-01-04</th>\n",
       "      <td>23.616772</td>\n",
       "      <td>55.610001</td>\n",
       "      <td>63.629417</td>\n",
       "      <td>182.463333</td>\n",
       "      <td>1555.660034</td>\n",
       "      <td>137.626907</td>\n",
       "      <td>48.325451</td>\n",
       "      <td>29.886017</td>\n",
       "      <td>31.100277</td>\n",
       "      <td>44.710915</td>\n",
       "      <td>...</td>\n",
       "      <td>27.910280</td>\n",
       "      <td>130.350006</td>\n",
       "      <td>33.768162</td>\n",
       "      <td>71.944405</td>\n",
       "      <td>73.135201</td>\n",
       "      <td>34.415535</td>\n",
       "      <td>39.096333</td>\n",
       "      <td>39.830002</td>\n",
       "      <td>304.704834</td>\n",
       "      <td>28.451166</td>\n",
       "    </tr>\n",
       "    <tr>\n",
       "      <th>2016-01-05</th>\n",
       "      <td>23.509462</td>\n",
       "      <td>55.060001</td>\n",
       "      <td>63.892326</td>\n",
       "      <td>183.986664</td>\n",
       "      <td>1594.089966</td>\n",
       "      <td>137.800766</td>\n",
       "      <td>48.167278</td>\n",
       "      <td>30.179193</td>\n",
       "      <td>31.591042</td>\n",
       "      <td>44.542198</td>\n",
       "      <td>...</td>\n",
       "      <td>28.170368</td>\n",
       "      <td>129.809998</td>\n",
       "      <td>34.382748</td>\n",
       "      <td>71.241478</td>\n",
       "      <td>73.530373</td>\n",
       "      <td>33.559250</td>\n",
       "      <td>39.078335</td>\n",
       "      <td>40.075001</td>\n",
       "      <td>305.491516</td>\n",
       "      <td>28.755270</td>\n",
       "    </tr>\n",
       "  </tbody>\n",
       "</table>\n",
       "<p>5 rows × 741 columns</p>\n",
       "</div>"
      ],
      "text/plain": [
       "ticker           CSCO        UAL       TROW        ISRG          NVR  \\\n",
       "Date                                                                   \n",
       "2015-12-29  24.640928  59.299999  66.267441  184.456665  1650.000000   \n",
       "2015-12-30  24.427971  57.509998  65.351830  184.169998  1649.540039   \n",
       "2015-12-31  24.099659  57.299999  64.807915  182.053329  1643.000000   \n",
       "2016-01-04  23.616772  55.610001  63.629417  182.463333  1555.660034   \n",
       "2016-01-05  23.509462  55.060001  63.892326  183.986664  1594.089966   \n",
       "\n",
       "ticker            PRGO       LECO        TPR        DVN         CR    ...      \\\n",
       "Date                                                                  ...       \n",
       "2015-12-29  141.577072  48.883698  29.317432  31.023300  45.610756    ...       \n",
       "2015-12-30  140.273254  48.753433  29.024263  29.830099  45.245197    ...       \n",
       "2015-12-31  139.751724  48.278931  29.077566  30.792358  44.842140    ...       \n",
       "2016-01-04  137.626907  48.325451  29.886017  31.100277  44.710915    ...       \n",
       "2016-01-05  137.800766  48.167278  30.179193  31.591042  44.542198    ...       \n",
       "\n",
       "ticker            PGR         WAT        NNN        IEX       LRCX        NUS  \\\n",
       "Date                                                                            \n",
       "2015-12-29  29.112070  136.169998  34.340061  73.815681  75.976669  35.107853   \n",
       "2015-12-30  28.986509  135.639999  34.271770  73.255249  75.430962  35.071419   \n",
       "2015-12-31  28.520142  134.580002  34.186417  72.770805  74.725288  34.515739   \n",
       "2016-01-04  27.910280  130.350006  33.768162  71.944405  73.135201  34.415535   \n",
       "2016-01-05  28.170368  129.809998  34.382748  71.241478  73.530373  33.559250   \n",
       "\n",
       "ticker            NWL        UAA         BLK        PPL  \n",
       "Date                                                     \n",
       "2015-12-29  39.816341  41.125000  314.309814  29.093164  \n",
       "2015-12-30  39.375340  40.480000  312.891907  29.008694  \n",
       "2015-12-31  39.672337  40.305000  311.492279  28.831297  \n",
       "2016-01-04  39.096333  39.830002  304.704834  28.451166  \n",
       "2016-01-05  39.078335  40.075001  305.491516  28.755270  \n",
       "\n",
       "[5 rows x 741 columns]"
      ]
     },
     "execution_count": 9,
     "metadata": {},
     "output_type": "execute_result"
    }
   ],
   "source": [
    "p.tail()"
   ]
  },
  {
   "cell_type": "code",
   "execution_count": 10,
   "metadata": {},
   "outputs": [
    {
     "name": "stdout",
     "output_type": "stream",
     "text": [
      "(504, 741)\n"
     ]
    },
    {
     "data": {
      "text/html": [
       "<div>\n",
       "<style scoped>\n",
       "    .dataframe tbody tr th:only-of-type {\n",
       "        vertical-align: middle;\n",
       "    }\n",
       "\n",
       "    .dataframe tbody tr th {\n",
       "        vertical-align: top;\n",
       "    }\n",
       "\n",
       "    .dataframe thead th {\n",
       "        text-align: right;\n",
       "    }\n",
       "</style>\n",
       "<table border=\"1\" class=\"dataframe\">\n",
       "  <thead>\n",
       "    <tr style=\"text-align: right;\">\n",
       "      <th>ticker</th>\n",
       "      <th>CSCO</th>\n",
       "      <th>UAL</th>\n",
       "      <th>TROW</th>\n",
       "      <th>ISRG</th>\n",
       "      <th>NVR</th>\n",
       "      <th>PRGO</th>\n",
       "      <th>LECO</th>\n",
       "      <th>TPR</th>\n",
       "      <th>DVN</th>\n",
       "      <th>CR</th>\n",
       "      <th>...</th>\n",
       "      <th>PGR</th>\n",
       "      <th>WAT</th>\n",
       "      <th>NNN</th>\n",
       "      <th>IEX</th>\n",
       "      <th>LRCX</th>\n",
       "      <th>NUS</th>\n",
       "      <th>NWL</th>\n",
       "      <th>UAA</th>\n",
       "      <th>BLK</th>\n",
       "      <th>PPL</th>\n",
       "    </tr>\n",
       "    <tr>\n",
       "      <th>Date</th>\n",
       "      <th></th>\n",
       "      <th></th>\n",
       "      <th></th>\n",
       "      <th></th>\n",
       "      <th></th>\n",
       "      <th></th>\n",
       "      <th></th>\n",
       "      <th></th>\n",
       "      <th></th>\n",
       "      <th></th>\n",
       "      <th></th>\n",
       "      <th></th>\n",
       "      <th></th>\n",
       "      <th></th>\n",
       "      <th></th>\n",
       "      <th></th>\n",
       "      <th></th>\n",
       "      <th></th>\n",
       "      <th></th>\n",
       "      <th></th>\n",
       "      <th></th>\n",
       "    </tr>\n",
       "  </thead>\n",
       "  <tbody>\n",
       "    <tr>\n",
       "      <th>2014-01-02</th>\n",
       "      <td>-0.011680</td>\n",
       "      <td>-0.002643</td>\n",
       "      <td>-0.014444</td>\n",
       "      <td>-0.010597</td>\n",
       "      <td>-0.008684</td>\n",
       "      <td>-0.002346</td>\n",
       "      <td>-0.013737</td>\n",
       "      <td>-0.003920</td>\n",
       "      <td>-0.011476</td>\n",
       "      <td>-0.007286</td>\n",
       "      <td>...</td>\n",
       "      <td>-0.020169</td>\n",
       "      <td>-0.007800</td>\n",
       "      <td>0.002308</td>\n",
       "      <td>-0.016520</td>\n",
       "      <td>-0.009183</td>\n",
       "      <td>-0.001085</td>\n",
       "      <td>-0.007096</td>\n",
       "      <td>-0.003666</td>\n",
       "      <td>-0.011597</td>\n",
       "      <td>-0.014623</td>\n",
       "    </tr>\n",
       "    <tr>\n",
       "      <th>2014-01-03</th>\n",
       "      <td>-0.000909</td>\n",
       "      <td>0.058839</td>\n",
       "      <td>0.008963</td>\n",
       "      <td>-0.017236</td>\n",
       "      <td>0.002212</td>\n",
       "      <td>0.007381</td>\n",
       "      <td>0.001563</td>\n",
       "      <td>0.005902</td>\n",
       "      <td>-0.002126</td>\n",
       "      <td>0.001198</td>\n",
       "      <td>...</td>\n",
       "      <td>-0.014221</td>\n",
       "      <td>-0.011893</td>\n",
       "      <td>0.013487</td>\n",
       "      <td>0.006746</td>\n",
       "      <td>-0.000185</td>\n",
       "      <td>-0.040994</td>\n",
       "      <td>0.006837</td>\n",
       "      <td>0.000115</td>\n",
       "      <td>0.004380</td>\n",
       "      <td>-0.001012</td>\n",
       "    </tr>\n",
       "    <tr>\n",
       "      <th>2014-01-06</th>\n",
       "      <td>0.001365</td>\n",
       "      <td>-0.014768</td>\n",
       "      <td>-0.001561</td>\n",
       "      <td>-0.006748</td>\n",
       "      <td>0.006161</td>\n",
       "      <td>-0.008429</td>\n",
       "      <td>-0.014900</td>\n",
       "      <td>-0.006757</td>\n",
       "      <td>-0.012781</td>\n",
       "      <td>-0.010473</td>\n",
       "      <td>...</td>\n",
       "      <td>-0.006454</td>\n",
       "      <td>0.003570</td>\n",
       "      <td>0.004544</td>\n",
       "      <td>-0.006154</td>\n",
       "      <td>-0.012792</td>\n",
       "      <td>0.006419</td>\n",
       "      <td>-0.009259</td>\n",
       "      <td>-0.004368</td>\n",
       "      <td>-0.000318</td>\n",
       "      <td>0.004389</td>\n",
       "    </tr>\n",
       "    <tr>\n",
       "      <th>2014-01-07</th>\n",
       "      <td>0.013630</td>\n",
       "      <td>-0.017022</td>\n",
       "      <td>0.008416</td>\n",
       "      <td>0.007602</td>\n",
       "      <td>-0.011456</td>\n",
       "      <td>0.010789</td>\n",
       "      <td>0.014117</td>\n",
       "      <td>0.009309</td>\n",
       "      <td>0.020415</td>\n",
       "      <td>0.009828</td>\n",
       "      <td>...</td>\n",
       "      <td>-0.005350</td>\n",
       "      <td>0.020226</td>\n",
       "      <td>0.006462</td>\n",
       "      <td>0.004954</td>\n",
       "      <td>0.012394</td>\n",
       "      <td>0.033168</td>\n",
       "      <td>0.000623</td>\n",
       "      <td>0.001963</td>\n",
       "      <td>0.009202</td>\n",
       "      <td>0.005714</td>\n",
       "    </tr>\n",
       "    <tr>\n",
       "      <th>2014-01-08</th>\n",
       "      <td>-0.000896</td>\n",
       "      <td>0.060222</td>\n",
       "      <td>0.000596</td>\n",
       "      <td>0.017926</td>\n",
       "      <td>-0.003925</td>\n",
       "      <td>0.022319</td>\n",
       "      <td>-0.003409</td>\n",
       "      <td>-0.011884</td>\n",
       "      <td>-0.002765</td>\n",
       "      <td>0.001497</td>\n",
       "      <td>...</td>\n",
       "      <td>-0.011909</td>\n",
       "      <td>0.000996</td>\n",
       "      <td>-0.006421</td>\n",
       "      <td>0.001369</td>\n",
       "      <td>0.005008</td>\n",
       "      <td>0.001235</td>\n",
       "      <td>-0.003425</td>\n",
       "      <td>0.001383</td>\n",
       "      <td>-0.000315</td>\n",
       "      <td>-0.009024</td>\n",
       "    </tr>\n",
       "  </tbody>\n",
       "</table>\n",
       "<p>5 rows × 741 columns</p>\n",
       "</div>"
      ],
      "text/plain": [
       "ticker          CSCO       UAL      TROW      ISRG       NVR      PRGO  \\\n",
       "Date                                                                     \n",
       "2014-01-02 -0.011680 -0.002643 -0.014444 -0.010597 -0.008684 -0.002346   \n",
       "2014-01-03 -0.000909  0.058839  0.008963 -0.017236  0.002212  0.007381   \n",
       "2014-01-06  0.001365 -0.014768 -0.001561 -0.006748  0.006161 -0.008429   \n",
       "2014-01-07  0.013630 -0.017022  0.008416  0.007602 -0.011456  0.010789   \n",
       "2014-01-08 -0.000896  0.060222  0.000596  0.017926 -0.003925  0.022319   \n",
       "\n",
       "ticker          LECO       TPR       DVN        CR    ...          PGR  \\\n",
       "Date                                                  ...                \n",
       "2014-01-02 -0.013737 -0.003920 -0.011476 -0.007286    ...    -0.020169   \n",
       "2014-01-03  0.001563  0.005902 -0.002126  0.001198    ...    -0.014221   \n",
       "2014-01-06 -0.014900 -0.006757 -0.012781 -0.010473    ...    -0.006454   \n",
       "2014-01-07  0.014117  0.009309  0.020415  0.009828    ...    -0.005350   \n",
       "2014-01-08 -0.003409 -0.011884 -0.002765  0.001497    ...    -0.011909   \n",
       "\n",
       "ticker           WAT       NNN       IEX      LRCX       NUS       NWL  \\\n",
       "Date                                                                     \n",
       "2014-01-02 -0.007800  0.002308 -0.016520 -0.009183 -0.001085 -0.007096   \n",
       "2014-01-03 -0.011893  0.013487  0.006746 -0.000185 -0.040994  0.006837   \n",
       "2014-01-06  0.003570  0.004544 -0.006154 -0.012792  0.006419 -0.009259   \n",
       "2014-01-07  0.020226  0.006462  0.004954  0.012394  0.033168  0.000623   \n",
       "2014-01-08  0.000996 -0.006421  0.001369  0.005008  0.001235 -0.003425   \n",
       "\n",
       "ticker           UAA       BLK       PPL  \n",
       "Date                                      \n",
       "2014-01-02 -0.003666 -0.011597 -0.014623  \n",
       "2014-01-03  0.000115  0.004380 -0.001012  \n",
       "2014-01-06 -0.004368 -0.000318  0.004389  \n",
       "2014-01-07  0.001963  0.009202  0.005714  \n",
       "2014-01-08  0.001383 -0.000315 -0.009024  \n",
       "\n",
       "[5 rows x 741 columns]"
      ]
     },
     "execution_count": 10,
     "metadata": {},
     "output_type": "execute_result"
    }
   ],
   "source": [
    "rets = returns.loc['2014-01-01':'2015-12-31']\n",
    "print(rets.shape)\n",
    "rets.head()"
   ]
  },
  {
   "cell_type": "code",
   "execution_count": 11,
   "metadata": {},
   "outputs": [],
   "source": [
    "risk_model = RiskModelPCA(rets, 20)"
   ]
  },
  {
   "cell_type": "code",
   "execution_count": 12,
   "metadata": {},
   "outputs": [
    {
     "data": {
      "text/plain": [
       "<BarContainer object of 20 artists>"
      ]
     },
     "execution_count": 12,
     "metadata": {},
     "output_type": "execute_result"
    },
    {
     "data": {
      "image/png": "[encoded data removed]",
      "text/plain": [
       "<Figure size 432x288 with 1 Axes>"
      ]
     },
     "metadata": {
      "needs_background": "light"
     },
     "output_type": "display_data"
    }
   ],
   "source": [
    "plt.bar(np.arange(risk_model.n_components), risk_model.pca.explained_variance_ratio_)"
   ]
  },
  {
   "cell_type": "code",
   "execution_count": 13,
   "metadata": {},
   "outputs": [
    {
     "data": {
      "image/png": "[encoded data removed]",
      "text/plain": [
       "<Figure size 432x288 with 1 Axes>"
      ]
     },
     "metadata": {
      "needs_background": "light"
     },
     "output_type": "display_data"
    }
   ],
   "source": [
    "# looking at factor returns\n",
    "risk_model.factor_returns.cumsum().plot(legend=False)\n",
    "plt.tight_layout()"
   ]
  },
  {
   "cell_type": "code",
   "execution_count": 14,
   "metadata": {},
   "outputs": [],
   "source": [
    "def density_plot(data): \n",
    "    density = gaussian_kde(data)\n",
    "    xs = np.linspace(np.min(data),np.max(data),200)\n",
    "    density.covariance_factor = lambda : .25\n",
    "    density._compute_covariance()\n",
    "    plt.plot(xs,density(xs))\n",
    "    plt.xlabel('Daily Returns')\n",
    "    plt.ylabel('Density')\n",
    "    plt.show()"
   ]
  },
  {
   "cell_type": "code",
   "execution_count": 15,
   "metadata": {},
   "outputs": [
    {
     "data": {
      "image/png": "[encoded data removed]",
      "text/plain": [
       "<Figure size 432x288 with 1 Axes>"
      ]
     },
     "metadata": {
      "needs_background": "light"
     },
     "output_type": "display_data"
    }
   ],
   "source": [
    "density_plot(risk_model.unwinz_returns.iloc[0])"
   ]
  },
  {
   "cell_type": "code",
   "execution_count": 16,
   "metadata": {},
   "outputs": [
    {
     "data": {
      "image/png": "[encoded data removed]",
      "text/plain": [
       "<Figure size 432x288 with 1 Axes>"
      ]
     },
     "metadata": {
      "needs_background": "light"
     },
     "output_type": "display_data"
    }
   ],
   "source": [
    "density_plot(risk_model.returns.iloc[0])"
   ]
  },
  {
   "cell_type": "code",
   "execution_count": 17,
   "metadata": {},
   "outputs": [
    {
     "name": "stdout",
     "output_type": "stream",
     "text": [
      "[0.001349527665317139, 0.001349527665317139, 0.001349527665317139, 0.001349527665317139, 0.001349527665317139]\n",
      "this is h2.shape:  (741,)\n",
      "this is ivv.shape:  (741, 1)\n"
     ]
    },
    {
     "data": {
      "text/plain": [
       "0.13830879851271666"
      ]
     },
     "execution_count": 17,
     "metadata": {},
     "output_type": "execute_result"
    }
   ],
   "source": [
    "holdings = [1 / len(rets.columns)] * len(rets.columns)\n",
    "print(holdings[:5])\n",
    "np.sqrt(risk_model.predict_portfolio_risk_opt(holdings, 1))"
   ]
  },
  {
   "cell_type": "code",
   "execution_count": 18,
   "metadata": {},
   "outputs": [
    {
     "name": "stdout",
     "output_type": "stream",
     "text": [
      "this is h2.shape:  (741,)\n",
      "this is ivv.shape:  (741, 1)\n"
     ]
    },
    {
     "data": {
      "text/plain": [
       "0.13830879851271666"
      ]
     },
     "execution_count": 18,
     "metadata": {},
     "output_type": "execute_result"
    }
   ],
   "source": [
    "aum = 50000000\n",
    "holdings = np.asarray(holdings) * aum\n",
    "np.sqrt(risk_model.predict_portfolio_risk_opt(holdings, aum))"
   ]
  },
  {
   "cell_type": "code",
   "execution_count": 20,
   "metadata": {},
   "outputs": [],
   "source": [
    "def create_momentum_factor(prices, sector_data):\n",
    "\n",
    "    # demean by sector\n",
    "    df = prices.pct_change(252).dropna()\n",
    "    sectors = sector_data.unique()\n",
    "    \n",
    "    # demean by sector\n",
    "    for sector in sectors:\n",
    "        col_filter = sector_data[sector_data==sector].index\n",
    "        means = df.loc[:, col_filter].mean(axis=1)\n",
    "        df.loc[:, col_filter] = df.loc[:, col_filter].subtract(means, axis=0)\n",
    "        \n",
    "    ranked = df.rank(axis=1, method='first')\n",
    "    means = ranked.mean(axis=1)\n",
    "    stds = ranked.std(axis=1)\n",
    "    demeaned = ranked.subtract(means, axis=0)\n",
    "    zscored = demeaned.div(stds, axis=0)\n",
    "    return zscored"
   ]
  },
  {
   "cell_type": "code",
   "execution_count": 21,
   "metadata": {},
   "outputs": [
    {
     "data": {
      "text/html": [
       "<div>\n",
       "<style scoped>\n",
       "    .dataframe tbody tr th:only-of-type {\n",
       "        vertical-align: middle;\n",
       "    }\n",
       "\n",
       "    .dataframe tbody tr th {\n",
       "        vertical-align: top;\n",
       "    }\n",
       "\n",
       "    .dataframe thead th {\n",
       "        text-align: right;\n",
       "    }\n",
       "</style>\n",
       "<table border=\"1\" class=\"dataframe\">\n",
       "  <thead>\n",
       "    <tr style=\"text-align: right;\">\n",
       "      <th>ticker</th>\n",
       "      <th>CSCO</th>\n",
       "      <th>UAL</th>\n",
       "      <th>TROW</th>\n",
       "      <th>ISRG</th>\n",
       "      <th>NVR</th>\n",
       "      <th>PRGO</th>\n",
       "      <th>LECO</th>\n",
       "      <th>TPR</th>\n",
       "      <th>DVN</th>\n",
       "      <th>CR</th>\n",
       "      <th>...</th>\n",
       "      <th>PGR</th>\n",
       "      <th>WAT</th>\n",
       "      <th>NNN</th>\n",
       "      <th>IEX</th>\n",
       "      <th>LRCX</th>\n",
       "      <th>NUS</th>\n",
       "      <th>NWL</th>\n",
       "      <th>UAA</th>\n",
       "      <th>BLK</th>\n",
       "      <th>PPL</th>\n",
       "    </tr>\n",
       "    <tr>\n",
       "      <th>Date</th>\n",
       "      <th></th>\n",
       "      <th></th>\n",
       "      <th></th>\n",
       "      <th></th>\n",
       "      <th></th>\n",
       "      <th></th>\n",
       "      <th></th>\n",
       "      <th></th>\n",
       "      <th></th>\n",
       "      <th></th>\n",
       "      <th></th>\n",
       "      <th></th>\n",
       "      <th></th>\n",
       "      <th></th>\n",
       "      <th></th>\n",
       "      <th></th>\n",
       "      <th></th>\n",
       "      <th></th>\n",
       "      <th></th>\n",
       "      <th></th>\n",
       "      <th></th>\n",
       "    </tr>\n",
       "  </thead>\n",
       "  <tbody>\n",
       "    <tr>\n",
       "      <th>2012-01-05</th>\n",
       "      <td>-0.471847</td>\n",
       "      <td>-1.326777</td>\n",
       "      <td>-0.228916</td>\n",
       "      <td>1.691173</td>\n",
       "      <td>-0.369068</td>\n",
       "      <td>1.588395</td>\n",
       "      <td>1.130563</td>\n",
       "      <td>0.728793</td>\n",
       "      <td>-1.200640</td>\n",
       "      <td>1.032457</td>\n",
       "      <td>...</td>\n",
       "      <td>0.261618</td>\n",
       "      <td>-0.686747</td>\n",
       "      <td>0.149496</td>\n",
       "      <td>-0.158839</td>\n",
       "      <td>-1.051144</td>\n",
       "      <td>1.621097</td>\n",
       "      <td>-1.130563</td>\n",
       "      <td>1.214655</td>\n",
       "      <td>0.126137</td>\n",
       "      <td>-0.172855</td>\n",
       "    </tr>\n",
       "    <tr>\n",
       "      <th>2012-01-06</th>\n",
       "      <td>-0.476518</td>\n",
       "      <td>-1.382838</td>\n",
       "      <td>-0.196213</td>\n",
       "      <td>1.686502</td>\n",
       "      <td>-0.583969</td>\n",
       "      <td>1.532334</td>\n",
       "      <td>1.130563</td>\n",
       "      <td>0.752152</td>\n",
       "      <td>-1.256701</td>\n",
       "      <td>1.027785</td>\n",
       "      <td>...</td>\n",
       "      <td>0.355053</td>\n",
       "      <td>-0.551266</td>\n",
       "      <td>0.219572</td>\n",
       "      <td>-0.182198</td>\n",
       "      <td>-1.004426</td>\n",
       "      <td>1.588395</td>\n",
       "      <td>-1.065159</td>\n",
       "      <td>1.275388</td>\n",
       "      <td>0.233587</td>\n",
       "      <td>-0.149496</td>\n",
       "    </tr>\n",
       "    <tr>\n",
       "      <th>2012-01-09</th>\n",
       "      <td>-0.513892</td>\n",
       "      <td>-1.448242</td>\n",
       "      <td>-0.294320</td>\n",
       "      <td>1.663143</td>\n",
       "      <td>-0.738136</td>\n",
       "      <td>1.513647</td>\n",
       "      <td>1.172609</td>\n",
       "      <td>0.752152</td>\n",
       "      <td>-1.130563</td>\n",
       "      <td>1.023113</td>\n",
       "      <td>...</td>\n",
       "      <td>0.327022</td>\n",
       "      <td>-0.537251</td>\n",
       "      <td>0.303664</td>\n",
       "      <td>-0.144824</td>\n",
       "      <td>-0.976396</td>\n",
       "      <td>1.588395</td>\n",
       "      <td>-1.027785</td>\n",
       "      <td>1.340792</td>\n",
       "      <td>0.154168</td>\n",
       "      <td>0.070076</td>\n",
       "    </tr>\n",
       "    <tr>\n",
       "      <th>2012-01-10</th>\n",
       "      <td>-0.551266</td>\n",
       "      <td>-1.508975</td>\n",
       "      <td>-0.163511</td>\n",
       "      <td>1.649128</td>\n",
       "      <td>-0.896976</td>\n",
       "      <td>1.555693</td>\n",
       "      <td>1.125892</td>\n",
       "      <td>0.569953</td>\n",
       "      <td>-1.191296</td>\n",
       "      <td>1.027785</td>\n",
       "      <td>...</td>\n",
       "      <td>0.415786</td>\n",
       "      <td>-0.560610</td>\n",
       "      <td>0.336366</td>\n",
       "      <td>-0.228916</td>\n",
       "      <td>-1.097861</td>\n",
       "      <td>1.522990</td>\n",
       "      <td>-1.069831</td>\n",
       "      <td>1.261372</td>\n",
       "      <td>0.116794</td>\n",
       "      <td>-0.004672</td>\n",
       "    </tr>\n",
       "    <tr>\n",
       "      <th>2012-01-11</th>\n",
       "      <td>-0.527908</td>\n",
       "      <td>-1.457586</td>\n",
       "      <td>-0.303664</td>\n",
       "      <td>1.649128</td>\n",
       "      <td>-0.873617</td>\n",
       "      <td>1.504303</td>\n",
       "      <td>1.083846</td>\n",
       "      <td>0.284977</td>\n",
       "      <td>-1.219327</td>\n",
       "      <td>1.018441</td>\n",
       "      <td>...</td>\n",
       "      <td>0.485862</td>\n",
       "      <td>-0.551266</td>\n",
       "      <td>0.355053</td>\n",
       "      <td>-0.228916</td>\n",
       "      <td>-1.079174</td>\n",
       "      <td>1.518319</td>\n",
       "      <td>-0.995083</td>\n",
       "      <td>1.331449</td>\n",
       "      <td>0.130809</td>\n",
       "      <td>-0.121465</td>\n",
       "    </tr>\n",
       "  </tbody>\n",
       "</table>\n",
       "<p>5 rows × 741 columns</p>\n",
       "</div>"
      ],
      "text/plain": [
       "ticker          CSCO       UAL      TROW      ISRG       NVR      PRGO  \\\n",
       "Date                                                                     \n",
       "2012-01-05 -0.471847 -1.326777 -0.228916  1.691173 -0.369068  1.588395   \n",
       "2012-01-06 -0.476518 -1.382838 -0.196213  1.686502 -0.583969  1.532334   \n",
       "2012-01-09 -0.513892 -1.448242 -0.294320  1.663143 -0.738136  1.513647   \n",
       "2012-01-10 -0.551266 -1.508975 -0.163511  1.649128 -0.896976  1.555693   \n",
       "2012-01-11 -0.527908 -1.457586 -0.303664  1.649128 -0.873617  1.504303   \n",
       "\n",
       "ticker          LECO       TPR       DVN        CR    ...          PGR  \\\n",
       "Date                                                  ...                \n",
       "2012-01-05  1.130563  0.728793 -1.200640  1.032457    ...     0.261618   \n",
       "2012-01-06  1.130563  0.752152 -1.256701  1.027785    ...     0.355053   \n",
       "2012-01-09  1.172609  0.752152 -1.130563  1.023113    ...     0.327022   \n",
       "2012-01-10  1.125892  0.569953 -1.191296  1.027785    ...     0.415786   \n",
       "2012-01-11  1.083846  0.284977 -1.219327  1.018441    ...     0.485862   \n",
       "\n",
       "ticker           WAT       NNN       IEX      LRCX       NUS       NWL  \\\n",
       "Date                                                                     \n",
       "2012-01-05 -0.686747  0.149496 -0.158839 -1.051144  1.621097 -1.130563   \n",
       "2012-01-06 -0.551266  0.219572 -0.182198 -1.004426  1.588395 -1.065159   \n",
       "2012-01-09 -0.537251  0.303664 -0.144824 -0.976396  1.588395 -1.027785   \n",
       "2012-01-10 -0.560610  0.336366 -0.228916 -1.097861  1.522990 -1.069831   \n",
       "2012-01-11 -0.551266  0.355053 -0.228916 -1.079174  1.518319 -0.995083   \n",
       "\n",
       "ticker           UAA       BLK       PPL  \n",
       "Date                                      \n",
       "2012-01-05  1.214655  0.126137 -0.172855  \n",
       "2012-01-06  1.275388  0.233587 -0.149496  \n",
       "2012-01-09  1.340792  0.154168  0.070076  \n",
       "2012-01-10  1.261372  0.116794 -0.004672  \n",
       "2012-01-11  1.331449  0.130809 -0.121465  \n",
       "\n",
       "[5 rows x 741 columns]"
      ]
     },
     "execution_count": 21,
     "metadata": {},
     "output_type": "execute_result"
    }
   ],
   "source": [
    "momentum = create_momentum_factor(p, sector_data)\n",
    "momentum.head()"
   ]
  },
  {
   "cell_type": "code",
   "execution_count": 22,
   "metadata": {},
   "outputs": [
    {
     "data": {
      "text/html": [
       "<div>\n",
       "<style scoped>\n",
       "    .dataframe tbody tr th:only-of-type {\n",
       "        vertical-align: middle;\n",
       "    }\n",
       "\n",
       "    .dataframe tbody tr th {\n",
       "        vertical-align: top;\n",
       "    }\n",
       "\n",
       "    .dataframe thead th {\n",
       "        text-align: right;\n",
       "    }\n",
       "</style>\n",
       "<table border=\"1\" class=\"dataframe\">\n",
       "  <thead>\n",
       "    <tr style=\"text-align: right;\">\n",
       "      <th>ticker</th>\n",
       "      <th>CSCO</th>\n",
       "      <th>UAL</th>\n",
       "      <th>TROW</th>\n",
       "      <th>ISRG</th>\n",
       "      <th>NVR</th>\n",
       "      <th>PRGO</th>\n",
       "      <th>LECO</th>\n",
       "      <th>TPR</th>\n",
       "      <th>DVN</th>\n",
       "      <th>CR</th>\n",
       "      <th>...</th>\n",
       "      <th>PGR</th>\n",
       "      <th>WAT</th>\n",
       "      <th>NNN</th>\n",
       "      <th>IEX</th>\n",
       "      <th>LRCX</th>\n",
       "      <th>NUS</th>\n",
       "      <th>NWL</th>\n",
       "      <th>UAA</th>\n",
       "      <th>BLK</th>\n",
       "      <th>PPL</th>\n",
       "    </tr>\n",
       "    <tr>\n",
       "      <th>Date</th>\n",
       "      <th></th>\n",
       "      <th></th>\n",
       "      <th></th>\n",
       "      <th></th>\n",
       "      <th></th>\n",
       "      <th></th>\n",
       "      <th></th>\n",
       "      <th></th>\n",
       "      <th></th>\n",
       "      <th></th>\n",
       "      <th></th>\n",
       "      <th></th>\n",
       "      <th></th>\n",
       "      <th></th>\n",
       "      <th></th>\n",
       "      <th></th>\n",
       "      <th></th>\n",
       "      <th></th>\n",
       "      <th></th>\n",
       "      <th></th>\n",
       "      <th></th>\n",
       "    </tr>\n",
       "  </thead>\n",
       "  <tbody>\n",
       "    <tr>\n",
       "      <th>2015-12-29</th>\n",
       "      <td>-0.378412</td>\n",
       "      <td>-0.327022</td>\n",
       "      <td>-0.967052</td>\n",
       "      <td>-0.887632</td>\n",
       "      <td>1.401525</td>\n",
       "      <td>-1.471601</td>\n",
       "      <td>-1.139907</td>\n",
       "      <td>-0.682075</td>\n",
       "      <td>-0.854930</td>\n",
       "      <td>-0.803541</td>\n",
       "      <td>...</td>\n",
       "      <td>1.093189</td>\n",
       "      <td>0.042046</td>\n",
       "      <td>0.102778</td>\n",
       "      <td>0.397099</td>\n",
       "      <td>-0.317679</td>\n",
       "      <td>-1.294075</td>\n",
       "      <td>0.607327</td>\n",
       "      <td>1.051144</td>\n",
       "      <td>-0.467175</td>\n",
       "      <td>0.780182</td>\n",
       "    </tr>\n",
       "    <tr>\n",
       "      <th>2015-12-30</th>\n",
       "      <td>-0.406442</td>\n",
       "      <td>-0.551266</td>\n",
       "      <td>-0.990411</td>\n",
       "      <td>-0.840915</td>\n",
       "      <td>1.350136</td>\n",
       "      <td>-1.476273</td>\n",
       "      <td>-1.107205</td>\n",
       "      <td>-0.742808</td>\n",
       "      <td>-0.925006</td>\n",
       "      <td>-0.798869</td>\n",
       "      <td>...</td>\n",
       "      <td>1.107205</td>\n",
       "      <td>0.093435</td>\n",
       "      <td>0.140152</td>\n",
       "      <td>0.406442</td>\n",
       "      <td>-0.308335</td>\n",
       "      <td>-1.177281</td>\n",
       "      <td>0.509221</td>\n",
       "      <td>1.009098</td>\n",
       "      <td>-0.411114</td>\n",
       "      <td>0.780182</td>\n",
       "    </tr>\n",
       "    <tr>\n",
       "      <th>2015-12-31</th>\n",
       "      <td>-0.345709</td>\n",
       "      <td>-0.672732</td>\n",
       "      <td>-0.976396</td>\n",
       "      <td>-0.920335</td>\n",
       "      <td>1.373494</td>\n",
       "      <td>-1.476273</td>\n",
       "      <td>-1.130563</td>\n",
       "      <td>-0.682075</td>\n",
       "      <td>-0.910991</td>\n",
       "      <td>-0.794197</td>\n",
       "      <td>...</td>\n",
       "      <td>1.055815</td>\n",
       "      <td>0.158839</td>\n",
       "      <td>0.196213</td>\n",
       "      <td>0.387755</td>\n",
       "      <td>-0.266290</td>\n",
       "      <td>-1.195968</td>\n",
       "      <td>0.644701</td>\n",
       "      <td>1.032457</td>\n",
       "      <td>-0.397099</td>\n",
       "      <td>0.808213</td>\n",
       "    </tr>\n",
       "    <tr>\n",
       "      <th>2016-01-04</th>\n",
       "      <td>-0.401770</td>\n",
       "      <td>-0.747480</td>\n",
       "      <td>-0.981067</td>\n",
       "      <td>-0.719449</td>\n",
       "      <td>1.289403</td>\n",
       "      <td>-1.452914</td>\n",
       "      <td>-1.093189</td>\n",
       "      <td>-0.434473</td>\n",
       "      <td>-0.915663</td>\n",
       "      <td>-0.784854</td>\n",
       "      <td>...</td>\n",
       "      <td>1.060487</td>\n",
       "      <td>0.032702</td>\n",
       "      <td>0.200885</td>\n",
       "      <td>0.397099</td>\n",
       "      <td>-0.341038</td>\n",
       "      <td>-1.065159</td>\n",
       "      <td>0.649373</td>\n",
       "      <td>1.102533</td>\n",
       "      <td>-0.425129</td>\n",
       "      <td>0.794197</td>\n",
       "    </tr>\n",
       "    <tr>\n",
       "      <th>2016-01-05</th>\n",
       "      <td>-0.369068</td>\n",
       "      <td>-0.854930</td>\n",
       "      <td>-0.981067</td>\n",
       "      <td>-0.574625</td>\n",
       "      <td>1.317433</td>\n",
       "      <td>-1.448242</td>\n",
       "      <td>-1.102533</td>\n",
       "      <td>-0.317679</td>\n",
       "      <td>-0.910991</td>\n",
       "      <td>-0.798869</td>\n",
       "      <td>...</td>\n",
       "      <td>1.041800</td>\n",
       "      <td>-0.014015</td>\n",
       "      <td>0.102778</td>\n",
       "      <td>0.298992</td>\n",
       "      <td>-0.308335</td>\n",
       "      <td>-1.139907</td>\n",
       "      <td>0.565282</td>\n",
       "      <td>1.181953</td>\n",
       "      <td>-0.378412</td>\n",
       "      <td>0.850258</td>\n",
       "    </tr>\n",
       "  </tbody>\n",
       "</table>\n",
       "<p>5 rows × 741 columns</p>\n",
       "</div>"
      ],
      "text/plain": [
       "ticker          CSCO       UAL      TROW      ISRG       NVR      PRGO  \\\n",
       "Date                                                                     \n",
       "2015-12-29 -0.378412 -0.327022 -0.967052 -0.887632  1.401525 -1.471601   \n",
       "2015-12-30 -0.406442 -0.551266 -0.990411 -0.840915  1.350136 -1.476273   \n",
       "2015-12-31 -0.345709 -0.672732 -0.976396 -0.920335  1.373494 -1.476273   \n",
       "2016-01-04 -0.401770 -0.747480 -0.981067 -0.719449  1.289403 -1.452914   \n",
       "2016-01-05 -0.369068 -0.854930 -0.981067 -0.574625  1.317433 -1.448242   \n",
       "\n",
       "ticker          LECO       TPR       DVN        CR    ...          PGR  \\\n",
       "Date                                                  ...                \n",
       "2015-12-29 -1.139907 -0.682075 -0.854930 -0.803541    ...     1.093189   \n",
       "2015-12-30 -1.107205 -0.742808 -0.925006 -0.798869    ...     1.107205   \n",
       "2015-12-31 -1.130563 -0.682075 -0.910991 -0.794197    ...     1.055815   \n",
       "2016-01-04 -1.093189 -0.434473 -0.915663 -0.784854    ...     1.060487   \n",
       "2016-01-05 -1.102533 -0.317679 -0.910991 -0.798869    ...     1.041800   \n",
       "\n",
       "ticker           WAT       NNN       IEX      LRCX       NUS       NWL  \\\n",
       "Date                                                                     \n",
       "2015-12-29  0.042046  0.102778  0.397099 -0.317679 -1.294075  0.607327   \n",
       "2015-12-30  0.093435  0.140152  0.406442 -0.308335 -1.177281  0.509221   \n",
       "2015-12-31  0.158839  0.196213  0.387755 -0.266290 -1.195968  0.644701   \n",
       "2016-01-04  0.032702  0.200885  0.397099 -0.341038 -1.065159  0.649373   \n",
       "2016-01-05 -0.014015  0.102778  0.298992 -0.308335 -1.139907  0.565282   \n",
       "\n",
       "ticker           UAA       BLK       PPL  \n",
       "Date                                      \n",
       "2015-12-29  1.051144 -0.467175  0.780182  \n",
       "2015-12-30  1.009098 -0.411114  0.780182  \n",
       "2015-12-31  1.032457 -0.397099  0.808213  \n",
       "2016-01-04  1.102533 -0.425129  0.794197  \n",
       "2016-01-05  1.181953 -0.378412  0.850258  \n",
       "\n",
       "[5 rows x 741 columns]"
      ]
     },
     "execution_count": 22,
     "metadata": {},
     "output_type": "execute_result"
    }
   ],
   "source": [
    "momentum.tail()"
   ]
  },
  {
   "cell_type": "code",
   "execution_count": 23,
   "metadata": {},
   "outputs": [
    {
     "data": {
      "text/html": [
       "<div>\n",
       "<style scoped>\n",
       "    .dataframe tbody tr th:only-of-type {\n",
       "        vertical-align: middle;\n",
       "    }\n",
       "\n",
       "    .dataframe tbody tr th {\n",
       "        vertical-align: top;\n",
       "    }\n",
       "\n",
       "    .dataframe thead th {\n",
       "        text-align: right;\n",
       "    }\n",
       "</style>\n",
       "<table border=\"1\" class=\"dataframe\">\n",
       "  <thead>\n",
       "    <tr style=\"text-align: right;\">\n",
       "      <th>ticker</th>\n",
       "      <th>CSCO</th>\n",
       "      <th>UAL</th>\n",
       "      <th>TROW</th>\n",
       "      <th>ISRG</th>\n",
       "      <th>NVR</th>\n",
       "      <th>PRGO</th>\n",
       "      <th>LECO</th>\n",
       "      <th>TPR</th>\n",
       "      <th>DVN</th>\n",
       "      <th>CR</th>\n",
       "      <th>...</th>\n",
       "      <th>PGR</th>\n",
       "      <th>WAT</th>\n",
       "      <th>NNN</th>\n",
       "      <th>IEX</th>\n",
       "      <th>LRCX</th>\n",
       "      <th>NUS</th>\n",
       "      <th>NWL</th>\n",
       "      <th>UAA</th>\n",
       "      <th>BLK</th>\n",
       "      <th>PPL</th>\n",
       "    </tr>\n",
       "    <tr>\n",
       "      <th>Date</th>\n",
       "      <th></th>\n",
       "      <th></th>\n",
       "      <th></th>\n",
       "      <th></th>\n",
       "      <th></th>\n",
       "      <th></th>\n",
       "      <th></th>\n",
       "      <th></th>\n",
       "      <th></th>\n",
       "      <th></th>\n",
       "      <th></th>\n",
       "      <th></th>\n",
       "      <th></th>\n",
       "      <th></th>\n",
       "      <th></th>\n",
       "      <th></th>\n",
       "      <th></th>\n",
       "      <th></th>\n",
       "      <th></th>\n",
       "      <th></th>\n",
       "      <th></th>\n",
       "    </tr>\n",
       "  </thead>\n",
       "  <tbody>\n",
       "    <tr>\n",
       "      <th>2015-12-24</th>\n",
       "      <td>-0.000730</td>\n",
       "      <td>0.024507</td>\n",
       "      <td>-0.004124</td>\n",
       "      <td>-0.000511</td>\n",
       "      <td>-0.001761</td>\n",
       "      <td>-0.001083</td>\n",
       "      <td>-0.003024</td>\n",
       "      <td>-0.018930</td>\n",
       "      <td>-0.015060</td>\n",
       "      <td>0.007036</td>\n",
       "      <td>...</td>\n",
       "      <td>0.000000</td>\n",
       "      <td>0.000149</td>\n",
       "      <td>0.003299</td>\n",
       "      <td>0.001808</td>\n",
       "      <td>-0.000373</td>\n",
       "      <td>-0.012554</td>\n",
       "      <td>-0.014908</td>\n",
       "      <td>-0.009635</td>\n",
       "      <td>-0.006595</td>\n",
       "      <td>0.000584</td>\n",
       "    </tr>\n",
       "    <tr>\n",
       "      <th>2015-12-28</th>\n",
       "      <td>-0.002557</td>\n",
       "      <td>-0.012881</td>\n",
       "      <td>0.003727</td>\n",
       "      <td>-0.000621</td>\n",
       "      <td>-0.003015</td>\n",
       "      <td>-0.011522</td>\n",
       "      <td>-0.014407</td>\n",
       "      <td>-0.000919</td>\n",
       "      <td>-0.030887</td>\n",
       "      <td>-0.027743</td>\n",
       "      <td>...</td>\n",
       "      <td>-0.001250</td>\n",
       "      <td>0.000448</td>\n",
       "      <td>0.009360</td>\n",
       "      <td>-0.004769</td>\n",
       "      <td>-0.004478</td>\n",
       "      <td>-0.029839</td>\n",
       "      <td>0.017427</td>\n",
       "      <td>0.000246</td>\n",
       "      <td>0.014967</td>\n",
       "      <td>-0.003502</td>\n",
       "    </tr>\n",
       "    <tr>\n",
       "      <th>2015-12-29</th>\n",
       "      <td>0.016844</td>\n",
       "      <td>0.004914</td>\n",
       "      <td>0.005226</td>\n",
       "      <td>0.011442</td>\n",
       "      <td>0.000048</td>\n",
       "      <td>0.005143</td>\n",
       "      <td>0.016838</td>\n",
       "      <td>0.011649</td>\n",
       "      <td>0.017356</td>\n",
       "      <td>0.028535</td>\n",
       "      <td>...</td>\n",
       "      <td>0.015645</td>\n",
       "      <td>0.016194</td>\n",
       "      <td>0.008271</td>\n",
       "      <td>0.006345</td>\n",
       "      <td>0.008997</td>\n",
       "      <td>0.030757</td>\n",
       "      <td>-0.002930</td>\n",
       "      <td>0.012682</td>\n",
       "      <td>0.003358</td>\n",
       "      <td>0.008787</td>\n",
       "    </tr>\n",
       "    <tr>\n",
       "      <th>2015-12-30</th>\n",
       "      <td>-0.008642</td>\n",
       "      <td>-0.030186</td>\n",
       "      <td>-0.013817</td>\n",
       "      <td>-0.001554</td>\n",
       "      <td>-0.000279</td>\n",
       "      <td>-0.009209</td>\n",
       "      <td>-0.002665</td>\n",
       "      <td>-0.010000</td>\n",
       "      <td>-0.038461</td>\n",
       "      <td>-0.008015</td>\n",
       "      <td>...</td>\n",
       "      <td>-0.004313</td>\n",
       "      <td>-0.003892</td>\n",
       "      <td>-0.001989</td>\n",
       "      <td>-0.007592</td>\n",
       "      <td>-0.007183</td>\n",
       "      <td>-0.001038</td>\n",
       "      <td>-0.011076</td>\n",
       "      <td>-0.015684</td>\n",
       "      <td>-0.004511</td>\n",
       "      <td>-0.002903</td>\n",
       "    </tr>\n",
       "    <tr>\n",
       "      <th>2015-12-31</th>\n",
       "      <td>-0.013440</td>\n",
       "      <td>-0.003652</td>\n",
       "      <td>-0.008323</td>\n",
       "      <td>-0.011493</td>\n",
       "      <td>-0.003965</td>\n",
       "      <td>-0.003718</td>\n",
       "      <td>-0.009733</td>\n",
       "      <td>0.001836</td>\n",
       "      <td>0.032258</td>\n",
       "      <td>-0.008908</td>\n",
       "      <td>...</td>\n",
       "      <td>-0.016089</td>\n",
       "      <td>-0.007815</td>\n",
       "      <td>-0.002491</td>\n",
       "      <td>-0.006613</td>\n",
       "      <td>-0.009355</td>\n",
       "      <td>-0.015844</td>\n",
       "      <td>0.007543</td>\n",
       "      <td>-0.004323</td>\n",
       "      <td>-0.004473</td>\n",
       "      <td>-0.006115</td>\n",
       "    </tr>\n",
       "  </tbody>\n",
       "</table>\n",
       "<p>5 rows × 741 columns</p>\n",
       "</div>"
      ],
      "text/plain": [
       "ticker          CSCO       UAL      TROW      ISRG       NVR      PRGO  \\\n",
       "Date                                                                     \n",
       "2015-12-24 -0.000730  0.024507 -0.004124 -0.000511 -0.001761 -0.001083   \n",
       "2015-12-28 -0.002557 -0.012881  0.003727 -0.000621 -0.003015 -0.011522   \n",
       "2015-12-29  0.016844  0.004914  0.005226  0.011442  0.000048  0.005143   \n",
       "2015-12-30 -0.008642 -0.030186 -0.013817 -0.001554 -0.000279 -0.009209   \n",
       "2015-12-31 -0.013440 -0.003652 -0.008323 -0.011493 -0.003965 -0.003718   \n",
       "\n",
       "ticker          LECO       TPR       DVN        CR    ...          PGR  \\\n",
       "Date                                                  ...                \n",
       "2015-12-24 -0.003024 -0.018930 -0.015060  0.007036    ...     0.000000   \n",
       "2015-12-28 -0.014407 -0.000919 -0.030887 -0.027743    ...    -0.001250   \n",
       "2015-12-29  0.016838  0.011649  0.017356  0.028535    ...     0.015645   \n",
       "2015-12-30 -0.002665 -0.010000 -0.038461 -0.008015    ...    -0.004313   \n",
       "2015-12-31 -0.009733  0.001836  0.032258 -0.008908    ...    -0.016089   \n",
       "\n",
       "ticker           WAT       NNN       IEX      LRCX       NUS       NWL  \\\n",
       "Date                                                                     \n",
       "2015-12-24  0.000149  0.003299  0.001808 -0.000373 -0.012554 -0.014908   \n",
       "2015-12-28  0.000448  0.009360 -0.004769 -0.004478 -0.029839  0.017427   \n",
       "2015-12-29  0.016194  0.008271  0.006345  0.008997  0.030757 -0.002930   \n",
       "2015-12-30 -0.003892 -0.001989 -0.007592 -0.007183 -0.001038 -0.011076   \n",
       "2015-12-31 -0.007815 -0.002491 -0.006613 -0.009355 -0.015844  0.007543   \n",
       "\n",
       "ticker           UAA       BLK       PPL  \n",
       "Date                                      \n",
       "2015-12-24 -0.009635 -0.006595  0.000584  \n",
       "2015-12-28  0.000246  0.014967 -0.003502  \n",
       "2015-12-29  0.012682  0.003358  0.008787  \n",
       "2015-12-30 -0.015684 -0.004511 -0.002903  \n",
       "2015-12-31 -0.004323 -0.004473 -0.006115  \n",
       "\n",
       "[5 rows x 741 columns]"
      ]
     },
     "execution_count": 23,
     "metadata": {},
     "output_type": "execute_result"
    }
   ],
   "source": [
    "risk_model.returns.tail()"
   ]
  },
  {
   "cell_type": "code",
   "execution_count": 24,
   "metadata": {},
   "outputs": [
    {
     "name": "stdout",
     "output_type": "stream",
     "text": [
      "(252, 741)\n",
      "(78546,)\n",
      "Dropped 0.0% entries from factor data: 0.0% in forward returns computation and 0.0% in binning phase (set max_loss=0 to see potentially suppressed Exceptions).\n",
      "max_loss is 35.0%, not exceeded: OK!\n"
     ]
    }
   ],
   "source": [
    "factor_data = {}\n",
    "factor_data['momentum'] = momentum.loc['2015-05-01':'2015-09-30',:].stack()\n",
    "factor_data['momentum'].head()\n",
    "factor_prices = p.loc[p.index.year==2015, :]\n",
    "print(factor_prices.shape)\n",
    "print(factor_data['momentum'].shape)\n",
    "factor_returns = al.utils.get_clean_factor_and_forward_returns(factor=factor_data['momentum'], prices=factor_prices, periods=[1])"
   ]
  },
  {
   "cell_type": "code",
   "execution_count": 25,
   "metadata": {},
   "outputs": [
    {
     "data": {
      "text/plain": [
       "<matplotlib.axes._subplots.AxesSubplot at 0x12ce28080>"
      ]
     },
     "execution_count": 25,
     "metadata": {},
     "output_type": "execute_result"
    },
    {
     "data": {
      "image/png": "[encoded data removed]",
      "text/plain": [
       "<Figure size 1440x576 with 1 Axes>"
      ]
     },
     "metadata": {
      "needs_background": "light"
     },
     "output_type": "display_data"
    }
   ],
   "source": [
    "figsize(20,8)\n",
    "factor_returns_data = al.performance.factor_returns(factor_returns)\n",
    "factor_returns_data.cumsum().plot()"
   ]
  },
  {
   "cell_type": "code",
   "execution_count": 26,
   "metadata": {},
   "outputs": [
    {
     "data": {
      "text/plain": [
       "1D    4.752912\n",
       "dtype: float64"
      ]
     },
     "execution_count": 26,
     "metadata": {},
     "output_type": "execute_result"
    }
   ],
   "source": [
    "sharpe = factor_returns_data.mean() * np.sqrt(252) / factor_returns_data.std()\n",
    "sharpe"
   ]
  },
  {
   "cell_type": "code",
   "execution_count": 27,
   "metadata": {},
   "outputs": [
    {
     "data": {
      "text/plain": [
       "array([[<matplotlib.axes._subplots.AxesSubplot object at 0x12d9dcf98>,\n",
       "        <matplotlib.axes._subplots.AxesSubplot object at 0x12d9fec88>],\n",
       "       [<matplotlib.axes._subplots.AxesSubplot object at 0x12ebeaef0>,\n",
       "        <matplotlib.axes._subplots.AxesSubplot object at 0x12ec12198>],\n",
       "       [<matplotlib.axes._subplots.AxesSubplot object at 0x12fa960f0>,\n",
       "        <matplotlib.axes._subplots.AxesSubplot object at 0x12faad358>],\n",
       "       [<matplotlib.axes._subplots.AxesSubplot object at 0x12fac65c0>,\n",
       "        <matplotlib.axes._subplots.AxesSubplot object at 0x12dc4c828>]],\n",
       "      dtype=object)"
      ]
     },
     "execution_count": 27,
     "metadata": {},
     "output_type": "execute_result"
    },
    {
     "data": {
      "image/png": "[encoded data removed]",
      "text/plain": [
       "<Figure size 1008x1008 with 8 Axes>"
      ]
     },
     "metadata": {
      "needs_background": "light"
     },
     "output_type": "display_data"
    }
   ],
   "source": [
    "\n",
    "qr_factor_returns = al.performance.mean_return_by_quantile(factor_returns)[0].iloc[:, 0]\n",
    "\n",
    "(10000*qr_factor_returns).plot.bar(\n",
    "    subplots=True,\n",
    "    sharey=True,\n",
    "    layout=(4,2),\n",
    "    figsize=(14, 14),\n",
    "    legend=False)"
   ]
  },
  {
   "cell_type": "code",
   "execution_count": 28,
   "metadata": {},
   "outputs": [
    {
     "data": {
      "text/plain": [
       "<matplotlib.axes._subplots.AxesSubplot at 0x12ceeae48>"
      ]
     },
     "execution_count": 28,
     "metadata": {},
     "output_type": "execute_result"
    },
    {
     "data": {
      "image/png": "[encoded data removed]",
      "text/plain": [
       "<Figure size 1440x576 with 1 Axes>"
      ]
     },
     "metadata": {
      "needs_background": "light"
     },
     "output_type": "display_data"
    }
   ],
   "source": [
    "ls_FRA = al.performance.factor_rank_autocorrelation(factor_returns)\n",
    "\n",
    "ls_FRA.plot(title=\"Factor Rank Autocorrelation\")"
   ]
  },
  {
   "cell_type": "code",
   "execution_count": 29,
   "metadata": {},
   "outputs": [
    {
     "name": "stdout",
     "output_type": "stream",
     "text": [
      "<class 'pandas.core.series.Series'>\n"
     ]
    },
    {
     "data": {
      "text/plain": [
       "741"
      ]
     },
     "execution_count": 29,
     "metadata": {},
     "output_type": "execute_result"
    }
   ],
   "source": [
    "rets_index = rets.index[-1]\n",
    "alpha_vector = momentum.loc[rets_index, :]\n",
    "print(type(alpha_vector))\n",
    "len(alpha_vector)"
   ]
  },
  {
   "cell_type": "code",
   "execution_count": 30,
   "metadata": {},
   "outputs": [
    {
     "data": {
      "text/plain": [
       "array([0.00134953, 0.00134953, 0.00134953, 0.00134953, 0.00134953])"
      ]
     },
     "execution_count": 30,
     "metadata": {},
     "output_type": "execute_result"
    }
   ],
   "source": [
    "previous = np.asarray(holdings) / 50000000\n",
    "len(previous)\n",
    "previous[:5]"
   ]
  },
  {
   "cell_type": "code",
   "execution_count": 31,
   "metadata": {},
   "outputs": [],
   "source": [
    "class OptimalHoldingsCVX:\n",
    "\n",
    "    def __init__(self, risk_model, alpha_vector, previous, risk_cap=0.05, factor_max=10.0, aum=50e6, lambda_reg=0.00,\n",
    "                 factor_min=-10.0, weights_max=0.55, weights_min=-0.55, risk_aversion=1.0e-6):\n",
    "\n",
    "        self.risk_model = risk_model\n",
    "        self.alpha_vector = alpha_vector\n",
    "        self.previous = previous\n",
    "        self.risk_cap = risk_cap\n",
    "        self.factor_min = factor_min\n",
    "        self.factor_max = factor_max\n",
    "        self.weights_min = weights_min\n",
    "        self.weights_max = weights_max\n",
    "        self.risk_aversion = risk_aversion\n",
    "        self.aum = aum\n",
    "        self.lambda_reg = lambda_reg\n",
    "\n",
    "    def _get_obj(self, h1):\n",
    "        ra = self.risk_aversion\n",
    "        Q = self.risk_model.Q # Q is k x N\n",
    "        ivv = self.risk_model.i_var_vector\n",
    "        av = -self.alpha_vector\n",
    "        #h0 = self.previous.flatten()\n",
    "        #lv = np.ones((len(av), 1)) * 0.1/2000000\n",
    "        #obj_func = cvx.Minimize(np.array(av.T) * h1 + self.lambda_reg * cvx.norm(h1, 2) + (h1-h0)**2 @ lv)\n",
    "        obj_func = cvx.Minimize(np.array(av.T) * h1 + self.lambda_reg * cvx.norm(h1, 2))\n",
    "\n",
    "        return obj_func\n",
    "\n",
    "    def _get_constraints(self, h1, risk):\n",
    "        c = []\n",
    "        factor_exposures = self.risk_model.factor_exposures\n",
    "        c.append(risk <= self.risk_cap**2)\n",
    "        c.append(factor_exposures.T @ h1 <= self.factor_max)\n",
    "        c.append(factor_exposures.T @ h1 >= self.factor_min)\n",
    "        c.append(sum(h1) == 0)\n",
    "        c.append(sum(cvx.abs(h1)) <= 1.0)\n",
    "        c.append(h1 >= self.weights_min)\n",
    "        c.append(h1 <= self.weights_max)\n",
    "        return c\n",
    "\n",
    "    def get_risk(self, h1):\n",
    "        av_index = self.alpha_vector.index\n",
    "        ivm = self.risk_model.i_var_matrix.loc[av_index].values\n",
    "        f = self.risk_model.factor_exposures.loc[av_index].values.T @ h1\n",
    "        X = self.risk_model.factor_cov_matrix\n",
    "        risk = cvx.quad_form(f, X) + cvx.quad_form(h1, ivm)\n",
    "        return risk\n",
    "\n",
    "    def find(self):\n",
    "        h1 = cvx.Variable(len(self.alpha_vector))\n",
    "        risk = self.get_risk(h1)\n",
    "        obj_func = self._get_obj(h1)\n",
    "        constraints = self._get_constraints(h1, risk)\n",
    "        prob = cvx.Problem(obj_func, constraints)\n",
    "        prob.solve(max_iters=100, verbose=True)\n",
    "        optimal_weights = np.asarray(h1.value).flatten()\n",
    "        df = pd.DataFrame(optimal_weights, index=self.alpha_vector.index)\n",
    "        return df"
   ]
  },
  {
   "cell_type": "code",
   "execution_count": 32,
   "metadata": {},
   "outputs": [
    {
     "name": "stdout",
     "output_type": "stream",
     "text": [
      "\n",
      "ECOS 2.0.7 - (C) embotech GmbH, Zurich Switzerland, 2012-15. Web: www.embotech.com/ECOS\n",
      "\n",
      "It     pcost       dcost      gap   pres   dres    k/t    mu     step   sigma     IR    |   BT\n",
      " 0  +2.001e-17  -2.487e+03  +1e+06  8e-01  7e-01  1e+00  1e+00    ---    ---    1  1  - |  -  - \n",
      " 1  -7.894e+01  -3.745e+02  +1e+05  6e-02  9e-02  2e-01  1e-01  0.9890  1e-01   2  2  2 |  0  0\n",
      " 2  -1.468e+01  -4.998e+01  +2e+04  7e-03  1e-02  3e-02  2e-02  0.8922  2e-02   3  2  3 |  0  0\n",
      " 3  -3.075e+00  -8.503e+00  +3e+03  1e-03  2e-03  4e-03  3e-03  0.9519  1e-01   5  4  4 |  0  0\n",
      " 4  -1.459e+00  -2.214e+00  +4e+02  2e-04  2e-04  4e-04  4e-04  0.8536  1e-02   8  7  8 |  0  0\n",
      " 5  -1.227e+00  -1.306e+00  +4e+01  2e-05  2e-05  7e-05  4e-05  0.9368  3e-02   1  1  1 |  0  0\n",
      " 6  -1.176e+00  -1.182e+00  +3e+00  1e-06  1e-06  5e-06  3e-06  0.9352  1e-02   2  2  2 |  0  0\n",
      " 7  -1.172e+00  -1.173e+00  +5e-01  2e-07  2e-07  7e-07  5e-07  0.8954  8e-02   2  2  2 |  0  0\n",
      " 8  -1.171e+00  -1.172e+00  +2e-01  7e-08  8e-08  2e-07  2e-07  0.8427  2e-01   2  2  2 |  0  0\n",
      " 9  -1.171e+00  -1.171e+00  +5e-02  2e-08  2e-08  4e-08  4e-08  0.9052  2e-01   1  1  1 |  0  0\n",
      "10  -1.171e+00  -1.171e+00  +1e-02  5e-09  5e-09  9e-09  1e-08  0.9381  2e-01   2  2  2 |  0  0\n",
      "11  -1.171e+00  -1.171e+00  +1e-03  5e-10  6e-10  9e-10  1e-09  0.9628  8e-02   2  2  2 |  0  0\n",
      "12  -1.171e+00  -1.171e+00  +4e-04  2e-10  2e-10  3e-10  4e-10  0.7603  1e-01   2  2  2 |  0  0\n",
      "13  -1.171e+00  -1.171e+00  +8e-05  5e-11  4e-11  6e-11  7e-11  0.9890  2e-01   2  2  2 |  0  0\n",
      "14  -1.171e+00  -1.171e+00  +6e-06  1e-11  3e-12  4e-12  5e-12  0.9890  6e-02   2  2  1 |  0  0\n",
      "15  -1.171e+00  -1.171e+00  +8e-07  5e-12  4e-13  6e-13  7e-13  0.9890  1e-01   2  1  2 |  0  0\n",
      "16  -1.171e+00  -1.171e+00  +5e-07  4e-12  2e-13  4e-13  5e-13  0.9890  6e-01   1  1  1 |  0  0\n",
      "17  -1.171e+00  -1.171e+00  +4e-07  3e-12  2e-13  3e-13  4e-13  0.9890  8e-01   2  2  1 |  0  0\n",
      "18  -1.171e+00  -1.171e+00  +3e-07  3e-12  1e-13  2e-13  3e-13  0.9890  7e-01   2  1  1 |  0  0\n",
      "19  -1.171e+00  -1.171e+00  +2e-07  2e-12  7e-14  1e-13  1e-13  0.9890  5e-01   2  1  1 |  0  0\n",
      "20  -1.171e+00  -1.171e+00  +1e-07  2e-12  5e-14  8e-14  1e-13  0.9890  7e-01   2  1  1 |  0  0\n",
      "21  -1.171e+00  -1.171e+00  +1e-07  1e-12  5e-14  7e-14  9e-14  0.9890  9e-01   2  1  1 |  0  0\n",
      "22  -1.171e+00  -1.171e+00  +9e-08  1e-12  4e-14  5e-14  8e-14  0.9890  7e-01   2  1  1 |  0  0\n",
      "23  -1.171e+00  -1.171e+00  +7e-08  7e-13  3e-14  3e-14  7e-14  0.9890  5e-01   2  1  1 |  0  0\n",
      "24  -1.171e+00  -1.171e+00  +1e-07  6e-13  6e-14  4e-14  1e-13  0.9890  8e-01   2  1  1 |  0  0\n",
      "25  -1.171e+00  -1.171e+00  +1e-07  6e-13  5e-14  9e-14  1e-13  0.9890  9e-01   2  1  1 |  0  0\n",
      "26  -1.171e+00  -1.171e+00  +9e-08  5e-13  4e-14  6e-14  8e-14  0.9890  7e-01   2  1  1 |  0  0\n",
      "27  -1.171e+00  -1.171e+00  +8e-08  3e-13  4e-14  3e-14  7e-14  0.9890  4e-01   2  1  1 |  0  0\n",
      "28  -1.171e+00  -1.171e+00  +1e-07  2e-13  6e-14  5e-14  1e-13  0.9890  8e-01   2  1  1 |  0  0\n",
      "29  -1.171e+00  -1.171e+00  +1e-07  2e-13  5e-14  9e-14  1e-13  0.9890  9e-01   2  1  1 |  0  0\n",
      "30  -1.171e+00  -1.171e+00  +8e-08  2e-13  4e-14  6e-14  7e-14  0.9890  7e-01   2  1  1 |  0  0\n",
      "31  -1.171e+00  -1.171e+00  +8e-08  1e-13  4e-14  2e-14  8e-14  0.9890  4e-01   2  1  1 |  0  0\n",
      "32  -1.171e+00  -1.171e+00  +1e-07  9e-14  6e-14  5e-14  1e-13  0.9890  8e-01   2  1  1 |  0  0\n",
      "33  -1.171e+00  -1.171e+00  +1e-07  8e-14  5e-14  8e-14  1e-13  0.9890  9e-01   2  1  1 |  0  0\n",
      "34  -1.171e+00  -1.171e+00  +7e-08  6e-14  3e-14  5e-14  7e-14  0.9890  6e-01   2  1  1 |  0  0\n",
      "35  -1.171e+00  -1.171e+00  +9e-08  3e-14  4e-14  2e-14  8e-14  0.9890  3e-01   2  1  1 |  0  0\n",
      "36  -1.171e+00  -1.171e+00  +1e-07  3e-14  5e-14  6e-14  1e-13  0.9890  9e-01   2  1  1 |  0  0\n",
      "37  -1.171e+00  -1.171e+00  +1e-07  3e-14  5e-14  8e-14  1e-13  0.9890  9e-01   2  1  1 |  0  0\n",
      "38  -1.171e+00  -1.171e+00  +7e-08  2e-14  3e-14  5e-14  6e-14  0.9890  6e-01   2  1  1 |  0  0\n",
      "39  -1.171e+00  -1.171e+00  +1e-07  1e-14  5e-14  1e-14  9e-14  0.9890  3e-01   2  1  1 |  0  0\n",
      "40  -1.171e+00  -1.171e+00  +1e-07  2e-14  5e-14  7e-14  1e-13  0.9890  9e-01   2  1  1 |  0  0\n",
      "41  -1.171e+00  -1.171e+00  +1e-07  2e-14  5e-14  7e-14  1e-13  0.9890  9e-01   2  1  1 |  0  0\n",
      "42  -1.171e+00  -1.171e+00  +6e-08  8e-15  3e-14  4e-14  6e-14  0.9890  5e-01   2  1  1 |  0  0\n",
      "43  -1.171e+00  -1.171e+00  +1e-07  5e-15  5e-14  1e-14  1e-13  0.9890  2e-01   2  1  1 |  0  0\n",
      "44  -1.171e+00  -1.171e+00  +1e-07  4e-15  5e-14  5e-14  1e-13  0.7038  9e-01   2  1  1 |  0  0\n",
      "45  -1.171e+00  -1.171e+00  +3e-08  6e-15  1e-14  2e-14  2e-14  0.9890  2e-01   2  1  1 |  0  0\n",
      "46  -1.171e+00  -1.171e+00  +4e-07  4e-15  2e-13  1e-14  4e-13  0.9890  6e-01   2  1  1 |  0  0\n",
      "47  -1.171e+00  -1.171e+00  +4e-07  8e-15  2e-13  3e-14  4e-13  0.0713  1e+00   2  1  1 |  0  0\n",
      "48  -1.171e+00  -1.171e+00  +4e-09  1e-14  2e-15  4e-16  4e-15  0.9890  1e-04   2  1  1 |  0  0\n",
      "\n",
      "OPTIMAL (within feastol=1.4e-14, reltol=3.8e-09, abstol=4.4e-09).\n",
      "Runtime: 37.128779 seconds.\n",
      "\n"
     ]
    }
   ],
   "source": [
    "oh = OptimalHoldingsCVX(risk_model, alpha_vector, previous, lambda_reg=5.0)\n",
    "optimal_weights = oh.find()"
   ]
  },
  {
   "cell_type": "code",
   "execution_count": 33,
   "metadata": {},
   "outputs": [
    {
     "name": "stderr",
     "output_type": "stream",
     "text": [
      "/Users/richard.wuebker/.pyenv/versions/zipline/lib/python3.5/site-packages/matplotlib/figure.py:98: MatplotlibDeprecationWarning: \n",
      "Adding an axes using the same arguments as a previous axes currently reuses the earlier instance.  In a future version, a new instance will always be created and returned.  Meanwhile, this warning can be suppressed, and the future behavior ensured, by passing a unique label to each axes instance.\n",
      "  \"Adding an axes using the same arguments as a previous axes \"\n"
     ]
    },
    {
     "data": {
      "image/png": "[encoded data removed]",
      "text/plain": [
       "<Figure size 1440x576 with 1 Axes>"
      ]
     },
     "metadata": {
      "needs_background": "light"
     },
     "output_type": "display_data"
    }
   ],
   "source": [
    "figsize(20, 8)\n",
    "optimal_weights.plot.bar(legend=None, title='Portfolio % Holdings by Stock')\n",
    "x_axis = plt.axes().get_xaxis()\n",
    "x_axis.set_visible(False)\n",
    "plt.tight_layout()"
   ]
  },
  {
   "cell_type": "code",
   "execution_count": 34,
   "metadata": {},
   "outputs": [
    {
     "data": {
      "text/plain": [
       "<matplotlib.collections.PathCollection at 0x1331f4be0>"
      ]
     },
     "execution_count": 34,
     "metadata": {},
     "output_type": "execute_result"
    },
    {
     "data": {
      "image/png": "[encoded data removed]",
      "text/plain": [
       "<Figure size 1440x576 with 1 Axes>"
      ]
     },
     "metadata": {
      "needs_background": "light"
     },
     "output_type": "display_data"
    }
   ],
   "source": [
    "plt.scatter(alpha_vector, optimal_weights)"
   ]
  },
  {
   "cell_type": "code",
   "execution_count": 35,
   "metadata": {},
   "outputs": [
    {
     "name": "stdout",
     "output_type": "stream",
     "text": [
      "741\n",
      "741\n",
      "ticker\n",
      "CSCO   -0.345709\n",
      "UAL    -0.672732\n",
      "TROW   -0.976396\n",
      "ISRG   -0.920335\n",
      "NVR     1.373494\n",
      "Name: 2015-12-31 00:00:00, dtype: float64\n",
      "                   0\n",
      "ticker              \n",
      "CSCO   -2.067578e-16\n",
      "UAL    -5.514700e-16\n",
      "TROW   -1.772363e-15\n",
      "ISRG   -1.331039e-15\n",
      "NVR     3.016487e-03\n"
     ]
    }
   ],
   "source": [
    "print(len(alpha_vector))\n",
    "print(len(optimal_weights))\n",
    "print(alpha_vector.head())\n",
    "print(optimal_weights.head())"
   ]
  },
  {
   "cell_type": "code",
   "execution_count": 36,
   "metadata": {},
   "outputs": [],
   "source": [
    "def get_transfer_coefficient(a, b):\n",
    "    tc, p = spearmanr(a, b)\n",
    "    return tc"
   ]
  },
  {
   "cell_type": "code",
   "execution_count": 37,
   "metadata": {},
   "outputs": [
    {
     "name": "stdout",
     "output_type": "stream",
     "text": [
      "(741,)\n",
      "(741,)\n"
     ]
    }
   ],
   "source": [
    "av = alpha_vector.values\n",
    "r = optimal_weights.values.flatten()\n",
    "print(av.shape)\n",
    "print(r.shape)"
   ]
  },
  {
   "cell_type": "code",
   "execution_count": 38,
   "metadata": {},
   "outputs": [
    {
     "data": {
      "text/plain": [
       "0.9999999705064255"
      ]
     },
     "execution_count": 38,
     "metadata": {},
     "output_type": "execute_result"
    }
   ],
   "source": [
    "get_transfer_coefficient(av, r)"
   ]
  },
  {
   "cell_type": "code",
   "execution_count": 85,
   "metadata": {},
   "outputs": [],
   "source": [
    "class OptimalHoldingsCVX:\n",
    "\n",
    "    def __init__(self, risk_model, alpha_vector, previous, risk_cap=0.05, factor_max=10.0, gmv=5e3, lambda_reg=0.00,\n",
    "                 factor_min=-10.0, weights_max=0.02, weights_min=-0.02, risk_aversion=1.0e-6):\n",
    "\n",
    "        self.risk_model = risk_model\n",
    "        self.alpha_vector = alpha_vector\n",
    "        self.previous = previous\n",
    "        self.risk_cap = risk_cap\n",
    "        self.factor_min = factor_min\n",
    "        self.factor_max = factor_max\n",
    "        self.weights_min = weights_min * gmv\n",
    "        self.weights_max = weights_max * gmv\n",
    "        self.risk_aversion = risk_aversion\n",
    "        self.gmv = gmv\n",
    "        self.lambda_reg = lambda_reg\n",
    "\n",
    "    def _get_obj(self, h1):\n",
    "        ra = self.risk_aversion\n",
    "        Q = self.risk_model.Q # Q is k x N\n",
    "        ivv = self.risk_model.i_var_vector\n",
    "        av = -self.alpha_vector\n",
    "        h0 = self.previous.flatten()\n",
    "        lv = np.ones((len(av), 1)) * 0.1/10000000\n",
    "        obj_func = cvx.Minimize(np.array(av.T) * h1 + self.lambda_reg * cvx.norm(h1, 2) + (h1-h0)**2 @ lv)\n",
    "        #obj_func = cvx.Minimize(np.array(av.T) * h1 + self.lambda_reg * cvx.norm(h1, 2))\n",
    "\n",
    "        return obj_func\n",
    "\n",
    "    def _get_constraints(self, h1, risk):\n",
    "        c = []\n",
    "        factor_exposures = self.risk_model.factor_exposures\n",
    "        c.append(risk <= self.risk_cap**2)\n",
    "        c.append(factor_exposures.T @ h1 <= self.factor_max)\n",
    "        c.append(factor_exposures.T @ h1 >= self.factor_min)\n",
    "        c.append(sum(h1) == 0)\n",
    "        c.append(sum(cvx.abs(h1)) <= self.gmv)\n",
    "        c.append(h1 >= self.weights_min)\n",
    "        c.append(h1 <= self.weights_max)\n",
    "        return c\n",
    "\n",
    "    def get_risk(self, h1):\n",
    "        av_index = self.alpha_vector.index\n",
    "        ivm = self.risk_model.i_var_matrix.loc[av_index].values\n",
    "        f = self.risk_model.factor_exposures.loc[av_index].values.T @ h1\n",
    "        X = self.risk_model.factor_cov_matrix\n",
    "        risk = cvx.quad_form(f, X) + cvx.quad_form(h1/self.gmv, ivm)\n",
    "        return risk\n",
    "\n",
    "    def find(self):\n",
    "        h1 = cvx.Variable(len(self.alpha_vector))\n",
    "        risk = self.get_risk(h1)\n",
    "        obj_func = self._get_obj(h1)\n",
    "        constraints = self._get_constraints(h1, risk)\n",
    "        prob = cvx.Problem(obj_func, constraints)\n",
    "        prob.solve(max_iters=100, verbose=True)\n",
    "        optimal_weights = np.asarray(h1.value).flatten()\n",
    "        df = pd.DataFrame(optimal_weights, index=self.alpha_vector.index, columns=['holdings'])\n",
    "        return df"
   ]
  },
  {
   "cell_type": "code",
   "execution_count": 40,
   "metadata": {},
   "outputs": [
    {
     "name": "stdout",
     "output_type": "stream",
     "text": [
      "(741, 1)\n"
     ]
    },
    {
     "data": {
      "text/plain": [
       "array([[0.],\n",
       "       [0.],\n",
       "       [0.],\n",
       "       [0.],\n",
       "       [0.]])"
      ]
     },
     "execution_count": 40,
     "metadata": {},
     "output_type": "execute_result"
    }
   ],
   "source": [
    "initial_holdings = np.zeros((len(alpha_vector), 1))  / len(alpha_vector)\n",
    "print(initial_holdings.shape)\n",
    "initial_holdings[:5]"
   ]
  },
  {
   "cell_type": "code",
   "execution_count": 41,
   "metadata": {},
   "outputs": [
    {
     "name": "stdout",
     "output_type": "stream",
     "text": [
      "\n",
      "ECOS 2.0.7 - (C) embotech GmbH, Zurich Switzerland, 2012-15. Web: www.embotech.com/ECOS\n",
      "\n",
      "It     pcost       dcost      gap   pres   dres    k/t    mu     step   sigma     IR    |   BT\n",
      " 0  +1.577e-16  -1.866e+05  +1e+06  9e-02  8e-01  1e+00  1e+00    ---    ---    2  1  - |  -  - \n",
      " 1  -1.880e+00  -3.007e+04  +2e+05  1e-02  2e-01  2e-01  2e-01  0.8425  6e-03   2  2  2 |  0  0\n",
      " 2  -7.276e+00  -4.359e+03  +3e+04  2e-03  3e-02  4e-02  3e-02  0.9541  9e-02   2  2  2 |  0  0\n",
      " 3  -2.605e+01  -2.664e+03  +2e+04  1e-03  2e-02  3e-02  1e-02  0.4534  8e-02   3  3  4 |  0  0\n",
      " 4  -2.854e+01  -2.965e+03  +2e+04  1e-03  2e-02  3e-02  1e-02  0.1426  9e-01   3  4  4 |  0  0\n",
      " 5  -3.205e+01  -3.180e+03  +2e+04  2e-03  2e-02  4e-02  1e-02  0.1000  8e-01   3  4  4 |  0  0\n",
      " 6  -6.360e+01  -1.336e+03  +5e+03  7e-04  8e-03  2e-02  5e-03  0.8161  2e-01   3  4  4 |  0  0\n",
      " 7  -1.321e+02  -1.089e+03  +3e+03  5e-04  6e-03  2e-02  3e-03  0.5709  3e-01   3  3  3 |  0  0\n",
      " 8  -4.779e+02  -1.318e+03  +1e+03  5e-04  9e-03  3e-02  1e-03  0.9374  3e-01   2  2  2 |  0  0\n",
      " 9  -7.782e+02  -1.689e+03  +8e+02  6e-04  1e-02  5e-02  7e-04  0.4329  3e-01   2  2  2 |  0  0\n",
      "10  -1.935e+03  -3.191e+03  +4e+02  8e-04  2e-02  1e-01  4e-04  0.7430  4e-01   2  2  2 |  0  0\n",
      "11  -1.926e+03  -3.211e+03  +4e+02  8e-04  2e-02  1e-01  4e-04  0.0529  9e-01   2  2  2 |  0  0\n",
      "12  -3.400e+03  -4.953e+03  +2e+02  1e-03  4e-02  3e-01  2e-04  0.8109  4e-01   2  2  1 |  0  0\n",
      "13  -3.304e+03  -4.274e+03  +1e+02  6e-04  2e-02  2e-01  1e-04  0.6148  3e-01   2  2  2 |  0  0\n",
      "14  -3.519e+03  -4.272e+03  +8e+01  5e-04  2e-02  2e-01  7e-05  0.6904  4e-01   2  2  2 |  0  0\n",
      "15  -3.838e+03  -4.399e+03  +4e+01  4e-04  2e-02  2e-01  4e-05  0.6131  3e-01   2  1  1 |  0  0\n",
      "16  -4.043e+03  -4.465e+03  +3e+01  3e-04  1e-02  2e-01  2e-05  0.6088  4e-01   2  2  2 |  0  0\n",
      "17  -4.255e+03  -4.567e+03  +2e+01  2e-04  1e-02  2e-01  2e-05  0.4536  2e-01   2  1  2 |  0  0\n",
      "18  -4.239e+03  -4.544e+03  +2e+01  2e-04  1e-02  2e-01  1e-05  0.2817  7e-01   2  2  2 |  0  0\n",
      "19  -4.436e+03  -4.644e+03  +9e+00  1e-04  8e-03  2e-01  9e-06  0.5631  3e-01   2  1  1 |  0  0\n",
      "20  -4.467e+03  -4.647e+03  +8e+00  1e-04  7e-03  2e-01  7e-06  0.4590  6e-01   2  2  2 |  0  0\n",
      "21  -4.588e+03  -4.712e+03  +5e+00  8e-05  5e-03  1e-01  4e-06  0.5492  3e-01   2  1  2 |  0  0\n",
      "22  -4.658e+03  -4.741e+03  +3e+00  5e-05  4e-03  9e-02  3e-06  0.6473  4e-01   2  2  3 |  0  0\n",
      "23  -4.740e+03  -4.786e+03  +1e+00  3e-05  2e-03  6e-02  1e-06  0.7134  3e-01   1  1  1 |  0  0\n",
      "24  -4.803e+03  -4.816e+03  +4e-01  8e-06  6e-04  2e-02  4e-07  0.9610  2e-01   2  2  2 |  0  0\n",
      "25  -4.823e+03  -4.827e+03  +1e-01  2e-06  2e-04  6e-03  1e-07  0.7572  7e-02   1  2  2 |  0  0\n",
      "26  -4.830e+03  -4.831e+03  +2e-02  4e-07  3e-05  8e-04  2e-08  0.8631  3e-02   1  2  1 |  0  0\n",
      "27  -4.830e+03  -4.831e+03  +1e-02  3e-07  2e-05  5e-04  1e-08  0.5932  5e-01   2  1  1 |  0  0\n",
      "28  -4.830e+03  -4.831e+03  +1e-02  3e-07  2e-05  5e-04  1e-08  0.0575  9e-01   1  1  1 |  0  0\n",
      "29  -4.831e+03  -4.831e+03  +7e-03  1e-07  9e-06  3e-04  6e-09  0.9890  5e-01   2  2  2 |  0  0\n",
      "30  -4.831e+03  -4.831e+03  +3e-03  6e-08  5e-06  1e-04  3e-09  0.7777  3e-01   1  1  1 |  0  0\n",
      "31  -4.831e+03  -4.831e+03  +1e-03  2e-08  2e-06  5e-05  1e-09  0.7607  2e-01   2  2  2 |  0  0\n",
      "32  -4.831e+03  -4.831e+03  +1e-03  2e-08  2e-06  5e-05  1e-09  0.1219  8e-01   2  1  1 |  0  0\n",
      "33  -4.831e+03  -4.831e+03  +5e-04  1e-08  7e-07  2e-05  5e-10  0.9890  4e-01   2  2  2 |  0  0\n",
      "34  -4.831e+03  -4.831e+03  +2e-04  6e-09  3e-07  5e-06  2e-10  0.9890  3e-01   1  1  1 |  0  0\n",
      "35  -4.831e+03  -4.831e+03  +4e-05  4e-09  1e-07  1e-06  3e-11  0.9585  2e-01   1  1  2 |  0  0\n",
      "36  -4.831e+03  -4.831e+03  +1e-05  5e-09  9e-08  4e-07  1e-11  0.9582  3e-01   3  3  3 |  0  0\n",
      "37  -4.832e+03  -4.832e+03  +1e-05  6e-09  6e-08  3e-07  9e-12  0.7318  6e-01   4  4  4 |  0  0\n",
      "38  -4.832e+03  -4.832e+03  +3e-06  1e-08  6e-08  9e-08  3e-12  0.7257  1e-01   3  4  5 |  0  0\n",
      "39  -4.832e+03  -4.832e+03  +3e-06  2e-08  6e-08  7e-08  2e-12  0.9890  7e-01   3  4  5 |  0  0\n",
      "40  -4.832e+03  -4.832e+03  +1e-06  5e-08  5e-08  3e-08  1e-12  0.6304  2e-01   4  4  5 |  0  0\n",
      "41  -4.832e+03  -4.832e+03  +8e-07  6e-08  4e-08  2e-08  7e-13  0.9890  6e-01   4  4  3 |  0  0\n",
      "42  -4.832e+03  -4.832e+03  +5e-07  3e-08  4e-08  1e-08  4e-13  0.5743  3e-01   4  5  5 |  0  0\n",
      "43  -4.832e+03  -4.832e+03  +3e-07  5e-08  3e-08  8e-09  3e-13  0.9890  7e-01   3  4  5 |  0  0\n",
      "44  -4.832e+03  -4.832e+03  +2e-07  2e-07  3e-08  4e-09  2e-13  0.5748  1e-01   4  4  5 |  0  0\n",
      "45  -4.832e+03  -4.832e+03  +2e-07  2e-07  3e-08  4e-09  2e-13  0.0307  9e-01   4  5  5 |  0  0\n",
      "46  -4.832e+03  -4.832e+03  +2e-07  2e-07  3e-08  4e-09  2e-13  0.0031  6e-01   4  5  3 |  0  0\n",
      "47  -4.832e+03  -4.832e+03  -4e+16  -4e-04  -2e-09  -4e-09  -3e+10  0.0000  1e+00   0  0  0 |  0  0\n",
      "Unreliable search direction detected, recovering best iterate (35) and stopping.\n",
      "\n",
      "Close to OPTIMAL (within feastol=1.1e-07, reltol=7.5e-09, abstol=3.6e-05).\n",
      "Runtime: 43.858197 seconds.\n",
      "\n"
     ]
    }
   ],
   "source": [
    "oh = OptimalHoldingsCVX(risk_model, alpha_vector, initial_holdings, lambda_reg=5.0)\n",
    "optimal_weights = oh.find()"
   ]
  },
  {
   "cell_type": "code",
   "execution_count": 42,
   "metadata": {},
   "outputs": [
    {
     "data": {
      "image/png": "[encoded data removed]",
      "text/plain": [
       "<Figure size 1440x576 with 1 Axes>"
      ]
     },
     "metadata": {
      "needs_background": "light"
     },
     "output_type": "display_data"
    }
   ],
   "source": [
    "figsize(20, 8)\n",
    "optimal_weights.plot.bar(legend=None, title='Portfolio % Holdings by Stock')\n",
    "x_axis = plt.axes().get_xaxis()\n",
    "x_axis.set_visible(False)\n",
    "plt.tight_layout()"
   ]
  },
  {
   "cell_type": "code",
   "execution_count": 43,
   "metadata": {},
   "outputs": [
    {
     "data": {
      "text/html": [
       "<div>\n",
       "<style scoped>\n",
       "    .dataframe tbody tr th:only-of-type {\n",
       "        vertical-align: middle;\n",
       "    }\n",
       "\n",
       "    .dataframe tbody tr th {\n",
       "        vertical-align: top;\n",
       "    }\n",
       "\n",
       "    .dataframe thead th {\n",
       "        text-align: right;\n",
       "    }\n",
       "</style>\n",
       "<table border=\"1\" class=\"dataframe\">\n",
       "  <thead>\n",
       "    <tr style=\"text-align: right;\">\n",
       "      <th></th>\n",
       "      <th>holdings</th>\n",
       "    </tr>\n",
       "    <tr>\n",
       "      <th>ticker</th>\n",
       "      <th></th>\n",
       "    </tr>\n",
       "  </thead>\n",
       "  <tbody>\n",
       "    <tr>\n",
       "      <th>CSCO</th>\n",
       "      <td>-8.162055e-07</td>\n",
       "    </tr>\n",
       "    <tr>\n",
       "      <th>UAL</th>\n",
       "      <td>-9.225883e-07</td>\n",
       "    </tr>\n",
       "    <tr>\n",
       "      <th>TROW</th>\n",
       "      <td>-5.123068e-06</td>\n",
       "    </tr>\n",
       "    <tr>\n",
       "      <th>ISRG</th>\n",
       "      <td>-1.136716e+01</td>\n",
       "    </tr>\n",
       "    <tr>\n",
       "      <th>NVR</th>\n",
       "      <td>2.047375e+01</td>\n",
       "    </tr>\n",
       "  </tbody>\n",
       "</table>\n",
       "</div>"
      ],
      "text/plain": [
       "            holdings\n",
       "ticker              \n",
       "CSCO   -8.162055e-07\n",
       "UAL    -9.225883e-07\n",
       "TROW   -5.123068e-06\n",
       "ISRG   -1.136716e+01\n",
       "NVR     2.047375e+01"
      ]
     },
     "execution_count": 43,
     "metadata": {},
     "output_type": "execute_result"
    }
   ],
   "source": [
    "optimal_weights.head()"
   ]
  },
  {
   "cell_type": "code",
   "execution_count": 44,
   "metadata": {},
   "outputs": [
    {
     "name": "stdout",
     "output_type": "stream",
     "text": [
      "average long holdings:  6.7568\n",
      "max long holding:  74.8923\n",
      "average short holdings:  -6.7385\n",
      "max short holding:  -70.7782\n",
      "gmv =  holdings    4999.999012\n",
      "dtype: float64\n"
     ]
    }
   ],
   "source": [
    "print('average long holdings: ', optimal_weights.loc[optimal_weights['holdings'] > 0].mean().values[0].round(4))\n",
    "print('max long holding: ', optimal_weights.loc[optimal_weights['holdings'] > 0].max().values[0].round(4))\n",
    "print('average short holdings: ', optimal_weights.loc[optimal_weights['holdings'] <= 0].mean().values[0].round(4))\n",
    "print('max short holding: ', optimal_weights.loc[optimal_weights['holdings'] < 0].min().values[0].round(4))\n",
    "print('gmv = ', optimal_weights.loc[optimal_weights['holdings'] > 0].sum() + optimal_weights.loc[optimal_weights['holdings'] < 0].abs().sum().values[0])"
   ]
  },
  {
   "cell_type": "code",
   "execution_count": 45,
   "metadata": {},
   "outputs": [
    {
     "name": "stdout",
     "output_type": "stream",
     "text": [
      "this is h2.shape:  (741,)\n",
      "this is ivv.shape:  (741, 1)\n"
     ]
    },
    {
     "data": {
      "text/plain": [
       "0.016695579724181914"
      ]
     },
     "execution_count": 45,
     "metadata": {},
     "output_type": "execute_result"
    }
   ],
   "source": [
    "np.sqrt(risk_model.predict_portfolio_risk_opt(optimal_weights.values.flatten(), 5000))"
   ]
  },
  {
   "cell_type": "code",
   "execution_count": 84,
   "metadata": {},
   "outputs": [],
   "source": [
    "def backtest(test_period, holdings, returns, alpha, gmv):\n",
    "    port = {}\n",
    "    for d in tqdm(test_period):\n",
    "        str_d = d.strftime('%Y%m%d')\n",
    "        end_date = d\n",
    "        start_date = d - dt.timedelta(days=365)\n",
    "        av = alpha.loc[end_date, :]\n",
    "        rets = returns.loc[start_date:end_date, :]\n",
    "        lambda_vector = np.ones((1, len(av))) * 0.1/10000000\n",
    "        rm = RiskModelPCA(rets, 20)\n",
    "        start = time.time()\n",
    "        oh = OptimalHoldingsCVX(rm, av, holdings, lambda_reg=7.0, gmv=gmv)\n",
    "        end = time.time()\n",
    "        start = time.time()\n",
    "        new_holdings = oh.find()\n",
    "        end = time.time()\n",
    "        data = np.matmul(rm.factor_exposures.values.T, new_holdings.values).flatten()\n",
    "        risk_exposures = pd.Series(data=data.T, index=rm.factor_exposures.columns.values) \n",
    "        alpha_exposures = pd.Series(av * new_holdings['holdings'], index=av.index) \n",
    "        transaction_costs = np.dot(lambda_vector, (new_holdings - holdings)**2).flatten()\n",
    "        print('TRANSACTION COSTS: ', transaction_costs)\n",
    "        result = {\n",
    "            'h.opt.previous': holdings,\n",
    "            'h.opt': new_holdings,\n",
    "            'risk.exposures': risk_exposures,\n",
    "            'alpha.exposures': alpha_exposures,\n",
    "            't.costs': transaction_costs,\n",
    "            'factor.exposures': rm.factor_exposures,\n",
    "            'alpha.vector': av,\n",
    "            'rm': rm\n",
    "        }\n",
    "        print('RISK: ', np.sqrt(rm.predict_portfolio_risk_opt(new_holdings.values.flatten(), gmv)))\n",
    "        port[str_d] = result\n",
    "        holdings = np.asarray(new_holdings)\n",
    "    return port"
   ]
  },
  {
   "cell_type": "code",
   "execution_count": 86,
   "metadata": {},
   "outputs": [
    {
     "name": "stderr",
     "output_type": "stream",
     "text": [
      "\n",
      "\n",
      "\n",
      "\n",
      "\n",
      "  0%|          | 0/64 [00:00<?, ?it/s]\u001b[A\u001b[A\u001b[A\u001b[A\u001b[A"
     ]
    },
    {
     "name": "stdout",
     "output_type": "stream",
     "text": [
      "DatetimeIndex(['2015-05-01', '2015-05-04', '2015-05-05', '2015-05-06',\n",
      "               '2015-05-07'],\n",
      "              dtype='datetime64[ns]', name='Date', freq=None)\n"
     ]
    },
    {
     "ename": "KeyboardInterrupt",
     "evalue": "",
     "output_type": "error",
     "traceback": [
      "\u001b[0;31m---------------------------------------------------------------------------\u001b[0m",
      "\u001b[0;31mKeyboardInterrupt\u001b[0m                         Traceback (most recent call last)",
      "\u001b[0;32m<ipython-input-86-633f026b32c1>\u001b[0m in \u001b[0;36m<module>\u001b[0;34m\u001b[0m\n\u001b[1;32m      2\u001b[0m \u001b[0mprint\u001b[0m\u001b[0;34m(\u001b[0m\u001b[0mtest_period\u001b[0m\u001b[0;34m[\u001b[0m\u001b[0;34m:\u001b[0m\u001b[0;36m5\u001b[0m\u001b[0;34m]\u001b[0m\u001b[0;34m)\u001b[0m\u001b[0;34m\u001b[0m\u001b[0m\n\u001b[1;32m      3\u001b[0m \u001b[0minitial_holdings\u001b[0m \u001b[0;34m=\u001b[0m \u001b[0mnp\u001b[0m\u001b[0;34m.\u001b[0m\u001b[0mzeros\u001b[0m\u001b[0;34m(\u001b[0m\u001b[0;34m(\u001b[0m\u001b[0mlen\u001b[0m\u001b[0;34m(\u001b[0m\u001b[0mmomentum\u001b[0m\u001b[0;34m.\u001b[0m\u001b[0mcolumns\u001b[0m\u001b[0;34m)\u001b[0m\u001b[0;34m,\u001b[0m \u001b[0;36m1\u001b[0m\u001b[0;34m)\u001b[0m\u001b[0;34m)\u001b[0m\u001b[0;34m\u001b[0m\u001b[0m\n\u001b[0;32m----> 4\u001b[0;31m \u001b[0mport\u001b[0m \u001b[0;34m=\u001b[0m \u001b[0mbacktest\u001b[0m\u001b[0;34m(\u001b[0m\u001b[0mtest_period\u001b[0m\u001b[0;34m,\u001b[0m \u001b[0minitial_holdings\u001b[0m\u001b[0;34m,\u001b[0m \u001b[0mreturns\u001b[0m\u001b[0;34m,\u001b[0m \u001b[0mmomentum\u001b[0m\u001b[0;34m,\u001b[0m \u001b[0;36m10000\u001b[0m\u001b[0;34m)\u001b[0m\u001b[0;34m\u001b[0m\u001b[0m\n\u001b[0m",
      "\u001b[0;32m<ipython-input-84-b8d23b3ea48a>\u001b[0m in \u001b[0;36mbacktest\u001b[0;34m(test_period, holdings, returns, alpha, gmv)\u001b[0m\n\u001b[1;32m     13\u001b[0m         \u001b[0mend\u001b[0m \u001b[0;34m=\u001b[0m \u001b[0mtime\u001b[0m\u001b[0;34m.\u001b[0m\u001b[0mtime\u001b[0m\u001b[0;34m(\u001b[0m\u001b[0;34m)\u001b[0m\u001b[0;34m\u001b[0m\u001b[0m\n\u001b[1;32m     14\u001b[0m         \u001b[0mstart\u001b[0m \u001b[0;34m=\u001b[0m \u001b[0mtime\u001b[0m\u001b[0;34m.\u001b[0m\u001b[0mtime\u001b[0m\u001b[0;34m(\u001b[0m\u001b[0;34m)\u001b[0m\u001b[0;34m\u001b[0m\u001b[0m\n\u001b[0;32m---> 15\u001b[0;31m         \u001b[0mnew_holdings\u001b[0m \u001b[0;34m=\u001b[0m \u001b[0moh\u001b[0m\u001b[0;34m.\u001b[0m\u001b[0mfind\u001b[0m\u001b[0;34m(\u001b[0m\u001b[0;34m)\u001b[0m\u001b[0;34m\u001b[0m\u001b[0m\n\u001b[0m\u001b[1;32m     16\u001b[0m         \u001b[0mend\u001b[0m \u001b[0;34m=\u001b[0m \u001b[0mtime\u001b[0m\u001b[0;34m.\u001b[0m\u001b[0mtime\u001b[0m\u001b[0;34m(\u001b[0m\u001b[0;34m)\u001b[0m\u001b[0;34m\u001b[0m\u001b[0m\n\u001b[1;32m     17\u001b[0m         \u001b[0mdata\u001b[0m \u001b[0;34m=\u001b[0m \u001b[0mnp\u001b[0m\u001b[0;34m.\u001b[0m\u001b[0mmatmul\u001b[0m\u001b[0;34m(\u001b[0m\u001b[0mrm\u001b[0m\u001b[0;34m.\u001b[0m\u001b[0mfactor_exposures\u001b[0m\u001b[0;34m.\u001b[0m\u001b[0mvalues\u001b[0m\u001b[0;34m.\u001b[0m\u001b[0mT\u001b[0m\u001b[0;34m,\u001b[0m \u001b[0mnew_holdings\u001b[0m\u001b[0;34m.\u001b[0m\u001b[0mvalues\u001b[0m\u001b[0;34m)\u001b[0m\u001b[0;34m.\u001b[0m\u001b[0mflatten\u001b[0m\u001b[0;34m(\u001b[0m\u001b[0;34m)\u001b[0m\u001b[0;34m\u001b[0m\u001b[0m\n",
      "\u001b[0;32m<ipython-input-85-6f5e90bd989e>\u001b[0m in \u001b[0;36mfind\u001b[0;34m(self)\u001b[0m\n\u001b[1;32m     54\u001b[0m         \u001b[0mconstraints\u001b[0m \u001b[0;34m=\u001b[0m \u001b[0mself\u001b[0m\u001b[0;34m.\u001b[0m\u001b[0m_get_constraints\u001b[0m\u001b[0;34m(\u001b[0m\u001b[0mh1\u001b[0m\u001b[0;34m,\u001b[0m \u001b[0mrisk\u001b[0m\u001b[0;34m)\u001b[0m\u001b[0;34m\u001b[0m\u001b[0m\n\u001b[1;32m     55\u001b[0m         \u001b[0mprob\u001b[0m \u001b[0;34m=\u001b[0m \u001b[0mcvx\u001b[0m\u001b[0;34m.\u001b[0m\u001b[0mProblem\u001b[0m\u001b[0;34m(\u001b[0m\u001b[0mobj_func\u001b[0m\u001b[0;34m,\u001b[0m \u001b[0mconstraints\u001b[0m\u001b[0;34m)\u001b[0m\u001b[0;34m\u001b[0m\u001b[0m\n\u001b[0;32m---> 56\u001b[0;31m         \u001b[0mprob\u001b[0m\u001b[0;34m.\u001b[0m\u001b[0msolve\u001b[0m\u001b[0;34m(\u001b[0m\u001b[0mmax_iters\u001b[0m\u001b[0;34m=\u001b[0m\u001b[0;36m100\u001b[0m\u001b[0;34m,\u001b[0m \u001b[0mverbose\u001b[0m\u001b[0;34m=\u001b[0m\u001b[0;32mTrue\u001b[0m\u001b[0;34m)\u001b[0m\u001b[0;34m\u001b[0m\u001b[0m\n\u001b[0m\u001b[1;32m     57\u001b[0m         \u001b[0moptimal_weights\u001b[0m \u001b[0;34m=\u001b[0m \u001b[0mnp\u001b[0m\u001b[0;34m.\u001b[0m\u001b[0masarray\u001b[0m\u001b[0;34m(\u001b[0m\u001b[0mh1\u001b[0m\u001b[0;34m.\u001b[0m\u001b[0mvalue\u001b[0m\u001b[0;34m)\u001b[0m\u001b[0;34m.\u001b[0m\u001b[0mflatten\u001b[0m\u001b[0;34m(\u001b[0m\u001b[0;34m)\u001b[0m\u001b[0;34m\u001b[0m\u001b[0m\n\u001b[1;32m     58\u001b[0m         \u001b[0mdf\u001b[0m \u001b[0;34m=\u001b[0m \u001b[0mpd\u001b[0m\u001b[0;34m.\u001b[0m\u001b[0mDataFrame\u001b[0m\u001b[0;34m(\u001b[0m\u001b[0moptimal_weights\u001b[0m\u001b[0;34m,\u001b[0m \u001b[0mindex\u001b[0m\u001b[0;34m=\u001b[0m\u001b[0mself\u001b[0m\u001b[0;34m.\u001b[0m\u001b[0malpha_vector\u001b[0m\u001b[0;34m.\u001b[0m\u001b[0mindex\u001b[0m\u001b[0;34m,\u001b[0m \u001b[0mcolumns\u001b[0m\u001b[0;34m=\u001b[0m\u001b[0;34m[\u001b[0m\u001b[0;34m'holdings'\u001b[0m\u001b[0;34m]\u001b[0m\u001b[0;34m)\u001b[0m\u001b[0;34m\u001b[0m\u001b[0m\n",
      "\u001b[0;32m~/.pyenv/versions/zipline/lib/python3.5/site-packages/cvxpy/problems/problem.py\u001b[0m in \u001b[0;36msolve\u001b[0;34m(self, *args, **kwargs)\u001b[0m\n\u001b[1;32m    287\u001b[0m         \u001b[0;32melse\u001b[0m\u001b[0;34m:\u001b[0m\u001b[0;34m\u001b[0m\u001b[0m\n\u001b[1;32m    288\u001b[0m             \u001b[0msolve_func\u001b[0m \u001b[0;34m=\u001b[0m \u001b[0mProblem\u001b[0m\u001b[0;34m.\u001b[0m\u001b[0m_solve\u001b[0m\u001b[0;34m\u001b[0m\u001b[0m\n\u001b[0;32m--> 289\u001b[0;31m         \u001b[0;32mreturn\u001b[0m \u001b[0msolve_func\u001b[0m\u001b[0;34m(\u001b[0m\u001b[0mself\u001b[0m\u001b[0;34m,\u001b[0m \u001b[0;34m*\u001b[0m\u001b[0margs\u001b[0m\u001b[0;34m,\u001b[0m \u001b[0;34m**\u001b[0m\u001b[0mkwargs\u001b[0m\u001b[0;34m)\u001b[0m\u001b[0;34m\u001b[0m\u001b[0m\n\u001b[0m\u001b[1;32m    290\u001b[0m \u001b[0;34m\u001b[0m\u001b[0m\n\u001b[1;32m    291\u001b[0m     \u001b[0;34m@\u001b[0m\u001b[0mclassmethod\u001b[0m\u001b[0;34m\u001b[0m\u001b[0m\n",
      "\u001b[0;32m~/.pyenv/versions/zipline/lib/python3.5/site-packages/cvxpy/problems/problem.py\u001b[0m in \u001b[0;36m_solve\u001b[0;34m(self, solver, warm_start, verbose, parallel, gp, qcp, **kwargs)\u001b[0m\n\u001b[1;32m    567\u001b[0m         \u001b[0mself\u001b[0m\u001b[0;34m.\u001b[0m\u001b[0m_construct_chains\u001b[0m\u001b[0;34m(\u001b[0m\u001b[0msolver\u001b[0m\u001b[0;34m=\u001b[0m\u001b[0msolver\u001b[0m\u001b[0;34m,\u001b[0m \u001b[0mgp\u001b[0m\u001b[0;34m=\u001b[0m\u001b[0mgp\u001b[0m\u001b[0;34m)\u001b[0m\u001b[0;34m\u001b[0m\u001b[0m\n\u001b[1;32m    568\u001b[0m         data, solving_inverse_data = self._solving_chain.apply(\n\u001b[0;32m--> 569\u001b[0;31m             self._intermediate_problem)\n\u001b[0m\u001b[1;32m    570\u001b[0m         solution = self._solving_chain.solve_via_data(\n\u001b[1;32m    571\u001b[0m             self, data, warm_start, verbose, kwargs)\n",
      "\u001b[0;32m~/.pyenv/versions/zipline/lib/python3.5/site-packages/cvxpy/reductions/chain.py\u001b[0m in \u001b[0;36mapply\u001b[0;34m(self, problem)\u001b[0m\n\u001b[1;32m     63\u001b[0m         \u001b[0minverse_data\u001b[0m \u001b[0;34m=\u001b[0m \u001b[0;34m[\u001b[0m\u001b[0;34m]\u001b[0m\u001b[0;34m\u001b[0m\u001b[0m\n\u001b[1;32m     64\u001b[0m         \u001b[0;32mfor\u001b[0m \u001b[0mr\u001b[0m \u001b[0;32min\u001b[0m \u001b[0mself\u001b[0m\u001b[0;34m.\u001b[0m\u001b[0mreductions\u001b[0m\u001b[0;34m:\u001b[0m\u001b[0;34m\u001b[0m\u001b[0m\n\u001b[0;32m---> 65\u001b[0;31m             \u001b[0mproblem\u001b[0m\u001b[0;34m,\u001b[0m \u001b[0minv\u001b[0m \u001b[0;34m=\u001b[0m \u001b[0mr\u001b[0m\u001b[0;34m.\u001b[0m\u001b[0mapply\u001b[0m\u001b[0;34m(\u001b[0m\u001b[0mproblem\u001b[0m\u001b[0;34m)\u001b[0m\u001b[0;34m\u001b[0m\u001b[0m\n\u001b[0m\u001b[1;32m     66\u001b[0m             \u001b[0minverse_data\u001b[0m\u001b[0;34m.\u001b[0m\u001b[0mappend\u001b[0m\u001b[0;34m(\u001b[0m\u001b[0minv\u001b[0m\u001b[0;34m)\u001b[0m\u001b[0;34m\u001b[0m\u001b[0m\n\u001b[1;32m     67\u001b[0m         \u001b[0;32mreturn\u001b[0m \u001b[0mproblem\u001b[0m\u001b[0;34m,\u001b[0m \u001b[0minverse_data\u001b[0m\u001b[0;34m\u001b[0m\u001b[0m\n",
      "\u001b[0;32m~/.pyenv/versions/zipline/lib/python3.5/site-packages/cvxpy/reductions/solvers/conic_solvers/ecos_conif.py\u001b[0m in \u001b[0;36mapply\u001b[0;34m(self, problem)\u001b[0m\n\u001b[1;32m    107\u001b[0m         \u001b[0minv_data\u001b[0m\u001b[0;34m[\u001b[0m\u001b[0mself\u001b[0m\u001b[0;34m.\u001b[0m\u001b[0mNEQ_CONSTR\u001b[0m\u001b[0;34m]\u001b[0m \u001b[0;34m=\u001b[0m \u001b[0mneq_constr\u001b[0m\u001b[0;34m\u001b[0m\u001b[0m\n\u001b[1;32m    108\u001b[0m         data[s.G], data[s.H] = self.group_coeff_offset(\n\u001b[0;32m--> 109\u001b[0;31m             problem, neq_constr, ECOS.EXP_CONE_ORDER)\n\u001b[0m\u001b[1;32m    110\u001b[0m \u001b[0;34m\u001b[0m\u001b[0m\n\u001b[1;32m    111\u001b[0m         \u001b[0;32mreturn\u001b[0m \u001b[0mdata\u001b[0m\u001b[0;34m,\u001b[0m \u001b[0minv_data\u001b[0m\u001b[0;34m\u001b[0m\u001b[0m\n",
      "\u001b[0;32m~/.pyenv/versions/zipline/lib/python3.5/site-packages/cvxpy/reductions/solvers/conic_solvers/conic_solver.py\u001b[0m in \u001b[0;36mgroup_coeff_offset\u001b[0;34m(self, problem, constraints, exp_cone_order)\u001b[0m\n\u001b[1;32m    283\u001b[0m         \u001b[0mmatrices\u001b[0m\u001b[0;34m,\u001b[0m \u001b[0moffsets\u001b[0m \u001b[0;34m=\u001b[0m \u001b[0;34m[\u001b[0m\u001b[0;34m]\u001b[0m\u001b[0;34m,\u001b[0m \u001b[0;34m[\u001b[0m\u001b[0;34m]\u001b[0m\u001b[0;34m\u001b[0m\u001b[0m\n\u001b[1;32m    284\u001b[0m         \u001b[0;32mfor\u001b[0m \u001b[0mcons\u001b[0m \u001b[0;32min\u001b[0m \u001b[0mconstraints\u001b[0m\u001b[0;34m:\u001b[0m\u001b[0;34m\u001b[0m\u001b[0m\n\u001b[0;32m--> 285\u001b[0;31m             \u001b[0mcoeff\u001b[0m\u001b[0;34m,\u001b[0m \u001b[0moffset\u001b[0m \u001b[0;34m=\u001b[0m \u001b[0mself\u001b[0m\u001b[0;34m.\u001b[0m\u001b[0mformat_constr\u001b[0m\u001b[0;34m(\u001b[0m\u001b[0mproblem\u001b[0m\u001b[0;34m,\u001b[0m \u001b[0mcons\u001b[0m\u001b[0;34m,\u001b[0m \u001b[0mexp_cone_order\u001b[0m\u001b[0;34m)\u001b[0m\u001b[0;34m\u001b[0m\u001b[0m\n\u001b[0m\u001b[1;32m    286\u001b[0m             \u001b[0mmatrices\u001b[0m\u001b[0;34m.\u001b[0m\u001b[0mappend\u001b[0m\u001b[0;34m(\u001b[0m\u001b[0mcoeff\u001b[0m\u001b[0;34m)\u001b[0m\u001b[0;34m\u001b[0m\u001b[0m\n\u001b[1;32m    287\u001b[0m             \u001b[0moffsets\u001b[0m\u001b[0;34m.\u001b[0m\u001b[0mappend\u001b[0m\u001b[0;34m(\u001b[0m\u001b[0moffset\u001b[0m\u001b[0;34m)\u001b[0m\u001b[0;34m\u001b[0m\u001b[0m\n",
      "\u001b[0;32m~/.pyenv/versions/zipline/lib/python3.5/site-packages/cvxpy/reductions/solvers/conic_solvers/conic_solver.py\u001b[0m in \u001b[0;36mformat_constr\u001b[0;34m(self, problem, constr, exp_cone_order)\u001b[0m\n\u001b[1;32m    207\u001b[0m         \u001b[0mcoeffs\u001b[0m\u001b[0;34m,\u001b[0m \u001b[0moffsets\u001b[0m \u001b[0;34m=\u001b[0m \u001b[0;34m[\u001b[0m\u001b[0;34m]\u001b[0m\u001b[0;34m,\u001b[0m \u001b[0;34m[\u001b[0m\u001b[0;34m]\u001b[0m\u001b[0;34m\u001b[0m\u001b[0m\n\u001b[1;32m    208\u001b[0m         \u001b[0;32mfor\u001b[0m \u001b[0marg\u001b[0m \u001b[0;32min\u001b[0m \u001b[0mconstr\u001b[0m\u001b[0;34m.\u001b[0m\u001b[0margs\u001b[0m\u001b[0;34m:\u001b[0m\u001b[0;34m\u001b[0m\u001b[0m\n\u001b[0;32m--> 209\u001b[0;31m             \u001b[0mcoeff\u001b[0m\u001b[0;34m,\u001b[0m \u001b[0moffset\u001b[0m \u001b[0;34m=\u001b[0m \u001b[0mConicSolver\u001b[0m\u001b[0;34m.\u001b[0m\u001b[0mget_coeff_offset\u001b[0m\u001b[0;34m(\u001b[0m\u001b[0marg\u001b[0m\u001b[0;34m)\u001b[0m\u001b[0;34m\u001b[0m\u001b[0m\n\u001b[0m\u001b[1;32m    210\u001b[0m             \u001b[0mcoeffs\u001b[0m\u001b[0;34m.\u001b[0m\u001b[0mappend\u001b[0m\u001b[0;34m(\u001b[0m\u001b[0mcoeff\u001b[0m\u001b[0;34m)\u001b[0m\u001b[0;34m\u001b[0m\u001b[0m\n\u001b[1;32m    211\u001b[0m             \u001b[0moffsets\u001b[0m\u001b[0;34m.\u001b[0m\u001b[0mappend\u001b[0m\u001b[0;34m(\u001b[0m\u001b[0moffset\u001b[0m\u001b[0;34m)\u001b[0m\u001b[0;34m\u001b[0m\u001b[0m\n",
      "\u001b[0;32m~/.pyenv/versions/zipline/lib/python3.5/site-packages/cvxpy/reductions/solvers/conic_solvers/conic_solver.py\u001b[0m in \u001b[0;36mget_coeff_offset\u001b[0;34m(expr)\u001b[0m\n\u001b[1;32m    143\u001b[0m             \u001b[0;31m# expr is c.T*x + d\u001b[0m\u001b[0;34m\u001b[0m\u001b[0;34m\u001b[0m\u001b[0m\n\u001b[1;32m    144\u001b[0m             \u001b[0moffset\u001b[0m \u001b[0;34m=\u001b[0m \u001b[0mexpr\u001b[0m\u001b[0;34m.\u001b[0m\u001b[0margs\u001b[0m\u001b[0;34m[\u001b[0m\u001b[0;36m1\u001b[0m\u001b[0;34m]\u001b[0m\u001b[0;34m.\u001b[0m\u001b[0mvalue\u001b[0m\u001b[0;34m.\u001b[0m\u001b[0mravel\u001b[0m\u001b[0;34m(\u001b[0m\u001b[0;34m)\u001b[0m\u001b[0;34m.\u001b[0m\u001b[0mastype\u001b[0m\u001b[0;34m(\u001b[0m\u001b[0mnp\u001b[0m\u001b[0;34m.\u001b[0m\u001b[0mfloat64\u001b[0m\u001b[0;34m)\u001b[0m\u001b[0;34m\u001b[0m\u001b[0m\n\u001b[0;32m--> 145\u001b[0;31m             \u001b[0mcoeff\u001b[0m \u001b[0;34m=\u001b[0m \u001b[0mexpr\u001b[0m\u001b[0;34m.\u001b[0m\u001b[0margs\u001b[0m\u001b[0;34m[\u001b[0m\u001b[0;36m0\u001b[0m\u001b[0;34m]\u001b[0m\u001b[0;34m.\u001b[0m\u001b[0margs\u001b[0m\u001b[0;34m[\u001b[0m\u001b[0;36m0\u001b[0m\u001b[0;34m]\u001b[0m\u001b[0;34m.\u001b[0m\u001b[0mvalue\u001b[0m\u001b[0;34m.\u001b[0m\u001b[0mastype\u001b[0m\u001b[0;34m(\u001b[0m\u001b[0mnp\u001b[0m\u001b[0;34m.\u001b[0m\u001b[0mfloat64\u001b[0m\u001b[0;34m)\u001b[0m\u001b[0;34m\u001b[0m\u001b[0m\n\u001b[0m\u001b[1;32m    146\u001b[0m         \u001b[0;31m# Convert scalars to sparse matrices.\u001b[0m\u001b[0;34m\u001b[0m\u001b[0;34m\u001b[0m\u001b[0m\n\u001b[1;32m    147\u001b[0m         \u001b[0;32mif\u001b[0m \u001b[0mnp\u001b[0m\u001b[0;34m.\u001b[0m\u001b[0misscalar\u001b[0m\u001b[0;34m(\u001b[0m\u001b[0mcoeff\u001b[0m\u001b[0;34m)\u001b[0m\u001b[0;34m:\u001b[0m\u001b[0;34m\u001b[0m\u001b[0m\n",
      "\u001b[0;32m~/.pyenv/versions/zipline/lib/python3.5/site-packages/cvxpy/atoms/atom.py\u001b[0m in \u001b[0;36mvalue\u001b[0;34m(self)\u001b[0m\n\u001b[1;32m    329\u001b[0m         \u001b[0;32mif\u001b[0m \u001b[0many\u001b[0m\u001b[0;34m(\u001b[0m\u001b[0;34m[\u001b[0m\u001b[0mp\u001b[0m\u001b[0;34m.\u001b[0m\u001b[0mvalue\u001b[0m \u001b[0;32mis\u001b[0m \u001b[0;32mNone\u001b[0m \u001b[0;32mfor\u001b[0m \u001b[0mp\u001b[0m \u001b[0;32min\u001b[0m \u001b[0mself\u001b[0m\u001b[0;34m.\u001b[0m\u001b[0mparameters\u001b[0m\u001b[0;34m(\u001b[0m\u001b[0;34m)\u001b[0m\u001b[0;34m]\u001b[0m\u001b[0;34m)\u001b[0m\u001b[0;34m:\u001b[0m\u001b[0;34m\u001b[0m\u001b[0m\n\u001b[1;32m    330\u001b[0m             \u001b[0;32mreturn\u001b[0m \u001b[0;32mNone\u001b[0m\u001b[0;34m\u001b[0m\u001b[0m\n\u001b[0;32m--> 331\u001b[0;31m         \u001b[0;32mreturn\u001b[0m \u001b[0mself\u001b[0m\u001b[0;34m.\u001b[0m\u001b[0m_value_impl\u001b[0m\u001b[0;34m(\u001b[0m\u001b[0;34m)\u001b[0m\u001b[0;34m\u001b[0m\u001b[0m\n\u001b[0m\u001b[1;32m    332\u001b[0m \u001b[0;34m\u001b[0m\u001b[0m\n\u001b[1;32m    333\u001b[0m     \u001b[0;32mdef\u001b[0m \u001b[0m_value_impl\u001b[0m\u001b[0;34m(\u001b[0m\u001b[0mself\u001b[0m\u001b[0;34m)\u001b[0m\u001b[0;34m:\u001b[0m\u001b[0;34m\u001b[0m\u001b[0m\n",
      "\u001b[0;32m~/.pyenv/versions/zipline/lib/python3.5/site-packages/cvxpy/atoms/atom.py\u001b[0m in \u001b[0;36m_value_impl\u001b[0;34m(self)\u001b[0m\n\u001b[1;32m    352\u001b[0m                 \u001b[0;32melse\u001b[0m\u001b[0;34m:\u001b[0m\u001b[0;34m\u001b[0m\u001b[0m\n\u001b[1;32m    353\u001b[0m                     \u001b[0marg_values\u001b[0m\u001b[0;34m.\u001b[0m\u001b[0mappend\u001b[0m\u001b[0;34m(\u001b[0m\u001b[0marg_val\u001b[0m\u001b[0;34m)\u001b[0m\u001b[0;34m\u001b[0m\u001b[0m\n\u001b[0;32m--> 354\u001b[0;31m             \u001b[0mresult\u001b[0m \u001b[0;34m=\u001b[0m \u001b[0mself\u001b[0m\u001b[0;34m.\u001b[0m\u001b[0mnumeric\u001b[0m\u001b[0;34m(\u001b[0m\u001b[0marg_values\u001b[0m\u001b[0;34m)\u001b[0m\u001b[0;34m\u001b[0m\u001b[0m\n\u001b[0m\u001b[1;32m    355\u001b[0m         \u001b[0;32mreturn\u001b[0m \u001b[0mresult\u001b[0m\u001b[0;34m\u001b[0m\u001b[0m\n\u001b[1;32m    356\u001b[0m \u001b[0;34m\u001b[0m\u001b[0m\n",
      "\u001b[0;32m~/.pyenv/versions/zipline/lib/python3.5/site-packages/cvxpy/atoms/affine/index.py\u001b[0m in \u001b[0;36mnumeric\u001b[0;34m(self, values)\u001b[0m\n\u001b[1;32m     68\u001b[0m         \"\"\" Returns the index/slice into the given value.\n\u001b[1;32m     69\u001b[0m         \"\"\"\n\u001b[0;32m---> 70\u001b[0;31m         \u001b[0;32mreturn\u001b[0m \u001b[0mvalues\u001b[0m\u001b[0;34m[\u001b[0m\u001b[0;36m0\u001b[0m\u001b[0;34m]\u001b[0m\u001b[0;34m[\u001b[0m\u001b[0mself\u001b[0m\u001b[0;34m.\u001b[0m\u001b[0m_orig_key\u001b[0m\u001b[0;34m]\u001b[0m\u001b[0;34m\u001b[0m\u001b[0m\n\u001b[0m\u001b[1;32m     71\u001b[0m \u001b[0;34m\u001b[0m\u001b[0m\n\u001b[1;32m     72\u001b[0m     \u001b[0;32mdef\u001b[0m \u001b[0mshape_from_args\u001b[0m\u001b[0;34m(\u001b[0m\u001b[0mself\u001b[0m\u001b[0;34m)\u001b[0m\u001b[0;34m:\u001b[0m\u001b[0;34m\u001b[0m\u001b[0m\n",
      "\u001b[0;32m~/.pyenv/versions/zipline/lib/python3.5/site-packages/scipy/sparse/_index.py\u001b[0m in \u001b[0;36m__getitem__\u001b[0;34m(self, key)\u001b[0m\n\u001b[1;32m     49\u001b[0m                 \u001b[0;32mif\u001b[0m \u001b[0mrow\u001b[0m \u001b[0;34m==\u001b[0m \u001b[0mslice\u001b[0m\u001b[0;34m(\u001b[0m\u001b[0;32mNone\u001b[0m\u001b[0;34m)\u001b[0m \u001b[0;32mand\u001b[0m \u001b[0mrow\u001b[0m \u001b[0;34m==\u001b[0m \u001b[0mcol\u001b[0m\u001b[0;34m:\u001b[0m\u001b[0;34m\u001b[0m\u001b[0m\n\u001b[1;32m     50\u001b[0m                     \u001b[0;32mreturn\u001b[0m \u001b[0mself\u001b[0m\u001b[0;34m.\u001b[0m\u001b[0mcopy\u001b[0m\u001b[0;34m(\u001b[0m\u001b[0;34m)\u001b[0m\u001b[0;34m\u001b[0m\u001b[0m\n\u001b[0;32m---> 51\u001b[0;31m                 \u001b[0;32mreturn\u001b[0m \u001b[0mself\u001b[0m\u001b[0;34m.\u001b[0m\u001b[0m_get_sliceXslice\u001b[0m\u001b[0;34m(\u001b[0m\u001b[0mrow\u001b[0m\u001b[0;34m,\u001b[0m \u001b[0mcol\u001b[0m\u001b[0;34m)\u001b[0m\u001b[0;34m\u001b[0m\u001b[0m\n\u001b[0m\u001b[1;32m     52\u001b[0m             \u001b[0;32melif\u001b[0m \u001b[0mcol\u001b[0m\u001b[0;34m.\u001b[0m\u001b[0mndim\u001b[0m \u001b[0;34m==\u001b[0m \u001b[0;36m1\u001b[0m\u001b[0;34m:\u001b[0m\u001b[0;34m\u001b[0m\u001b[0m\n\u001b[1;32m     53\u001b[0m                 \u001b[0;32mreturn\u001b[0m \u001b[0mself\u001b[0m\u001b[0;34m.\u001b[0m\u001b[0m_get_sliceXarray\u001b[0m\u001b[0;34m(\u001b[0m\u001b[0mrow\u001b[0m\u001b[0;34m,\u001b[0m \u001b[0mcol\u001b[0m\u001b[0;34m)\u001b[0m\u001b[0;34m\u001b[0m\u001b[0m\n",
      "\u001b[0;32m~/.pyenv/versions/zipline/lib/python3.5/site-packages/scipy/sparse/compressed.py\u001b[0m in \u001b[0;36m_get_sliceXslice\u001b[0;34m(self, row, col)\u001b[0m\n\u001b[1;32m    650\u001b[0m         \u001b[0mmajor\u001b[0m\u001b[0;34m,\u001b[0m \u001b[0mminor\u001b[0m \u001b[0;34m=\u001b[0m \u001b[0mself\u001b[0m\u001b[0;34m.\u001b[0m\u001b[0m_swap\u001b[0m\u001b[0;34m(\u001b[0m\u001b[0;34m(\u001b[0m\u001b[0mrow\u001b[0m\u001b[0;34m,\u001b[0m \u001b[0mcol\u001b[0m\u001b[0;34m)\u001b[0m\u001b[0;34m)\u001b[0m\u001b[0;34m\u001b[0m\u001b[0m\n\u001b[1;32m    651\u001b[0m         \u001b[0;32mif\u001b[0m \u001b[0mmajor\u001b[0m\u001b[0;34m.\u001b[0m\u001b[0mstep\u001b[0m \u001b[0;32min\u001b[0m \u001b[0;34m(\u001b[0m\u001b[0;36m1\u001b[0m\u001b[0;34m,\u001b[0m \u001b[0;32mNone\u001b[0m\u001b[0;34m)\u001b[0m \u001b[0;32mand\u001b[0m \u001b[0mminor\u001b[0m\u001b[0;34m.\u001b[0m\u001b[0mstep\u001b[0m \u001b[0;32min\u001b[0m \u001b[0;34m(\u001b[0m\u001b[0;36m1\u001b[0m\u001b[0;34m,\u001b[0m \u001b[0;32mNone\u001b[0m\u001b[0;34m)\u001b[0m\u001b[0;34m:\u001b[0m\u001b[0;34m\u001b[0m\u001b[0m\n\u001b[0;32m--> 652\u001b[0;31m             \u001b[0;32mreturn\u001b[0m \u001b[0mself\u001b[0m\u001b[0;34m.\u001b[0m\u001b[0m_get_submatrix\u001b[0m\u001b[0;34m(\u001b[0m\u001b[0mmajor\u001b[0m\u001b[0;34m,\u001b[0m \u001b[0mminor\u001b[0m\u001b[0;34m,\u001b[0m \u001b[0mcopy\u001b[0m\u001b[0;34m=\u001b[0m\u001b[0;32mTrue\u001b[0m\u001b[0;34m)\u001b[0m\u001b[0;34m\u001b[0m\u001b[0m\n\u001b[0m\u001b[1;32m    653\u001b[0m         \u001b[0;32mreturn\u001b[0m \u001b[0mself\u001b[0m\u001b[0;34m.\u001b[0m\u001b[0m_major_slice\u001b[0m\u001b[0;34m(\u001b[0m\u001b[0mmajor\u001b[0m\u001b[0;34m)\u001b[0m\u001b[0;34m.\u001b[0m\u001b[0m_minor_slice\u001b[0m\u001b[0;34m(\u001b[0m\u001b[0mminor\u001b[0m\u001b[0;34m)\u001b[0m\u001b[0;34m\u001b[0m\u001b[0m\n\u001b[1;32m    654\u001b[0m \u001b[0;34m\u001b[0m\u001b[0m\n",
      "\u001b[0;32m~/.pyenv/versions/zipline/lib/python3.5/site-packages/scipy/sparse/compressed.py\u001b[0m in \u001b[0;36m_get_submatrix\u001b[0;34m(self, major, minor, copy)\u001b[0m\n\u001b[1;32m    787\u001b[0m \u001b[0;34m\u001b[0m\u001b[0m\n\u001b[1;32m    788\u001b[0m         indptr, indices, data = get_csr_submatrix(\n\u001b[0;32m--> 789\u001b[0;31m             M, N, self.indptr, self.indices, self.data, i0, i1, j0, j1)\n\u001b[0m\u001b[1;32m    790\u001b[0m \u001b[0;34m\u001b[0m\u001b[0m\n\u001b[1;32m    791\u001b[0m         \u001b[0mshape\u001b[0m \u001b[0;34m=\u001b[0m \u001b[0mself\u001b[0m\u001b[0;34m.\u001b[0m\u001b[0m_swap\u001b[0m\u001b[0;34m(\u001b[0m\u001b[0;34m(\u001b[0m\u001b[0mi1\u001b[0m \u001b[0;34m-\u001b[0m \u001b[0mi0\u001b[0m\u001b[0;34m,\u001b[0m \u001b[0mj1\u001b[0m \u001b[0;34m-\u001b[0m \u001b[0mj0\u001b[0m\u001b[0;34m)\u001b[0m\u001b[0;34m)\u001b[0m\u001b[0;34m\u001b[0m\u001b[0m\n",
      "\u001b[0;31mKeyboardInterrupt\u001b[0m: "
     ]
    }
   ],
   "source": [
    "test_period = momentum.loc['2015-05-01':'2015-07-31'].index\n",
    "print(test_period[:5])\n",
    "initial_holdings = np.zeros((len(momentum.columns), 1))\n",
    "port = backtest(test_period, initial_holdings, returns, momentum, 10000)"
   ]
  },
  {
   "cell_type": "code",
   "execution_count": 76,
   "metadata": {},
   "outputs": [
    {
     "name": "stdout",
     "output_type": "stream",
     "text": [
      "factor_0    0.002008\n",
      "factor_1    0.006009\n",
      "factor_2    0.003795\n",
      "factor_3    0.015021\n",
      "factor_4    0.002467\n",
      "dtype: float64\n"
     ]
    },
    {
     "name": "stderr",
     "output_type": "stream",
     "text": [
      "/Users/richard.wuebker/.pyenv/versions/zipline/lib/python3.5/site-packages/matplotlib/figure.py:98: MatplotlibDeprecationWarning: \n",
      "Adding an axes using the same arguments as a previous axes currently reuses the earlier instance.  In a future version, a new instance will always be created and returned.  Meanwhile, this warning can be suppressed, and the future behavior ensured, by passing a unique label to each axes instance.\n",
      "  \"Adding an axes using the same arguments as a previous axes \"\n"
     ]
    },
    {
     "data": {
      "image/png": "[encoded data removed]",
      "text/plain": [
       "<Figure size 1440x576 with 1 Axes>"
      ]
     },
     "metadata": {
      "needs_background": "light"
     },
     "output_type": "display_data"
    }
   ],
   "source": [
    "index_ = list(port.keys())[-1]\n",
    "p = port[index_]\n",
    "print(p['risk.exposures'].head())\n",
    "\n",
    "optimal_weights = p['h.opt']\n",
    "figsize(20, 8)\n",
    "optimal_weights.plot.bar(legend=None, title='Portfolio % Holdings by Stock')\n",
    "x_axis = plt.axes().get_xaxis()\n",
    "x_axis.set_visible(False)\n",
    "plt.tight_layout()"
   ]
  },
  {
   "cell_type": "code",
   "execution_count": 77,
   "metadata": {},
   "outputs": [
    {
     "name": "stdout",
     "output_type": "stream",
     "text": [
      "average long holdings:  13.1234\n",
      "max long holding:  95.9873\n",
      "average short holdings:  -13.8889\n",
      "max short holding:  -148.7307\n",
      "gmv =  holdings    10000.000002\n",
      "dtype: float64\n"
     ]
    }
   ],
   "source": [
    "print('average long holdings: ', optimal_weights.loc[optimal_weights['holdings'] > 0].mean().values[0].round(4))\n",
    "print('max long holding: ', optimal_weights.loc[optimal_weights['holdings'] > 0].max().values[0].round(4))\n",
    "print('average short holdings: ', optimal_weights.loc[optimal_weights['holdings'] <= 0].mean().values[0].round(4))\n",
    "print('max short holding: ', optimal_weights.loc[optimal_weights['holdings'] < 0].min().values[0].round(4))\n",
    "print('gmv = ', optimal_weights.loc[optimal_weights['holdings'] > 0].sum() + optimal_weights.loc[optimal_weights['holdings'] < 0].abs().sum().values[0])"
   ]
  },
  {
   "cell_type": "code",
   "execution_count": 78,
   "metadata": {},
   "outputs": [
    {
     "name": "stdout",
     "output_type": "stream",
     "text": [
      "ticker          AAPL\n",
      "Date                \n",
      "2014-01-02 -0.014064\n",
      "2014-01-03 -0.021966\n",
      "2014-01-06  0.005453\n",
      "2014-01-07 -0.007152\n",
      "2014-01-08  0.006333\n",
      "ticker          AAPL\n",
      "Date                \n",
      "2014-01-02  0.005453\n",
      "2014-01-03 -0.007152\n",
      "2014-01-06  0.006333\n",
      "2014-01-07 -0.012770\n",
      "2014-01-08 -0.006673\n"
     ]
    }
   ],
   "source": [
    "shifted_rets = rets.shift(-2)\n",
    "print(rets.loc[:,['AAPL']].head())\n",
    "print(shifted_rets.loc[:,['AAPL']].head())"
   ]
  },
  {
   "cell_type": "code",
   "execution_count": 79,
   "metadata": {},
   "outputs": [],
   "source": [
    "def wins(x, a=-0.50, b=0.50):\n",
    "    return np.where(x <= a,a, np.where(x >= b, b, x))"
   ]
  },
  {
   "cell_type": "code",
   "execution_count": 80,
   "metadata": {},
   "outputs": [],
   "source": [
    "def estimate_factor_returns(exposures, returns):\n",
    "    lr = LinearRegression()\n",
    "    lr.fit(exposures, returns)\n",
    "    return lr.coef_\n",
    "    "
   ]
  },
  {
   "cell_type": "code",
   "execution_count": 81,
   "metadata": {},
   "outputs": [],
   "source": [
    "def build_pnl_attribution(port, returns, alpha, date_index):\n",
    "    df = pd.DataFrame(index=date_index)\n",
    "    \n",
    "    for date_ in date_index:\n",
    "        date_str = date_.strftime('%Y%m%d')\n",
    "        rets = returns.loc[date_, :].apply(wins)\n",
    "        p = port[date_str]\n",
    "        \n",
    "        df.at[date_, 'daily.pnl'] = np.sum(p['h.opt']['holdings'] * rets)\n",
    "        \n",
    "        alpha_returns = estimate_factor_returns(p['alpha.vector'].values.reshape((len(p['alpha.vector']), 1)), wins(rets, -0.25, 0.25))\n",
    "        df.at[date_, 'attribution.alpha.pnl'] = np.sum(alpha_returns * p['alpha.exposures'])\n",
    "        \n",
    "        factor_returns = estimate_factor_returns(p['factor.exposures'], wins(rets, -0.25, 0.25))\n",
    "        df.at[date_, 'attribution.risk.pnl'] = np.sum(factor_returns * p['risk.exposures'])\n",
    "        df.at[date_, 't.costs'] = p['t.costs']\n",
    "        \n",
    "        \n",
    "    return df\n"
   ]
  },
  {
   "cell_type": "code",
   "execution_count": 82,
   "metadata": {},
   "outputs": [],
   "source": [
    "df = build_pnl_attribution(port, shifted_rets, momentum, test_period)"
   ]
  },
  {
   "cell_type": "code",
   "execution_count": 83,
   "metadata": {},
   "outputs": [
    {
     "data": {
      "image/png": "[encoded data removed]",
      "text/plain": [
       "<Figure size 1440x576 with 1 Axes>"
      ]
     },
     "metadata": {
      "needs_background": "light"
     },
     "output_type": "display_data"
    }
   ],
   "source": [
    "attr = build_pnl_attribution(port, shifted_rets, momentum, test_period)\n",
    "\n",
    "for column in attr.columns:\n",
    "    plt.plot(attr[column].cumsum(), label=column)\n",
    "plt.legend(loc='upper left')\n",
    "plt.xlabel('Date')\n",
    "plt.ylabel('PnL Attribution')\n",
    "plt.show()"
   ]
  },
  {
   "cell_type": "code",
   "execution_count": 68,
   "metadata": {},
   "outputs": [],
   "source": [
    "def build_portfolio_characteristics(my_dates, port): \n",
    "    df = pd.DataFrame(index = my_dates)\n",
    "    \n",
    "    for dt in my_dates:\n",
    "        date = dt.strftime('%Y%m%d')\n",
    "  \n",
    "        p = port[date]\n",
    "        h = p['h.opt']\n",
    "        h0 = pd.DataFrame(p['h.opt.previous'], index=h.index)\n",
    "        \n",
    "        # TODO: Implement\n",
    "        longs = np.sum(h[h>0]).values\n",
    "        shorts = np.sum(h[h<0]).values\n",
    "\n",
    "        df.at[dt,\"long\"] = longs\n",
    "        df.at[dt,\"short\"] = shorts\n",
    "        df.at[dt,\"net\"] = longs + shorts\n",
    "        df.at[dt,\"gmv\"] = longs + np.abs(shorts)\n",
    "        \n",
    "        #df.at[dt,\"traded\"] = np.sum(np.abs(h - h0)).values\n",
    "        \n",
    "    return df"
   ]
  },
  {
   "cell_type": "code",
   "execution_count": 69,
   "metadata": {},
   "outputs": [
    {
     "data": {
      "image/png": "[encoded data removed]",
      "text/plain": [
       "<Figure size 1440x576 with 1 Axes>"
      ]
     },
     "metadata": {
      "needs_background": "light"
     },
     "output_type": "display_data"
    }
   ],
   "source": [
    "pchar = build_portfolio_characteristics(test_period, port)\n",
    "\n",
    "for column in pchar.columns:\n",
    "    plt.plot(pchar[column], label=column)\n",
    "plt.legend(loc='upper left')\n",
    "plt.xlabel('Date')\n",
    "plt.ylabel('Portfolio')\n",
    "plt.show()"
   ]
  },
  {
   "cell_type": "code",
   "execution_count": null,
   "metadata": {},
   "outputs": [],
   "source": []
  }
 ],
 "metadata": {
  "kernelspec": {
   "display_name": "Python 3",
   "language": "python",
   "name": "python3"
  },
  "language_info": {
   "codemirror_mode": {
    "name": "ipython",
    "version": 3
   },
   "file_extension": ".py",
   "mimetype": "text/x-python",
   "name": "python",
   "nbconvert_exporter": "python",
   "pygments_lexer": "ipython3",
   "version": "3.5.4"
  }
 },
 "nbformat": 4,
 "nbformat_minor": 2
}
